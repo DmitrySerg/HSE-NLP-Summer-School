{
 "cells": [
  {
   "cell_type": "markdown",
   "metadata": {
    "deletable": true,
    "editable": true
   },
   "source": [
    "# HSE Summer School NLP&DA\n",
    "\n",
    "![](https://www.hse.ru/data/2014/06/25/1309038576/logo_hse_cmyk_e.jpg)\n",
    "\n",
    "Учебный проект по теме \"Тональность отношений субъектов (именованных сущностей)\", предполагающий разработку участниками школы под руководством тьюторов программных средств, решающих задачу определения мнения сторон о различных событиях, освещаемых в новостях"
   ]
  },
  {
   "cell_type": "markdown",
   "metadata": {},
   "source": [
    "Нужен алгоритм, который по выделенным сущностям может найти пары этих сущностей в тексте и вырезать соответствующие куски между ними + несколько слов справа-слева. Возможно, имеет смысл идти от N-ой выделенной сущности до N+2, и включать всё до неё. \n",
    "\n",
    "Чем может помочь синтаксический анализ?\n",
    "\n",
    "Чем поможет морфологический анализ?"
   ]
  },
  {
   "cell_type": "code",
   "execution_count": 1,
   "metadata": {
    "collapsed": false,
    "deletable": true,
    "editable": true
   },
   "outputs": [],
   "source": [
    "import sys \n",
    "sys.path.append(\"/Users/dmitrys/anaconda2/lib/python2.7/site-packages/\")\n",
    "import pandas as pd\n",
    "import numpy as np\n",
    "import matplotlib.pyplot as plt\n",
    "import seaborn as sns\n",
    "import pymorphy2\n",
    "from nltk.tokenize import TweetTokenizer\n",
    "tknzr = TweetTokenizer()\n",
    "\n",
    "import pymorphy2\n",
    "morph = pymorphy2.MorphAnalyzer()\n",
    "\n",
    "\n",
    "from pymystem3 import Mystem\n",
    "\n",
    "m = Mystem()\n",
    "def lemmatize(text, mystem=m):\n",
    "    try:\n",
    "        return \"\".join(m.lemmatize(text)).strip()  \n",
    "    except:\n",
    "        return \" \"\n",
    "\n",
    "import string\n",
    "%matplotlib inline"
   ]
  },
  {
   "cell_type": "code",
   "execution_count": 2,
   "metadata": {
    "collapsed": true
   },
   "outputs": [],
   "source": [
    "def commit():\n",
    "    ! git add NLP_summerschool.ipynb\n",
    "    ! git commit -m \"changed while loop\"\n",
    "    ! git push -u origin master"
   ]
  },
  {
   "cell_type": "code",
   "execution_count": 3,
   "metadata": {
    "collapsed": false
   },
   "outputs": [
    {
     "name": "stdout",
     "output_type": "stream",
     "text": [
      "[master 35f3a4d] changed while loop\n",
      " 1 file changed, 96 insertions(+), 196 deletions(-)\n",
      "Counting objects: 3, done.\n",
      "Delta compression using up to 4 threads.\n",
      "Compressing objects: 100% (3/3), done.\n",
      "Writing objects: 100% (3/3), 842 bytes | 0 bytes/s, done.\n",
      "Total 3 (delta 2), reused 0 (delta 0)\n",
      "remote: Resolving deltas: 100% (2/2), completed with 2 local objects.\u001b[K\n",
      "To https://github.com/DmitrySerg/HSE-NLP-Summer-School.git\n",
      "   598e08d..35f3a4d  master -> master\n",
      "Branch master set up to track remote branch master from origin.\n"
     ]
    }
   ],
   "source": [
    "commit()"
   ]
  },
  {
   "cell_type": "markdown",
   "metadata": {
    "deletable": true,
    "editable": true
   },
   "source": [
    "## Utility functions"
   ]
  },
  {
   "cell_type": "code",
   "execution_count": 3,
   "metadata": {
    "code_folding": [
     0,
     5,
     35,
     81
    ],
    "collapsed": false,
    "deletable": true,
    "editable": true
   },
   "outputs": [],
   "source": [
    "def loadAnswer(number):\n",
    "    with open(\"Texts/art{}.opin.txt\".format(number)) as f:\n",
    "        d = f.read()\n",
    "    return d\n",
    "\n",
    "def loadText(number):\n",
    "    with open(\"Texts/art{}.txt\".format(number)) as f:\n",
    "        d = f.read()\n",
    "    return d\n",
    "\n",
    "def transformAnnotation(number):\n",
    "    \"\"\"\n",
    "    Given number loads txt file with annotation \n",
    "    Returns DataFrame with transformed annotation\n",
    "    \"\"\"\n",
    "    with open(\"Texts/art{}.ann\".format(number)) as f:\n",
    "        d = f.read()\n",
    "\n",
    "    d = d.split(\"\\n\")\n",
    "\n",
    "    for i in range(len(d)):\n",
    "        d[i] = d[i].split(\"\\t\")\n",
    "\n",
    "    d = pd.DataFrame(d)\n",
    "    d.drop([0], axis=1, inplace=True)\n",
    "    d = pd.concat([d, pd.DataFrame(d[1].apply(lambda x: x.split()).tolist())], axis=1)\n",
    "    d.columns = [\"to_delete\", \"entity\", \"entity_car\", \"pos_1\", \"pos_2\"]\n",
    "    d.drop([\"to_delete\"], axis=1, inplace=True)\n",
    "    d[\"entity\"] = d[\"entity\"].apply(lambda x: x.strip(\"\\r\"))\n",
    "    d[\"entity\"] = d[\"entity\"].apply(lambda x: x.decode(\"utf8\"))\n",
    "    \n",
    "    d = d[~d.entity.isin([\"Unknown\", \"Author\"])].entity.reset_index(drop=True)\n",
    "    \n",
    "    return d\n",
    "\n",
    "def transformAnswer(number):\n",
    "    \"\"\"\n",
    "    Given number loads txt file with answer \n",
    "    Returns DataFrame with transformed answer\n",
    "    \"\"\"\n",
    "    answ = loadAnswer(number)\n",
    "    answ = answ.split(\"\\n\")\n",
    "\n",
    "    for i in range(len(answ)):\n",
    "        answ[i] = answ[i].split(\",\")\n",
    "\n",
    "    answ = pd.DataFrame(answ)\n",
    "    answ.columns = [\"entity_1\", \"entity_2\", \"attitude\", \"time\"]\n",
    "    answ.dropna(inplace=True)\n",
    "    answ.time = answ.time.apply(lambda x: x.strip(\"\\r\"))\n",
    "    \n",
    "    return answ\n",
    "\n",
    "def loadRuSentiLex():\n",
    "    \"\"\"\n",
    "    Loads the RuSentiLex 2017 dictionary\n",
    "    Returns data frame with [\"word\", \"tag\", \"word_lemmatized\", \"tone\", \"certainty\"]\n",
    "    \"\"\"\n",
    "    with open(\"RuSentiLex2017_revised_2.txt\") as f:\n",
    "        Rusentilex = f.read().decode(\"cp1251\").encode(\"utf8\")\n",
    "        Rusentilex = Rusentilex[1510:]\n",
    "\n",
    "    Rusentilex = Rusentilex.split(\"\\n\")\n",
    "    for i, item in enumerate(Rusentilex):\n",
    "        Rusentilex[i] = item.split(\",\")\n",
    "\n",
    "    for i in Rusentilex:\n",
    "        if len(i) < 5:\n",
    "            Rusentilex.remove(i)\n",
    "\n",
    "    Rusentilex = pd.DataFrame(Rusentilex)\n",
    "    Rusentilex.drop([5, 6, 7], axis=1, inplace=True)\n",
    "    Rusentilex.columns = [\"word\", \"tag\", \"word_lemmatized\", \"tone\", \"certainty\"]\n",
    "    Rusentilex[\"certainty\"] = Rusentilex[\"certainty\"].apply(lambda x: x.strip('\\r'))\n",
    "    \n",
    "    \n",
    "    Rusentilex[\"tone\"] = Rusentilex[\"tone\"].apply(lambda x: x.strip(' '))\n",
    "    Rusentilex[\"certainty\"] = Rusentilex[\"certainty\"].apply(lambda x: x.strip(' '))\n",
    "    \n",
    "    return Rusentilex\n",
    "\n",
    "def cleanString(myString):\n",
    "    return myString.translate(None, string.punctuation).decode('utf-8')\n",
    "\n",
    "def getSentimentCertainity(word):\n",
    "    word = lemmatize(word)\n",
    "    try:\n",
    "        tone, certainty =  Rusentilex[[\"tone\", \"certainty\"]][Rusentilex.word.isin([word])].values[0]\n",
    "    except:\n",
    "        tone, certainty = np.NaN, np.NaN\n",
    "    return tone, certainty"
   ]
  },
  {
   "cell_type": "markdown",
   "metadata": {
    "deletable": true,
    "editable": true
   },
   "source": [
    "![](http://cathyreisenwitz.com/wp-content/uploads/2016/01/no.jpg)"
   ]
  },
  {
   "cell_type": "markdown",
   "metadata": {},
   "source": [
    "Словарь РуСентиЛекс\n",
    "\n",
    "Структура: \n",
    "- 1 слово или словосочетание,\n",
    "- 2 Часть речи или синтаксический тип группы,\n",
    "- 3 слово или словосочетание в лемматизированной форме, \n",
    "- 4 Тональность: позитивная (positive), негативная(negative), нейтральная (neutral) или неопределеная оценка, зависит от контекста (positive/negative),\n",
    "- 5 Источник: оценка (opinion), чувство (feeling), факт (fact),\n",
    "- 6 Если тональность отличается для разных значений многозначного слова, то перечисляются все значения слова по тезаурусу РуТез и дается отсылка на сооветствующее понятие - имя понятия в кавычках."
   ]
  },
  {
   "cell_type": "code",
   "execution_count": 4,
   "metadata": {
    "collapsed": false
   },
   "outputs": [],
   "source": [
    "Rusentilex = loadRuSentiLex()"
   ]
  },
  {
   "cell_type": "code",
   "execution_count": 5,
   "metadata": {
    "collapsed": false
   },
   "outputs": [
    {
     "data": {
      "text/html": [
       "<div>\n",
       "<style>\n",
       "    .dataframe thead tr:only-child th {\n",
       "        text-align: right;\n",
       "    }\n",
       "\n",
       "    .dataframe thead th {\n",
       "        text-align: left;\n",
       "    }\n",
       "\n",
       "    .dataframe tbody tr th {\n",
       "        vertical-align: top;\n",
       "    }\n",
       "</style>\n",
       "<table border=\"1\" class=\"dataframe\">\n",
       "  <thead>\n",
       "    <tr style=\"text-align: right;\">\n",
       "      <th></th>\n",
       "      <th>word</th>\n",
       "      <th>tag</th>\n",
       "      <th>word_lemmatized</th>\n",
       "      <th>tone</th>\n",
       "      <th>certainty</th>\n",
       "    </tr>\n",
       "  </thead>\n",
       "  <tbody>\n",
       "    <tr>\n",
       "      <th>0</th>\n",
       "      <td>аборт</td>\n",
       "      <td>Noun</td>\n",
       "      <td>аборт</td>\n",
       "      <td>negative</td>\n",
       "      <td>fact</td>\n",
       "    </tr>\n",
       "    <tr>\n",
       "      <th>1</th>\n",
       "      <td>абортивный</td>\n",
       "      <td>Adj</td>\n",
       "      <td>абортивный</td>\n",
       "      <td>negative</td>\n",
       "      <td>fact</td>\n",
       "    </tr>\n",
       "    <tr>\n",
       "      <th>2</th>\n",
       "      <td>абракадабра</td>\n",
       "      <td>Noun</td>\n",
       "      <td>абракадабра</td>\n",
       "      <td>negative</td>\n",
       "      <td>opinion</td>\n",
       "    </tr>\n",
       "    <tr>\n",
       "      <th>3</th>\n",
       "      <td>абсурд</td>\n",
       "      <td>Noun</td>\n",
       "      <td>абсурд</td>\n",
       "      <td>negative</td>\n",
       "      <td>opinion</td>\n",
       "    </tr>\n",
       "    <tr>\n",
       "      <th>4</th>\n",
       "      <td>абсурдность</td>\n",
       "      <td>Noun</td>\n",
       "      <td>абсурдность</td>\n",
       "      <td>negative</td>\n",
       "      <td>opinion</td>\n",
       "    </tr>\n",
       "  </tbody>\n",
       "</table>\n",
       "</div>"
      ],
      "text/plain": [
       "          word    tag word_lemmatized      tone certainty\n",
       "0        аборт   Noun           аборт  negative      fact\n",
       "1   абортивный    Adj      абортивный  negative      fact\n",
       "2  абракадабра   Noun     абракадабра  negative   opinion\n",
       "3       абсурд   Noun          абсурд  negative   opinion\n",
       "4  абсурдность   Noun     абсурдность  negative   opinion"
      ]
     },
     "execution_count": 5,
     "metadata": {},
     "output_type": "execute_result"
    }
   ],
   "source": [
    "Rusentilex.head()"
   ]
  },
  {
   "cell_type": "code",
   "execution_count": 6,
   "metadata": {
    "collapsed": false
   },
   "outputs": [
    {
     "data": {
      "text/plain": [
       "opinion             9269\n",
       "fact                5297\n",
       "feeling             1536\n",
       "operator              41\n",
       "negative               2\n",
       "positive               2\n",
       "fact В ТЕЗ empty       1\n",
       "fact В ТЕЗ EMPTY       1\n",
       "opinegativenion        1\n",
       "Name: certainty, dtype: int64"
      ]
     },
     "execution_count": 6,
     "metadata": {},
     "output_type": "execute_result"
    }
   ],
   "source": [
    "Rusentilex.certainty.value_counts()"
   ]
  },
  {
   "cell_type": "code",
   "execution_count": 7,
   "metadata": {
    "collapsed": false
   },
   "outputs": [],
   "source": [
    "# x = \"\"\n",
    "# for i in range(50):\n",
    "#     try:\n",
    "#         x+=\"=============================\\n\"\n",
    "#         x+=\"=============================\\n\"\n",
    "#         x+=\"=============================\\n\"\n",
    "#         x+= loadAnswer(i)\n",
    "#     except:\n",
    "#         continue\n",
    "# with open(\"FULLTEXT.txt\", \"w\") as f:\n",
    "#     f.write(x)"
   ]
  },
  {
   "cell_type": "code",
   "execution_count": 8,
   "metadata": {
    "collapsed": false
   },
   "outputs": [
    {
     "data": {
      "text/plain": [
       "('negative', 'fact')"
      ]
     },
     "execution_count": 8,
     "metadata": {},
     "output_type": "execute_result"
    }
   ],
   "source": [
    "getSentimentCertainity(u\"абортами\".encode(\"utf8\"))"
   ]
  },
  {
   "cell_type": "code",
   "execution_count": 9,
   "metadata": {
    "collapsed": true,
    "deletable": true,
    "editable": true
   },
   "outputs": [],
   "source": [
    "def Text_to_dict(number):\n",
    "    t = loadText(number)\n",
    "    text_dict = t.split(\"\\n\\n\")\n",
    "    text_dict = {i:parag for i, parag in enumerate(text_dict)}\n",
    "    sentence_dict = {i:{} for i in range(len(text_dict))}\n",
    "\n",
    "    for key, paragraph in text_dict.iteritems():\n",
    "        paragraph = paragraph.split(\"{Author, Unknown}\")\n",
    "        for sent_numbet, sentence in enumerate(paragraph):\n",
    "\n",
    "            sentence = cleanString(sentence)\n",
    "            if len(sentence) != 0:\n",
    "                sentence_dict[key][sent_numbet] = sentence\n",
    "                #tknzr.tokenize()\n",
    "    return sentence_dict"
   ]
  },
  {
   "cell_type": "code",
   "execution_count": 10,
   "metadata": {
    "code_folding": [],
    "collapsed": false
   },
   "outputs": [],
   "source": [
    "# for key, value in t.iteritems():\n",
    "#     print(\"paragraph number\", key)\n",
    "#     for another_key, another_value in value.iteritems():\n",
    "        \n",
    "#         print(\"sentence_number\", another_key)\n",
    "#         for word in another_value:\n",
    "#             print word"
   ]
  },
  {
   "cell_type": "code",
   "execution_count": 11,
   "metadata": {
    "collapsed": false,
    "deletable": true,
    "editable": true
   },
   "outputs": [],
   "source": [
    "text = Text_to_dict(10)\n",
    "entities = transformAnnotation(10)\n",
    "answer = transformAnswer(10) "
   ]
  },
  {
   "cell_type": "code",
   "execution_count": 12,
   "metadata": {
    "collapsed": false
   },
   "outputs": [],
   "source": [
    "def getEntityPositions(text, entities):\n",
    "    \"\"\"\n",
    "    This bad boy finds (hopefully) all entities in the text\n",
    "    Collects their exact locations and returns a neat Dataframe with them\n",
    "    \"\"\"\n",
    "    \n",
    "    ENTITIES = pd.DataFrame(columns=[\"entity\", \"paragraph\", \"sentence\", \"loc_start\", \"loc_end\"])\n",
    "    \n",
    "    for paragraph in text:\n",
    "        for sentence in text[paragraph]:\n",
    "            for entity in list(entities.unique()):\n",
    "                if \" \" + entity + \" \" in \" \" + text[paragraph][sentence] +  \" \":\n",
    "                    loc_start = text[paragraph][sentence].find(entity)\n",
    "                    loc_end = loc_start + len(entity)\n",
    "                    \n",
    "                    to_append =   {\"entity\":entity, \n",
    "                                   \"paragraph\":paragraph, \n",
    "                                   \"sentence\":sentence,\n",
    "                                   \"loc_start\":loc_start,\n",
    "                                   \"loc_end\":loc_end}\n",
    "                    \n",
    "                    ENTITIES = ENTITIES.append(to_append, ignore_index = True)\n",
    "    ENTITIES = ENTITIES.drop_duplicates()\n",
    "    ENTITIES = ENTITIES.sort_values(by=[\"paragraph\", \"sentence\", \"loc_start\"])\n",
    "    ENTITIES = ENTITIES.reset_index(drop=True)\n",
    "    return ENTITIES"
   ]
  },
  {
   "cell_type": "code",
   "execution_count": 13,
   "metadata": {
    "collapsed": false
   },
   "outputs": [],
   "source": [
    "ENTITIES = getEntityPositions(text, entities)"
   ]
  },
  {
   "cell_type": "code",
   "execution_count": 14,
   "metadata": {
    "collapsed": false
   },
   "outputs": [
    {
     "data": {
      "text/html": [
       "<div>\n",
       "<style>\n",
       "    .dataframe thead tr:only-child th {\n",
       "        text-align: right;\n",
       "    }\n",
       "\n",
       "    .dataframe thead th {\n",
       "        text-align: left;\n",
       "    }\n",
       "\n",
       "    .dataframe tbody tr th {\n",
       "        vertical-align: top;\n",
       "    }\n",
       "</style>\n",
       "<table border=\"1\" class=\"dataframe\">\n",
       "  <thead>\n",
       "    <tr style=\"text-align: right;\">\n",
       "      <th></th>\n",
       "      <th>entity_1</th>\n",
       "      <th>entity_2</th>\n",
       "      <th>attitude</th>\n",
       "      <th>time</th>\n",
       "    </tr>\n",
       "  </thead>\n",
       "  <tbody>\n",
       "    <tr>\n",
       "      <th>0</th>\n",
       "      <td>Россия</td>\n",
       "      <td>Австралия</td>\n",
       "      <td>neg</td>\n",
       "      <td>current</td>\n",
       "    </tr>\n",
       "    <tr>\n",
       "      <th>1</th>\n",
       "      <td>Австралия</td>\n",
       "      <td>Россия</td>\n",
       "      <td>neg</td>\n",
       "      <td>current</td>\n",
       "    </tr>\n",
       "    <tr>\n",
       "      <th>2</th>\n",
       "      <td>Обама</td>\n",
       "      <td>ИГ</td>\n",
       "      <td>neg</td>\n",
       "      <td>current</td>\n",
       "    </tr>\n",
       "    <tr>\n",
       "      <th>3</th>\n",
       "      <td>Запад</td>\n",
       "      <td>Россия</td>\n",
       "      <td>neg</td>\n",
       "      <td>current</td>\n",
       "    </tr>\n",
       "    <tr>\n",
       "      <th>4</th>\n",
       "      <td>Россия</td>\n",
       "      <td>Запад</td>\n",
       "      <td>neg</td>\n",
       "      <td>current</td>\n",
       "    </tr>\n",
       "    <tr>\n",
       "      <th>5</th>\n",
       "      <td>Россия</td>\n",
       "      <td>Сирия</td>\n",
       "      <td>neg</td>\n",
       "      <td>current</td>\n",
       "    </tr>\n",
       "    <tr>\n",
       "      <th>6</th>\n",
       "      <td>Франция</td>\n",
       "      <td>Россия</td>\n",
       "      <td>pos</td>\n",
       "      <td>current</td>\n",
       "    </tr>\n",
       "    <tr>\n",
       "      <th>7</th>\n",
       "      <td>author</td>\n",
       "      <td>Россия</td>\n",
       "      <td>neg</td>\n",
       "      <td>current</td>\n",
       "    </tr>\n",
       "    <tr>\n",
       "      <th>8</th>\n",
       "      <td>Обама</td>\n",
       "      <td>Асад</td>\n",
       "      <td>neg</td>\n",
       "      <td>current</td>\n",
       "    </tr>\n",
       "    <tr>\n",
       "      <th>9</th>\n",
       "      <td>author</td>\n",
       "      <td>Обама</td>\n",
       "      <td>neg</td>\n",
       "      <td>current</td>\n",
       "    </tr>\n",
       "    <tr>\n",
       "      <th>10</th>\n",
       "      <td>author</td>\n",
       "      <td>Путин</td>\n",
       "      <td>neg</td>\n",
       "      <td>current</td>\n",
       "    </tr>\n",
       "    <tr>\n",
       "      <th>11</th>\n",
       "      <td>author</td>\n",
       "      <td>Асад</td>\n",
       "      <td>neg</td>\n",
       "      <td>current</td>\n",
       "    </tr>\n",
       "    <tr>\n",
       "      <th>12</th>\n",
       "      <td>Россия</td>\n",
       "      <td>Украина</td>\n",
       "      <td>neg</td>\n",
       "      <td>current</td>\n",
       "    </tr>\n",
       "    <tr>\n",
       "      <th>13</th>\n",
       "      <td>Украина</td>\n",
       "      <td>Россия</td>\n",
       "      <td>neg</td>\n",
       "      <td>current</td>\n",
       "    </tr>\n",
       "    <tr>\n",
       "      <th>14</th>\n",
       "      <td>Христо Грозев</td>\n",
       "      <td>Россия</td>\n",
       "      <td>neg</td>\n",
       "      <td>current</td>\n",
       "    </tr>\n",
       "    <tr>\n",
       "      <th>15</th>\n",
       "      <td>Герхард Гнаук</td>\n",
       "      <td>Россия</td>\n",
       "      <td>neg</td>\n",
       "      <td>current</td>\n",
       "    </tr>\n",
       "    <tr>\n",
       "      <th>16</th>\n",
       "      <td>Вильям Тейлор</td>\n",
       "      <td>Россия</td>\n",
       "      <td>neg</td>\n",
       "      <td>current</td>\n",
       "    </tr>\n",
       "    <tr>\n",
       "      <th>17</th>\n",
       "      <td>Вильям Тейлор</td>\n",
       "      <td>ИГИЛ</td>\n",
       "      <td>neg</td>\n",
       "      <td>current</td>\n",
       "    </tr>\n",
       "    <tr>\n",
       "      <th>18</th>\n",
       "      <td>Владимир Огрызко</td>\n",
       "      <td>Россия</td>\n",
       "      <td>neg</td>\n",
       "      <td>current</td>\n",
       "    </tr>\n",
       "    <tr>\n",
       "      <th>19</th>\n",
       "      <td>Татьяна Кастуева-Жан</td>\n",
       "      <td>Россия</td>\n",
       "      <td>neg</td>\n",
       "      <td>current</td>\n",
       "    </tr>\n",
       "    <tr>\n",
       "      <th>20</th>\n",
       "      <td>Франция</td>\n",
       "      <td>Асад</td>\n",
       "      <td>neg</td>\n",
       "      <td>past</td>\n",
       "    </tr>\n",
       "    <tr>\n",
       "      <th>21</th>\n",
       "      <td>Франция</td>\n",
       "      <td>ИГИЛ</td>\n",
       "      <td>neg</td>\n",
       "      <td>current</td>\n",
       "    </tr>\n",
       "  </tbody>\n",
       "</table>\n",
       "</div>"
      ],
      "text/plain": [
       "                entity_1    entity_2 attitude      time\n",
       "0                 Россия   Австралия      neg   current\n",
       "1              Австралия      Россия      neg   current\n",
       "2                  Обама          ИГ      neg   current\n",
       "3                  Запад      Россия      neg   current\n",
       "4                 Россия       Запад      neg   current\n",
       "5                 Россия       Сирия      neg   current\n",
       "6                Франция      Россия      pos   current\n",
       "7                 author      Россия      neg   current\n",
       "8                  Обама        Асад      neg   current\n",
       "9                 author       Обама      neg   current\n",
       "10                author       Путин      neg   current\n",
       "11                author        Асад      neg   current\n",
       "12                Россия     Украина      neg   current\n",
       "13               Украина      Россия      neg   current\n",
       "14         Христо Грозев      Россия      neg   current\n",
       "15         Герхард Гнаук      Россия      neg   current\n",
       "16         Вильям Тейлор      Россия      neg   current\n",
       "17         Вильям Тейлор        ИГИЛ      neg   current\n",
       "18      Владимир Огрызко      Россия      neg   current\n",
       "19  Татьяна Кастуева-Жан      Россия      neg   current\n",
       "20               Франция        Асад      neg      past\n",
       "21               Франция        ИГИЛ      neg   current"
      ]
     },
     "execution_count": 14,
     "metadata": {},
     "output_type": "execute_result"
    }
   ],
   "source": [
    "answer"
   ]
  },
  {
   "cell_type": "code",
   "execution_count": 15,
   "metadata": {
    "collapsed": false
   },
   "outputs": [
    {
     "name": "stdout",
     "output_type": "stream",
     "text": [
      "Москва\n",
      "Шенген\n",
      "Запад-Россия\n",
      "Сирии-России\n",
      "Лондон\n",
      "Брюссель\n",
      "прим. авт\n",
      "Россию\n",
      "Варшаве\n",
      "Вашингтон\n",
      "Киев\n",
      "Фигаро\n",
      "Татьяна Кастуева-Жан\n",
      "Париж\n"
     ]
    }
   ],
   "source": [
    "for entity in entities.unique():\n",
    "    if entity not in ENTITIES.entity.unique():\n",
    "        print entity"
   ]
  },
  {
   "cell_type": "code",
   "execution_count": 16,
   "metadata": {
    "collapsed": false
   },
   "outputs": [
    {
     "data": {
      "text/html": [
       "<div>\n",
       "<style>\n",
       "    .dataframe thead tr:only-child th {\n",
       "        text-align: right;\n",
       "    }\n",
       "\n",
       "    .dataframe thead th {\n",
       "        text-align: left;\n",
       "    }\n",
       "\n",
       "    .dataframe tbody tr th {\n",
       "        vertical-align: top;\n",
       "    }\n",
       "</style>\n",
       "<table border=\"1\" class=\"dataframe\">\n",
       "  <thead>\n",
       "    <tr style=\"text-align: right;\">\n",
       "      <th></th>\n",
       "      <th>entity</th>\n",
       "      <th>paragraph</th>\n",
       "      <th>sentence</th>\n",
       "      <th>loc_start</th>\n",
       "      <th>loc_end</th>\n",
       "    </tr>\n",
       "  </thead>\n",
       "  <tbody>\n",
       "    <tr>\n",
       "      <th>0</th>\n",
       "      <td>Мыкола Сирук</td>\n",
       "      <td>1</td>\n",
       "      <td>1</td>\n",
       "      <td>4</td>\n",
       "      <td>16</td>\n",
       "    </tr>\n",
       "    <tr>\n",
       "      <th>1</th>\n",
       "      <td>Россия</td>\n",
       "      <td>2</td>\n",
       "      <td>1</td>\n",
       "      <td>159</td>\n",
       "      <td>165</td>\n",
       "    </tr>\n",
       "    <tr>\n",
       "      <th>2</th>\n",
       "      <td>Украины</td>\n",
       "      <td>2</td>\n",
       "      <td>2</td>\n",
       "      <td>40</td>\n",
       "      <td>47</td>\n",
       "    </tr>\n",
       "    <tr>\n",
       "      <th>3</th>\n",
       "      <td>ООН</td>\n",
       "      <td>2</td>\n",
       "      <td>2</td>\n",
       "      <td>50</td>\n",
       "      <td>53</td>\n",
       "    </tr>\n",
       "    <tr>\n",
       "      <th>4</th>\n",
       "      <td>Юрий Сергеев</td>\n",
       "      <td>2</td>\n",
       "      <td>2</td>\n",
       "      <td>54</td>\n",
       "      <td>66</td>\n",
       "    </tr>\n",
       "    <tr>\n",
       "      <th>5</th>\n",
       "      <td>Twitter</td>\n",
       "      <td>2</td>\n",
       "      <td>2</td>\n",
       "      <td>77</td>\n",
       "      <td>84</td>\n",
       "    </tr>\n",
       "    <tr>\n",
       "      <th>6</th>\n",
       "      <td>Россия</td>\n",
       "      <td>2</td>\n",
       "      <td>2</td>\n",
       "      <td>154</td>\n",
       "      <td>160</td>\n",
       "    </tr>\n",
       "    <tr>\n",
       "      <th>7</th>\n",
       "      <td>РФ</td>\n",
       "      <td>2</td>\n",
       "      <td>2</td>\n",
       "      <td>184</td>\n",
       "      <td>186</td>\n",
       "    </tr>\n",
       "    <tr>\n",
       "      <th>8</th>\n",
       "      <td>Россия</td>\n",
       "      <td>3</td>\n",
       "      <td>1</td>\n",
       "      <td>39</td>\n",
       "      <td>45</td>\n",
       "    </tr>\n",
       "    <tr>\n",
       "      <th>9</th>\n",
       "      <td>Сирии</td>\n",
       "      <td>3</td>\n",
       "      <td>1</td>\n",
       "      <td>136</td>\n",
       "      <td>141</td>\n",
       "    </tr>\n",
       "    <tr>\n",
       "      <th>10</th>\n",
       "      <td>Австралия</td>\n",
       "      <td>3</td>\n",
       "      <td>1</td>\n",
       "      <td>157</td>\n",
       "      <td>166</td>\n",
       "    </tr>\n",
       "    <tr>\n",
       "      <th>11</th>\n",
       "      <td>The Guardian</td>\n",
       "      <td>3</td>\n",
       "      <td>2</td>\n",
       "      <td>44</td>\n",
       "      <td>56</td>\n",
       "    </tr>\n",
       "    <tr>\n",
       "      <th>12</th>\n",
       "      <td>Канберру</td>\n",
       "      <td>3</td>\n",
       "      <td>2</td>\n",
       "      <td>97</td>\n",
       "      <td>105</td>\n",
       "    </tr>\n",
       "    <tr>\n",
       "      <th>13</th>\n",
       "      <td>Международной группы поддержки</td>\n",
       "      <td>3</td>\n",
       "      <td>2</td>\n",
       "      <td>159</td>\n",
       "      <td>189</td>\n",
       "    </tr>\n",
       "    <tr>\n",
       "      <th>14</th>\n",
       "      <td>Сирии</td>\n",
       "      <td>3</td>\n",
       "      <td>2</td>\n",
       "      <td>190</td>\n",
       "      <td>195</td>\n",
       "    </tr>\n",
       "    <tr>\n",
       "      <th>15</th>\n",
       "      <td>России</td>\n",
       "      <td>3</td>\n",
       "      <td>2</td>\n",
       "      <td>216</td>\n",
       "      <td>222</td>\n",
       "    </tr>\n",
       "    <tr>\n",
       "      <th>16</th>\n",
       "      <td>Австралии</td>\n",
       "      <td>3</td>\n",
       "      <td>3</td>\n",
       "      <td>25</td>\n",
       "      <td>34</td>\n",
       "    </tr>\n",
       "    <tr>\n",
       "      <th>17</th>\n",
       "      <td>Джулия Бишоп</td>\n",
       "      <td>3</td>\n",
       "      <td>3</td>\n",
       "      <td>35</td>\n",
       "      <td>47</td>\n",
       "    </tr>\n",
       "    <tr>\n",
       "      <th>18</th>\n",
       "      <td>США</td>\n",
       "      <td>3</td>\n",
       "      <td>3</td>\n",
       "      <td>65</td>\n",
       "      <td>68</td>\n",
       "    </tr>\n",
       "    <tr>\n",
       "      <th>19</th>\n",
       "      <td>Путину</td>\n",
       "      <td>4</td>\n",
       "      <td>1</td>\n",
       "      <td>6</td>\n",
       "      <td>12</td>\n",
       "    </tr>\n",
       "  </tbody>\n",
       "</table>\n",
       "</div>"
      ],
      "text/plain": [
       "                            entity paragraph sentence loc_start loc_end\n",
       "0                     Мыкола Сирук         1        1         4      16\n",
       "1                           Россия         2        1       159     165\n",
       "2                          Украины         2        2        40      47\n",
       "3                              ООН         2        2        50      53\n",
       "4                     Юрий Сергеев         2        2        54      66\n",
       "5                          Twitter         2        2        77      84\n",
       "6                           Россия         2        2       154     160\n",
       "7                               РФ         2        2       184     186\n",
       "8                           Россия         3        1        39      45\n",
       "9                            Сирии         3        1       136     141\n",
       "10                       Австралия         3        1       157     166\n",
       "11                    The Guardian         3        2        44      56\n",
       "12                        Канберру         3        2        97     105\n",
       "13  Международной группы поддержки         3        2       159     189\n",
       "14                           Сирии         3        2       190     195\n",
       "15                          России         3        2       216     222\n",
       "16                       Австралии         3        3        25      34\n",
       "17                    Джулия Бишоп         3        3        35      47\n",
       "18                             США         3        3        65      68\n",
       "19                          Путину         4        1         6      12"
      ]
     },
     "execution_count": 16,
     "metadata": {},
     "output_type": "execute_result"
    }
   ],
   "source": [
    "ENTITIES.head(20)"
   ]
  },
  {
   "cell_type": "code",
   "execution_count": 17,
   "metadata": {
    "collapsed": true
   },
   "outputs": [],
   "source": [
    "def distances(loc1, loc2):\n",
    "    \"\"\"\n",
    "    returns distances from one entity to another\n",
    "    \"\"\"\n",
    "    paragraph = ENTITIES.loc[loc2].paragraph - ENTITIES.loc[loc1].paragraph\n",
    "    sentence = ENTITIES.loc[loc2].sentence - ENTITIES.loc[loc1].sentence\n",
    "    return paragraph, sentence"
   ]
  },
  {
   "cell_type": "markdown",
   "metadata": {},
   "source": [
    "Теперь нужно идти по табличке с выделенными сущностями и отбирать их по критериям для пар. Если именительный падеж - скорее всего, это актор, если в предложении всего одна сущность, возможно, это отношение автора к ней, если сущности в разных абзацах - они не связаны, и т. д. Сюда бы хорошо добавить синтакснет, чтобы понимать, чем в предложении является сущность."
   ]
  },
  {
   "cell_type": "code",
   "execution_count": 18,
   "metadata": {
    "collapsed": true
   },
   "outputs": [],
   "source": [
    "def getMorphCase(word):\n",
    "    p = morph.parse(u\"аборт\")[0]\n",
    "    return p.tag.case"
   ]
  },
  {
   "cell_type": "code",
   "execution_count": 20,
   "metadata": {
    "collapsed": false,
    "scrolled": true
   },
   "outputs": [
    {
     "data": {
      "text/html": [
       "<div>\n",
       "<style>\n",
       "    .dataframe thead tr:only-child th {\n",
       "        text-align: right;\n",
       "    }\n",
       "\n",
       "    .dataframe thead th {\n",
       "        text-align: left;\n",
       "    }\n",
       "\n",
       "    .dataframe tbody tr th {\n",
       "        vertical-align: top;\n",
       "    }\n",
       "</style>\n",
       "<table border=\"1\" class=\"dataframe\">\n",
       "  <thead>\n",
       "    <tr style=\"text-align: right;\">\n",
       "      <th></th>\n",
       "      <th>entity</th>\n",
       "      <th>paragraph</th>\n",
       "      <th>sentence</th>\n",
       "      <th>loc_start</th>\n",
       "      <th>loc_end</th>\n",
       "    </tr>\n",
       "  </thead>\n",
       "  <tbody>\n",
       "    <tr>\n",
       "      <th>0</th>\n",
       "      <td>Мыкола Сирук</td>\n",
       "      <td>1</td>\n",
       "      <td>1</td>\n",
       "      <td>4</td>\n",
       "      <td>16</td>\n",
       "    </tr>\n",
       "    <tr>\n",
       "      <th>1</th>\n",
       "      <td>Россия</td>\n",
       "      <td>2</td>\n",
       "      <td>1</td>\n",
       "      <td>159</td>\n",
       "      <td>165</td>\n",
       "    </tr>\n",
       "    <tr>\n",
       "      <th>2</th>\n",
       "      <td>Украины</td>\n",
       "      <td>2</td>\n",
       "      <td>2</td>\n",
       "      <td>40</td>\n",
       "      <td>47</td>\n",
       "    </tr>\n",
       "    <tr>\n",
       "      <th>3</th>\n",
       "      <td>ООН</td>\n",
       "      <td>2</td>\n",
       "      <td>2</td>\n",
       "      <td>50</td>\n",
       "      <td>53</td>\n",
       "    </tr>\n",
       "    <tr>\n",
       "      <th>4</th>\n",
       "      <td>Юрий Сергеев</td>\n",
       "      <td>2</td>\n",
       "      <td>2</td>\n",
       "      <td>54</td>\n",
       "      <td>66</td>\n",
       "    </tr>\n",
       "    <tr>\n",
       "      <th>5</th>\n",
       "      <td>Twitter</td>\n",
       "      <td>2</td>\n",
       "      <td>2</td>\n",
       "      <td>77</td>\n",
       "      <td>84</td>\n",
       "    </tr>\n",
       "    <tr>\n",
       "      <th>6</th>\n",
       "      <td>Россия</td>\n",
       "      <td>2</td>\n",
       "      <td>2</td>\n",
       "      <td>154</td>\n",
       "      <td>160</td>\n",
       "    </tr>\n",
       "    <tr>\n",
       "      <th>7</th>\n",
       "      <td>РФ</td>\n",
       "      <td>2</td>\n",
       "      <td>2</td>\n",
       "      <td>184</td>\n",
       "      <td>186</td>\n",
       "    </tr>\n",
       "    <tr>\n",
       "      <th>8</th>\n",
       "      <td>Россия</td>\n",
       "      <td>3</td>\n",
       "      <td>1</td>\n",
       "      <td>39</td>\n",
       "      <td>45</td>\n",
       "    </tr>\n",
       "    <tr>\n",
       "      <th>9</th>\n",
       "      <td>Сирии</td>\n",
       "      <td>3</td>\n",
       "      <td>1</td>\n",
       "      <td>136</td>\n",
       "      <td>141</td>\n",
       "    </tr>\n",
       "    <tr>\n",
       "      <th>10</th>\n",
       "      <td>Австралия</td>\n",
       "      <td>3</td>\n",
       "      <td>1</td>\n",
       "      <td>157</td>\n",
       "      <td>166</td>\n",
       "    </tr>\n",
       "    <tr>\n",
       "      <th>11</th>\n",
       "      <td>The Guardian</td>\n",
       "      <td>3</td>\n",
       "      <td>2</td>\n",
       "      <td>44</td>\n",
       "      <td>56</td>\n",
       "    </tr>\n",
       "    <tr>\n",
       "      <th>12</th>\n",
       "      <td>Канберру</td>\n",
       "      <td>3</td>\n",
       "      <td>2</td>\n",
       "      <td>97</td>\n",
       "      <td>105</td>\n",
       "    </tr>\n",
       "    <tr>\n",
       "      <th>13</th>\n",
       "      <td>Международной группы поддержки</td>\n",
       "      <td>3</td>\n",
       "      <td>2</td>\n",
       "      <td>159</td>\n",
       "      <td>189</td>\n",
       "    </tr>\n",
       "    <tr>\n",
       "      <th>14</th>\n",
       "      <td>Сирии</td>\n",
       "      <td>3</td>\n",
       "      <td>2</td>\n",
       "      <td>190</td>\n",
       "      <td>195</td>\n",
       "    </tr>\n",
       "    <tr>\n",
       "      <th>15</th>\n",
       "      <td>России</td>\n",
       "      <td>3</td>\n",
       "      <td>2</td>\n",
       "      <td>216</td>\n",
       "      <td>222</td>\n",
       "    </tr>\n",
       "    <tr>\n",
       "      <th>16</th>\n",
       "      <td>Австралии</td>\n",
       "      <td>3</td>\n",
       "      <td>3</td>\n",
       "      <td>25</td>\n",
       "      <td>34</td>\n",
       "    </tr>\n",
       "    <tr>\n",
       "      <th>17</th>\n",
       "      <td>Джулия Бишоп</td>\n",
       "      <td>3</td>\n",
       "      <td>3</td>\n",
       "      <td>35</td>\n",
       "      <td>47</td>\n",
       "    </tr>\n",
       "    <tr>\n",
       "      <th>18</th>\n",
       "      <td>США</td>\n",
       "      <td>3</td>\n",
       "      <td>3</td>\n",
       "      <td>65</td>\n",
       "      <td>68</td>\n",
       "    </tr>\n",
       "    <tr>\n",
       "      <th>19</th>\n",
       "      <td>Путину</td>\n",
       "      <td>4</td>\n",
       "      <td>1</td>\n",
       "      <td>6</td>\n",
       "      <td>12</td>\n",
       "    </tr>\n",
       "  </tbody>\n",
       "</table>\n",
       "</div>"
      ],
      "text/plain": [
       "                            entity paragraph sentence loc_start loc_end\n",
       "0                     Мыкола Сирук         1        1         4      16\n",
       "1                           Россия         2        1       159     165\n",
       "2                          Украины         2        2        40      47\n",
       "3                              ООН         2        2        50      53\n",
       "4                     Юрий Сергеев         2        2        54      66\n",
       "5                          Twitter         2        2        77      84\n",
       "6                           Россия         2        2       154     160\n",
       "7                               РФ         2        2       184     186\n",
       "8                           Россия         3        1        39      45\n",
       "9                            Сирии         3        1       136     141\n",
       "10                       Австралия         3        1       157     166\n",
       "11                    The Guardian         3        2        44      56\n",
       "12                        Канберру         3        2        97     105\n",
       "13  Международной группы поддержки         3        2       159     189\n",
       "14                           Сирии         3        2       190     195\n",
       "15                          России         3        2       216     222\n",
       "16                       Австралии         3        3        25      34\n",
       "17                    Джулия Бишоп         3        3        35      47\n",
       "18                             США         3        3        65      68\n",
       "19                          Путину         4        1         6      12"
      ]
     },
     "execution_count": 20,
     "metadata": {},
     "output_type": "execute_result"
    }
   ],
   "source": [
    "ENTITIES.head(20)"
   ]
  },
  {
   "cell_type": "code",
   "execution_count": 25,
   "metadata": {
    "collapsed": true
   },
   "outputs": [],
   "source": [
    "def getSentimentCertainity(word):\n",
    "    word = lemmatize(word)\n",
    "    try:\n",
    "        tone, certainty =  Rusentilex[[\"tone\", \"certainty\"]][Rusentilex.word.isin([word])].values[0]\n",
    "    except:\n",
    "        try:\n",
    "            tone, certainty =  Rusentilex[[\"tone\", \"certainty\"]][Rusentilex.word.isin([word.encode(\"utf8\")])].values[0]\n",
    "        except:\n",
    "            tone, certainty = \"NaN\", \"NaN\"\n",
    "    return tone, certainty"
   ]
  },
  {
   "cell_type": "code",
   "execution_count": 179,
   "metadata": {
    "code_folding": [],
    "collapsed": false
   },
   "outputs": [],
   "source": [
    "def getPairs(ENTITIES=ENTITIES, text=text, n_entities=2):\n",
    "    N_ENTITIES = n_entities # глобальный параметр, сколько сущностей будем перебирать для текущей\n",
    "    PAIRS = pd.DataFrame(columns=[\"entity_1\", \"entity_2\", \"sentence\"])\n",
    "    ent_1_number = 0\n",
    "    while ent_1_number < len(ENTITIES):\n",
    "\n",
    "        entity_1 = ENTITIES.entity[ent_1_number]\n",
    "        for ent_2_number in range(N_ENTITIES):\n",
    "            try:            \n",
    "                ent_2_number = ent_1_number+ent_2_number+1\n",
    "                entity_2 = ENTITIES.entity[ent_2_number]\n",
    "                par_dist, sent_dist = distances(ent_1_number, ent_2_number)\n",
    "                if lemmatize(entity_1) != lemmatize(entity_2): # не равны друг другу\n",
    "                    if par_dist == 0: # в одном абзаце\n",
    "                        if sent_dist == 0: # в одном предложении\n",
    "                            PAIRS = PAIRS.append({\"entity_1\":entity_1,\n",
    "                                                  \"entity_2\":entity_2,\n",
    "                                                  \"sentence\":text[ENTITIES.loc[ent_1_number].paragraph][ENTITIES.loc[ent_1_number].sentence]},\n",
    "                                                  ignore_index=True)\n",
    "                    else:\n",
    "                        #ent_1_number+=1\n",
    "                        PAIRS = PAIRS.append({\"entity_1\":\"Author\",\n",
    "                                                  \"entity_2\":entity_1,\n",
    "                                                  \"sentence\":text[ENTITIES.loc[ent_1_number].paragraph][ENTITIES.loc[ent_1_number].sentence]},\n",
    "                                                  ignore_index=True)\n",
    "#                 else:\n",
    "#                     ent_2_number+=1\n",
    "\n",
    "\n",
    "            except:\n",
    "                continue\n",
    "        ent_1_number += 1\n",
    "        \n",
    "    return PAIRS.drop_duplicates()"
   ]
  },
  {
   "cell_type": "code",
   "execution_count": 180,
   "metadata": {
    "collapsed": true
   },
   "outputs": [],
   "source": [
    "# cur_sentence = text[ENTITIES.loc[ent_1_number].paragraph][ENTITIES.loc[ent_1_number].sentence]\n",
    "# cur_sentence = tknzr.tokenize(cur_sentence)\n",
    "# for word in cur_sentence:\n",
    "#     if (len(word)<3) or (word.isdigit()):\n",
    "#         cur_sentence.remove(word)\n",
    "# sentiment = []\n",
    "\n",
    "# for word in cur_sentence:\n",
    "#     sentiment.append(getSentimentCertainity(word)[0])\n",
    "\n",
    "# if len([x for x in sentiment if x!=\"NaN\"]) != 0:"
   ]
  },
  {
   "cell_type": "code",
   "execution_count": 181,
   "metadata": {
    "collapsed": false
   },
   "outputs": [
    {
     "name": "stdout",
     "output_type": "stream",
     "text": [
      "{Author, Unknown} Идеальный сценарий для Кремля\r\n",
      "\n",
      "{Author, Unknown} By Мыкола Сирук, inosmi.ruПосмотреть оригиналноябрь 17-го, 2015\r\n",
      "\r\n",
      "\n",
      "{Author, Unknown} Уже в первые минуты после парижских терактов в минувшую пятницу в экспертной среде стали раздаваться предположения, что от этой трагедии больше всего выиграет Россия. \n",
      "{Author, Unknown} В частности и постоянный представитель Украины в ООН Юрий Сергеев написал в Twitter: «В парижской трагедии «ищите женщину» — cherchez la femme — имя ее — Россия, ожидаем приглашений от РФ присоединиться к борьбе с террором».\r\n",
      "\r\n",
      "\n",
      "{Author, Unknown} И первым тревожным признаком того, что Россия уже диктует свои условия, стало то, что из переговоров по мирному урегулированию ситуации в Сирии, была исключена Австралия. \n",
      "{Author, Unknown} В частности как сообщила британская газета The Guardian со ссылкой на источники в правительстве, Канберру исключили из переговоров, которые проходят под эгидой Международной группы поддержки Сирии именно по настоянию России. \n",
      "{Author, Unknown} Министр иностранных дел Австралии Джулия Бишоп уже обратилась к США с вопросом, почему ее страну не пригласили на первый раунд переговоров.\r\n",
      "\r\n",
      "\n",
      "{Author, Unknown} Если Путину удалось исключить неудобную для него страну, то как тогда он прислушается к Обаме, который во время встречи с российским лидером, как сообщает агентство АР, призывал вывести российские войска из Украины.\r\n",
      "\r\n",
      "\n",
      "{Author, Unknown} Сирийский вопрос бегло обсуждался на вчерашнем экономическом саммите лидеров G20 в Турции. \n",
      "{Author, Unknown} Президент США Барак Обама пообещал удвоить усилия в борьбе с ИГ, но не поздно ли он опомнился. \n",
      "{Author, Unknown} Весь мир помнит «красные линии», какими Обама предостерегал Башара Асада не применять химическое оружие против повстанцев. \n",
      "{Author, Unknown} И как результат пассивной позиции президента США сирийский лидер продолжал уничтожать оппозицию, беженцы массово покидали территорию страны, сначала в соседние страны, а затем в Европу, что вызвало кризис беженцев с известными последствиями.\r\n",
      "\r\n",
      "\n",
      "{Author, Unknown} Все приведенные выше факты еще раз подчеркивают недостаток лидерства в мире, и поэтому несостоятельность адекватно реагировать на вызовы, возникающие на Ближнем Востоке, в Европе, главным образом при содействии Кремля, который потом еще и пытается играть роль миротворца\r\n",
      "\r\n",
      "\n",
      "{Author, Unknown} Комментарии\r\n",
      "\r\n",
      "\n",
      "{Author, Unknown} «Нет оснований для новой коалиции Запад—Россия по типу антигитлеровской»\r\n",
      "\r\n",
      "\n",
      "{Author, Unknown} Лилия Шевцова, ведущий исследователь Института Брукингса, Москва:\r\n",
      "\r\n",
      "\n",
      "{Author, Unknown} — Исламский террор и особенно парижская трагедия изменили геополитический ландшафт. \n",
      "{Author, Unknown} Они дали толчок к движению Европы из состояния открытости в состояние крепости. \n",
      "{Author, Unknown} Тем более, что в Европе уже существуют серьезные правые силы и влиятельные настроения, которые толкали европейское сообщество в этом направлении. \n",
      "{Author, Unknown} Следует ожидать здесь изменения политического баланса сил в пользу право-консервативного лагеря, ослабление позиции тех, кто выступал за нормативное измерение во внешней политике и расширение объединенной Европы. \n",
      "{Author, Unknown} Великобритания продолжит дистанцирование от ЕС, а в Германии продолжится ослабление позиции Меркель и тех, кто пытался сохранить Шенген.\r\n",
      "\r\n",
      "\n",
      "{Author, Unknown} В этой ситуации, тем более учитывая позицию Обамы, который пытается дистанцироваться от внешнего мира и сократить американскую вовлеченность в мировые дела, следует ожидать стремление коллективного Запада ослабить конфронтационность в отношениях с Россией. \n",
      "{Author, Unknown} Естественно, что при усилении террористической угрозы Украина и ее трансформация отойдут (уже отошли) на второй план.\r\n",
      "\r\n",
      "\n",
      "{Author, Unknown} Но означают ли эти новые тенденции возвращение Запада в постмодернизм предыдущего двадцатилетия, а следовательно, новые объятия с Россией? \n",
      "{Author, Unknown} Есть ли основания для подозрений в том, что Запад готов «продать» Украину Путину «с потрохами» в обмен на его сотрудничество в антитеррористической операции? \n",
      "{Author, Unknown} Есть, конечно, весьма активные силы на Западе, которые призывают к новой сделке такого рода — great bargain. \n",
      "{Author, Unknown} Но уверяю вас, для нее нет оснований. \n",
      "{Author, Unknown} Нет оснований для новой коалиции Запад-Россия по типу антигитлеровской коалиции. \n",
      "{Author, Unknown} Слишком велико недоверие между Западом и Кремлем. \n",
      "{Author, Unknown} Более того, с двух сторон запущена машина взаимного сдерживания, которую остановить трудно и в существовании которой также есть заинтересованность, но уже других влиятельных сил. \n",
      "{Author, Unknown} Сохраняются различия в понимании истоков и причин нынешнего подъема исламского террора.\r\n",
      "\r\n",
      "\n",
      "{Author, Unknown} Следовательно, можно ожидать движение (пока стихийное) к новой формуле мирового порядка, в котором сохранятся элементы взаимного сдерживания и недоверия, но будет идти поиск и точек соприкосновения, и конкретного взаимодействия. \n",
      "{Author, Unknown} В каком направлении пойдет этот поиск и насколько он будет эффективен, покажут переговоры по Сирии и прежде всего военное сотрудничество нескольких стран, которые осуществляют военно-воздушные операции в Сирии-России, Франции, Великобритании и Дании. \n",
      "{Author, Unknown} Да, это новая ситуация. \n",
      "{Author, Unknown} Но отнюдь не возврат к периоду до 2014 г. И каждая сторона будет пытаться использовать эту ситуацию в своих целях.\r\n",
      "\r\n",
      "\n",
      "{Author, Unknown} «Главный результат этих атак — поляризация»\r\n",
      "\r\n",
      "\n",
      "{Author, Unknown} Эдвард Лукас, старший вице-президент Центра анализа европейской политики, Лондон:\r\n",
      "\r\n",
      "\n",
      "{Author, Unknown} — Главным результатом этих атак является поляризация. \n",
      "{Author, Unknown} И выигрывают от нее исламисты, а также Россия, которая хочет, чтобы Запад сделал выбор из двух вариантов: быть с Россией в борьбе с террористами или с террористами против России.\r\n",
      "\r\n",
      "\n",
      "{Author, Unknown} «Россия — наибольший бенефициар от терактов в Париже»\r\n",
      "\r\n",
      "\n",
      "{Author, Unknown} Христо Грозев, главный редактор EurActiv, Брюссель:\r\n",
      "\r\n",
      "\n",
      "{Author, Unknown} — Очевидно, что Россия является наибольшим бенефициаром от терактов в Париже. \n",
      "{Author, Unknown} Это выглядит почти идеальным сценарием для России. \n",
      "{Author, Unknown} Во-первых, сбитый их самолет вызвал сочувствие (предсказуемое событие после ее участия в Сирии и непринятия никаких мер безопасности, несмотря на предупреждение со стороны ИДИЛ за 4 дня до события (крушение пассажирского самолета. \n",
      "{Author, Unknown} — прим. авт.). \n",
      "{Author, Unknown} Теперь все кремлевские СМИ и онлайн-агентства троллят один последовательный месседж: «Вы должны были слушать нас, Путин предупредил вас на заседании ООН, что еще не поздно присоединиться к коалиции».\r\n",
      "\r\n",
      "\n",
      "{Author, Unknown} Что касается этой стратегии, то она заключается в том, чтобы заложить раскол между США и ЕС. \n",
      "{Author, Unknown} И пэтому1 многие сообщения сегодняшних утренних кремлевских СМИ звучат следующим образом: «Что будет делать Обама, чтобы предотвратить равнение ЕС на Россию». \n",
      "{Author, Unknown} Но я думаю, что этого не произойдет.\r\n",
      "\r\n",
      "\n",
      "{Author, Unknown} Что касается последствий для Украины... Я уже думал об этом после того, как был сбит российский самолет. \n",
      "{Author, Unknown} Считаю, что не будет снижения поддержки Украины, но произойдет отвлечение внимания, которое также работает на Россию.\r\n",
      "\r\n",
      "\n",
      "{Author, Unknown} Россия сейчас не играет на привлечение ЕС на свою сторону, потому что знает, что это невозможно — учитывая непубличную информацию, которой обладает ЕС, об активных мерах России в евросообществе. \n",
      "{Author, Unknown} Россия играет в интересах ДРУГИХ политических партий, чтобы они выиграли выборы в ЕС в течения следующих лет и были дружественными к России.\r\n",
      "\r\n",
      "\n",
      "{Author, Unknown} «Россия будет сейчас петь песню: «Мы все жертвы исламистов»\r\n",
      "\r\n",
      "\n",
      "{Author, Unknown} Герхард Гнаук, корреспондент газеты Die Welt в Варшаве:\r\n",
      "\r\n",
      "\n",
      "{Author, Unknown} — Да, я считаю, что правильным является предположение, что Россия выигрывает от этого теракта. \n",
      "{Author, Unknown} Россия будет сейчас петь песню: «Мы все жертвы исламистов». \n",
      "{Author, Unknown} С другой стороны, многие западне столицы поняли, что сама Россия является проблемой и что российские действия в Сирии преследуют очень эгоистичные цели.\r\n",
      "\r\n",
      "\n",
      "{Author, Unknown} «Это не отменяет факт, что Россия незаконно аннексировала Крым...»\r\n",
      "\r\n",
      "\n",
      "{Author, Unknown} Вильям Тейлор, исполнительный вице-президент Американского института мира, Вашингтон:\r\n",
      "\r\n",
      "\n",
      "{Author, Unknown} — Ужасающие парижские теракты, безусловно, будут в центре внимания западных лидеров в ближайшие месяцы — и соответствующей будет реакция. \n",
      "{Author, Unknown} Однако эти атаки не отменяют того факта, что Россия незаконно аннексировала Крым и вторглась на Донбасс. \n",
      "{Author, Unknown} Пока россияне не отступят, санкции должны остаться. \n",
      "{Author, Unknown} Все цивилизованные страны борются с экстремистами, использующими насилие. \n",
      "{Author, Unknown} А Daesh или ИДИЛ сегодня являются самыми опасными террористическими организациями на планете.\r\n",
      "\r\n",
      "\n",
      "{Author, Unknown} «Каждая цивилизация должна защищать свои ценности»\r\n",
      "\r\n",
      "\n",
      "{Author, Unknown} Владимир Огрызко, экс-министр иностранных дел Украины, Киев:\r\n",
      "\r\n",
      "\n",
      "{Author, Unknown} — Это еще раз напоминание о том, что сказка об общих ценностях, закончилась. \n",
      "{Author, Unknown} Ценности разные, как и взгляды на мир. \n",
      "{Author, Unknown} Во-первых, нужно отказаться от иллюзий и понимать, что мы живем вместе, но все слишком разные, чтобы говорить о каких-то общих платформах и взглядах. \n",
      "{Author, Unknown} Во-вторых, нужно так же понимать, что каждая цивилизация должна защищать свои определяющие ценности. \n",
      "{Author, Unknown} Слишком большой либерализм, который мы наблюдаем в последнее время, приводит к тому, что одни цивилизации становятся агрессивнее в борьбе с другими. \n",
      "{Author, Unknown} В-третьих, нужно, наконец, перейти от слов в борьбе с террористами и теми, кто его спонсирует и фактически разжигает, к очень жестким неотвратимым шагам по его подавлению и уничтожению. \n",
      "{Author, Unknown} Декларации в данном случае не работают, а работает лишь сила и эту силу и мужество надо уметь применять.\r\n",
      "\r\n",
      "\n",
      "{Author, Unknown} И самое главное, нужно четко определить, какова цель в борьбе с терроризмом. \n",
      "{Author, Unknown} Поэтому нужно или ставить на место всех тех, кто стоит за этим терроризмом, или договариваться с теми, кто его спонсирует, как предлагает «Фигаро». \n",
      "{Author, Unknown} Надеюсь, что эти кровавые события, возможно, наконец кому-то откроют глаза относительно действий России, которая спонсирует и подпитывает терроризм в Крыму, на Донбассе, и в Сирии, где она борется с оппонентами террористического режима. \n",
      "{Author, Unknown} Думаю, что и французское общество должно наконец придти к пониманию того, с кем оно имеет дело.\r\n",
      "\r\n",
      "\n",
      "{Author, Unknown} «Украина, как минимум, отошла на второй план»\r\n",
      "\r\n",
      "\n",
      "{Author, Unknown} Татьяна Кастуева-Жан, руководитель центра Россия — ННГ во Французском институте международных отношений, Париж:\r\n",
      "\r\n",
      "\n",
      "{Author, Unknown} — С начала российских бомбардировок в Сирии все чаще звучат голоса во Франции — в основном справа, что необходимо объединить усилия совместно с Россией по борьбе с терроризмом и пойти на хотя бы временное сохранение режима Асада в условиях отсутствия приемлемой альтернативы и во избежание хаоса. \n",
      "{Author, Unknown} В этих условиях Украина, как минимум, отошла на второй план. \n",
      "{Author, Unknown} Пока речь о координации между западной коалицией и Россией не идет всерьез в правящих кругах на Западе. \n",
      "{Author, Unknown} Но если Запад вдруг примет решение сотрудничать с Россией по Сирии, тогда украинский фактор не станет помехой этой Realpolitik. \n",
      "{Author, Unknown} В тоже время то, что произошло на Украине, никогда полностью не уйдет из отношений России и Запада, вплоть до самого ухода по той или иной причине Путина. \n",
      "{Author, Unknown} Отодвинуть решение проблемы, связанной с Украиной, не представляется возможным, настолько грубо было попраны все принципы международного права. \n",
      "{Author, Unknown} Но в целом есть риск, что «украинская карта» может на многие годы с переменным успехом то откладываться в сторону, то вновь играть с новой силой, в зависимости от текущего момента и взаимодействия России и Запада по другим досье, постепенно теряя таким образом самостоятельное значение.\r\n",
      "\r\n",
      "\n",
      "{Author, Unknown} Последние террористические акты в Париже могут стать водоразделом во французской политике. \n",
      "{Author, Unknown} Во-первых, конечно, жесткая риторика в стиле Марин Ле Пен соответствует ожиданиям французского населения в ответ на варварские действия против мирного населения. \n",
      "{Author, Unknown} На этом фоне она может легко набрать дополнительные очки, впрочем, как и бывший президент Саркози. \n",
      "{Author, Unknown} Увидеть можно будет это очень скоро, на региональных выборах в декабре, на которых правящей партии социалистов и без того прочили поражение. \n",
      "{Author, Unknown} Во-вторых, вполне возможно, что и социалисты будут вынуждены заимствовать эту более жесткую риторику, — и уже сегодня правящая партия говорит о войне, ведущейся против Франции и Запада — и предлагать, и предпринимать действия, которые будут по духу ближе к правым вместо обычной мантры »не будем стигматизировать ислам». \n",
      "{Author, Unknown} Введение чрезвычайного положения позволяет перейти от слов к действиям. \n",
      "{Author, Unknown} В-третьих, последние события могут поменять политику Франции в Сирии. \n",
      "{Author, Unknown} До сих пор эта политика сводилась к «двум нет» — «нет» Асаду, «нет» Даэш. \n",
      "{Author, Unknown} С начала российских бомбардировок в Сирии все чаще звучат голоса во Франции — в основном справа, что необходимо объединить усилия совместно с Россией по борьбе с терроризмом и пойти на хотя бы временное сохранение режима Асада в условиях отсутствия приемлемой альтернативы и во избежание хаоса. \n",
      "{Author, Unknown} В этих условиях Украина, как минимум, отошла на второй план. \n",
      "{Author, Unknown} Пока речь о координации между западной коалицией и Россией не идет всерьез в правящих кругах на Западе. \n",
      "{Author, Unknown} Но если Запад вдруг примет решение сотрудничать с Россией по Сирии, тогда украинский фактор не станет помехой этой Realpolitik. \n",
      "{Author, Unknown} В тоже время то, что произошло на Украине, никогда полностью не уйдет из отношений России и Запада, вплоть до самого ухода по той или иной причине Путина. \n",
      "{Author, Unknown} Отодвинуть решение проблемы, связанной с Украиной, не представляется возможным, настолько грубо было попраны все принципы международного права. \n",
      "{Author, Unknown} Но в целом есть риск, что »украинская карта» может на многие годы с переменным успехом то откладываться в сторону, то вновь играть с новой силой, в зависимости от текущего момента и взаимодействия России и Запада по другим досье, постепенно теряя таким образом самостоятельное значение.\r\n",
      "\n",
      "{Author, Unknown} \r\n",
      "\n"
     ]
    }
   ],
   "source": [
    "print(loadText(10))"
   ]
  },
  {
   "cell_type": "code",
   "execution_count": 228,
   "metadata": {
    "collapsed": false
   },
   "outputs": [],
   "source": [
    "PAIRS = getPairs(n_entities=3)"
   ]
  },
  {
   "cell_type": "code",
   "execution_count": 229,
   "metadata": {
    "collapsed": false
   },
   "outputs": [
    {
     "data": {
      "text/plain": [
       "(195, 3)"
      ]
     },
     "execution_count": 229,
     "metadata": {},
     "output_type": "execute_result"
    }
   ],
   "source": [
    "PAIRS.shape"
   ]
  },
  {
   "cell_type": "code",
   "execution_count": 230,
   "metadata": {
    "collapsed": false
   },
   "outputs": [
    {
     "data": {
      "text/html": [
       "<div>\n",
       "<style>\n",
       "    .dataframe thead tr:only-child th {\n",
       "        text-align: right;\n",
       "    }\n",
       "\n",
       "    .dataframe thead th {\n",
       "        text-align: left;\n",
       "    }\n",
       "\n",
       "    .dataframe tbody tr th {\n",
       "        vertical-align: top;\n",
       "    }\n",
       "</style>\n",
       "<table border=\"1\" class=\"dataframe\">\n",
       "  <thead>\n",
       "    <tr style=\"text-align: right;\">\n",
       "      <th></th>\n",
       "      <th>entity_1</th>\n",
       "      <th>entity_2</th>\n",
       "      <th>attitude</th>\n",
       "      <th>time</th>\n",
       "      <th>pair</th>\n",
       "    </tr>\n",
       "  </thead>\n",
       "  <tbody>\n",
       "    <tr>\n",
       "      <th>0</th>\n",
       "      <td>Россия</td>\n",
       "      <td>Австралия</td>\n",
       "      <td>neg</td>\n",
       "      <td>current</td>\n",
       "      <td>россия,австралия</td>\n",
       "    </tr>\n",
       "    <tr>\n",
       "      <th>1</th>\n",
       "      <td>Австралия</td>\n",
       "      <td>Россия</td>\n",
       "      <td>neg</td>\n",
       "      <td>current</td>\n",
       "      <td>австралия,россия</td>\n",
       "    </tr>\n",
       "    <tr>\n",
       "      <th>2</th>\n",
       "      <td>Обама</td>\n",
       "      <td>ИГ</td>\n",
       "      <td>neg</td>\n",
       "      <td>current</td>\n",
       "      <td>обама,иго</td>\n",
       "    </tr>\n",
       "    <tr>\n",
       "      <th>3</th>\n",
       "      <td>Запад</td>\n",
       "      <td>Россия</td>\n",
       "      <td>neg</td>\n",
       "      <td>current</td>\n",
       "      <td>запад,россия</td>\n",
       "    </tr>\n",
       "    <tr>\n",
       "      <th>4</th>\n",
       "      <td>Россия</td>\n",
       "      <td>Запад</td>\n",
       "      <td>neg</td>\n",
       "      <td>current</td>\n",
       "      <td>россия,запад</td>\n",
       "    </tr>\n",
       "  </tbody>\n",
       "</table>\n",
       "</div>"
      ],
      "text/plain": [
       "    entity_1    entity_2 attitude      time              pair\n",
       "0     Россия   Австралия      neg   current  россия,австралия\n",
       "1  Австралия      Россия      neg   current  австралия,россия\n",
       "2      Обама          ИГ      neg   current         обама,иго\n",
       "3      Запад      Россия      neg   current      запад,россия\n",
       "4     Россия       Запад      neg   current      россия,запад"
      ]
     },
     "execution_count": 230,
     "metadata": {},
     "output_type": "execute_result"
    }
   ],
   "source": [
    "answer.head()"
   ]
  },
  {
   "cell_type": "code",
   "execution_count": 231,
   "metadata": {
    "collapsed": false
   },
   "outputs": [],
   "source": [
    "PAIRS = PAIRS.groupby([\"entity_1\", \"entity_2\"]).sum().reset_index()"
   ]
  },
  {
   "cell_type": "code",
   "execution_count": 232,
   "metadata": {
    "collapsed": false
   },
   "outputs": [],
   "source": [
    "answer[\"pair\"] = answer.entity_1.apply(lambda x: lemmatize(x).lower())+\",\"+\\\n",
    "                 answer.entity_2.apply(lambda x: lemmatize(x).lower())\n",
    "    \n",
    "answer[\"pair\"] = answer[\"pair\"].apply(lambda x: x.decode(\"utf8\"))"
   ]
  },
  {
   "cell_type": "code",
   "execution_count": 233,
   "metadata": {
    "collapsed": false
   },
   "outputs": [],
   "source": [
    "PAIRS[\"pair\"] = PAIRS.entity_1.apply(lambda x: lemmatize(x).lower())+\",\"+\\\n",
    "                PAIRS.entity_2.apply(lambda x: lemmatize(x).lower())\n",
    "#PAIRS[\"pair\"] = PAIRS[\"pair\"].apply(lambda x: x.encode(\"utf8\"))"
   ]
  },
  {
   "cell_type": "code",
   "execution_count": 234,
   "metadata": {
    "collapsed": false
   },
   "outputs": [
    {
     "data": {
      "text/plain": [
       "u'\\u0440\\u043e\\u0441\\u0441\\u0438\\u044f,\\u0430\\u0432\\u0441\\u0442\\u0440\\u0430\\u043b\\u0438\\u044f'"
      ]
     },
     "execution_count": 234,
     "metadata": {},
     "output_type": "execute_result"
    }
   ],
   "source": [
    "PAIRS[PAIRS.entity_1==u\"Россия\"].iloc[0].pair"
   ]
  },
  {
   "cell_type": "code",
   "execution_count": 235,
   "metadata": {
    "collapsed": false
   },
   "outputs": [
    {
     "data": {
      "text/plain": [
       "u'\\u0440\\u043e\\u0441\\u0441\\u0438\\u044f,\\u0430\\u0432\\u0441\\u0442\\u0440\\u0430\\u043b\\u0438\\u044f'"
      ]
     },
     "execution_count": 235,
     "metadata": {},
     "output_type": "execute_result"
    }
   ],
   "source": [
    "answer[answer.entity_1==\"Россия\"].loc[0].pair"
   ]
  },
  {
   "cell_type": "code",
   "execution_count": 238,
   "metadata": {
    "collapsed": false
   },
   "outputs": [
    {
     "data": {
      "text/html": [
       "<div>\n",
       "<style>\n",
       "    .dataframe thead tr:only-child th {\n",
       "        text-align: right;\n",
       "    }\n",
       "\n",
       "    .dataframe thead th {\n",
       "        text-align: left;\n",
       "    }\n",
       "\n",
       "    .dataframe tbody tr th {\n",
       "        vertical-align: top;\n",
       "    }\n",
       "</style>\n",
       "<table border=\"1\" class=\"dataframe\">\n",
       "  <thead>\n",
       "    <tr style=\"text-align: right;\">\n",
       "      <th></th>\n",
       "      <th>entity_1</th>\n",
       "      <th>entity_2</th>\n",
       "      <th>attitude</th>\n",
       "      <th>time</th>\n",
       "      <th>pair</th>\n",
       "    </tr>\n",
       "  </thead>\n",
       "  <tbody>\n",
       "    <tr>\n",
       "      <th>0</th>\n",
       "      <td>Россия</td>\n",
       "      <td>Австралия</td>\n",
       "      <td>neg</td>\n",
       "      <td>current</td>\n",
       "      <td>россия,австралия</td>\n",
       "    </tr>\n",
       "    <tr>\n",
       "      <th>4</th>\n",
       "      <td>Россия</td>\n",
       "      <td>Запад</td>\n",
       "      <td>neg</td>\n",
       "      <td>current</td>\n",
       "      <td>россия,запад</td>\n",
       "    </tr>\n",
       "    <tr>\n",
       "      <th>5</th>\n",
       "      <td>Россия</td>\n",
       "      <td>Сирия</td>\n",
       "      <td>neg</td>\n",
       "      <td>current</td>\n",
       "      <td>россия,сирия</td>\n",
       "    </tr>\n",
       "    <tr>\n",
       "      <th>12</th>\n",
       "      <td>Россия</td>\n",
       "      <td>Украина</td>\n",
       "      <td>neg</td>\n",
       "      <td>current</td>\n",
       "      <td>россия,украина</td>\n",
       "    </tr>\n",
       "  </tbody>\n",
       "</table>\n",
       "</div>"
      ],
      "text/plain": [
       "   entity_1    entity_2 attitude      time              pair\n",
       "0    Россия   Австралия      neg   current  россия,австралия\n",
       "4    Россия       Запад      neg   current      россия,запад\n",
       "5    Россия       Сирия      neg   current      россия,сирия\n",
       "12   Россия     Украина      neg   current    россия,украина"
      ]
     },
     "execution_count": 238,
     "metadata": {},
     "output_type": "execute_result"
    }
   ],
   "source": [
    "answer[answer.entity_1==\"Россия\"]"
   ]
  },
  {
   "cell_type": "code",
   "execution_count": 240,
   "metadata": {
    "collapsed": false
   },
   "outputs": [
    {
     "data": {
      "text/html": [
       "<div>\n",
       "<style>\n",
       "    .dataframe thead tr:only-child th {\n",
       "        text-align: right;\n",
       "    }\n",
       "\n",
       "    .dataframe thead th {\n",
       "        text-align: left;\n",
       "    }\n",
       "\n",
       "    .dataframe tbody tr th {\n",
       "        vertical-align: top;\n",
       "    }\n",
       "</style>\n",
       "<table border=\"1\" class=\"dataframe\">\n",
       "  <thead>\n",
       "    <tr style=\"text-align: right;\">\n",
       "      <th></th>\n",
       "      <th>entity_1</th>\n",
       "      <th>entity_2</th>\n",
       "      <th>sentence</th>\n",
       "      <th>pair</th>\n",
       "    </tr>\n",
       "  </thead>\n",
       "  <tbody>\n",
       "    <tr>\n",
       "      <th>122</th>\n",
       "      <td>Россия</td>\n",
       "      <td>Австралия</td>\n",
       "      <td>И первым тревожным признаком того что Россия ...</td>\n",
       "      <td>россия,австралия</td>\n",
       "    </tr>\n",
       "    <tr>\n",
       "      <th>123</th>\n",
       "      <td>Россия</td>\n",
       "      <td>Донбасс</td>\n",
       "      <td>Однако эти атаки не отменяют того факта что Р...</td>\n",
       "      <td>россия,донбасс</td>\n",
       "    </tr>\n",
       "    <tr>\n",
       "      <th>124</th>\n",
       "      <td>Россия</td>\n",
       "      <td>ЕС</td>\n",
       "      <td>Россия сейчас не играет на привлечение ЕС на ...</td>\n",
       "      <td>россия,ес</td>\n",
       "    </tr>\n",
       "    <tr>\n",
       "      <th>125</th>\n",
       "      <td>Россия</td>\n",
       "      <td>Запад</td>\n",
       "      <td>И выигрывают от нее исламисты а также Россия ...</td>\n",
       "      <td>россия,запад</td>\n",
       "    </tr>\n",
       "    <tr>\n",
       "      <th>126</th>\n",
       "      <td>Россия</td>\n",
       "      <td>Крым</td>\n",
       "      <td>Однако эти атаки не отменяют того факта что Р...</td>\n",
       "      <td>россия,крым</td>\n",
       "    </tr>\n",
       "  </tbody>\n",
       "</table>\n",
       "</div>"
      ],
      "text/plain": [
       "    entity_1   entity_2                                           sentence  \\\n",
       "122   Россия  Австралия   И первым тревожным признаком того что Россия ...   \n",
       "123   Россия    Донбасс   Однако эти атаки не отменяют того факта что Р...   \n",
       "124   Россия         ЕС   Россия сейчас не играет на привлечение ЕС на ...   \n",
       "125   Россия      Запад   И выигрывают от нее исламисты а также Россия ...   \n",
       "126   Россия       Крым   Однако эти атаки не отменяют того факта что Р...   \n",
       "\n",
       "                 pair  \n",
       "122  россия,австралия  \n",
       "123    россия,донбасс  \n",
       "124         россия,ес  \n",
       "125      россия,запад  \n",
       "126       россия,крым  "
      ]
     },
     "execution_count": 240,
     "metadata": {},
     "output_type": "execute_result"
    }
   ],
   "source": [
    "PAIRS[PAIRS.entity_1==u\"Россия\"].head()"
   ]
  },
  {
   "cell_type": "code",
   "execution_count": null,
   "metadata": {
    "collapsed": true
   },
   "outputs": [],
   "source": []
  },
  {
   "cell_type": "code",
   "execution_count": 236,
   "metadata": {
    "collapsed": false
   },
   "outputs": [],
   "source": [
    "PAIRS_JOINED = PAIRS.join(answer.attitude, on=\"pair\")"
   ]
  },
  {
   "cell_type": "code",
   "execution_count": 237,
   "metadata": {
    "collapsed": false
   },
   "outputs": [
    {
     "data": {
      "text/html": [
       "<div>\n",
       "<style>\n",
       "    .dataframe thead tr:only-child th {\n",
       "        text-align: right;\n",
       "    }\n",
       "\n",
       "    .dataframe thead th {\n",
       "        text-align: left;\n",
       "    }\n",
       "\n",
       "    .dataframe tbody tr th {\n",
       "        vertical-align: top;\n",
       "    }\n",
       "</style>\n",
       "<table border=\"1\" class=\"dataframe\">\n",
       "  <thead>\n",
       "    <tr style=\"text-align: right;\">\n",
       "      <th></th>\n",
       "      <th>entity_1</th>\n",
       "      <th>entity_2</th>\n",
       "      <th>sentence</th>\n",
       "      <th>pair</th>\n",
       "      <th>attitude</th>\n",
       "    </tr>\n",
       "  </thead>\n",
       "  <tbody>\n",
       "    <tr>\n",
       "      <th>122</th>\n",
       "      <td>Россия</td>\n",
       "      <td>Австралия</td>\n",
       "      <td>И первым тревожным признаком того что Россия ...</td>\n",
       "      <td>россия,австралия</td>\n",
       "      <td>NaN</td>\n",
       "    </tr>\n",
       "    <tr>\n",
       "      <th>123</th>\n",
       "      <td>Россия</td>\n",
       "      <td>Донбасс</td>\n",
       "      <td>Однако эти атаки не отменяют того факта что Р...</td>\n",
       "      <td>россия,донбасс</td>\n",
       "      <td>NaN</td>\n",
       "    </tr>\n",
       "    <tr>\n",
       "      <th>124</th>\n",
       "      <td>Россия</td>\n",
       "      <td>ЕС</td>\n",
       "      <td>Россия сейчас не играет на привлечение ЕС на ...</td>\n",
       "      <td>россия,ес</td>\n",
       "      <td>NaN</td>\n",
       "    </tr>\n",
       "    <tr>\n",
       "      <th>125</th>\n",
       "      <td>Россия</td>\n",
       "      <td>Запад</td>\n",
       "      <td>И выигрывают от нее исламисты а также Россия ...</td>\n",
       "      <td>россия,запад</td>\n",
       "      <td>NaN</td>\n",
       "    </tr>\n",
       "    <tr>\n",
       "      <th>126</th>\n",
       "      <td>Россия</td>\n",
       "      <td>Крым</td>\n",
       "      <td>Однако эти атаки не отменяют того факта что Р...</td>\n",
       "      <td>россия,крым</td>\n",
       "      <td>NaN</td>\n",
       "    </tr>\n",
       "    <tr>\n",
       "      <th>127</th>\n",
       "      <td>Россия</td>\n",
       "      <td>ННГ</td>\n",
       "      <td>Татьяна КастуеваЖан руководитель центра Росси...</td>\n",
       "      <td>россия,ннг</td>\n",
       "      <td>NaN</td>\n",
       "    </tr>\n",
       "    <tr>\n",
       "      <th>128</th>\n",
       "      <td>Россия</td>\n",
       "      <td>Париже</td>\n",
       "      <td>— Очевидно что Россия является наибольшим бен...</td>\n",
       "      <td>россия,париж</td>\n",
       "      <td>NaN</td>\n",
       "    </tr>\n",
       "    <tr>\n",
       "      <th>129</th>\n",
       "      <td>Россия</td>\n",
       "      <td>РФ</td>\n",
       "      <td>В частности и постоянный представитель Украин...</td>\n",
       "      <td>россия,рф</td>\n",
       "      <td>NaN</td>\n",
       "    </tr>\n",
       "    <tr>\n",
       "      <th>130</th>\n",
       "      <td>Россия</td>\n",
       "      <td>Сирии</td>\n",
       "      <td>И первым тревожным признаком того что Россия ...</td>\n",
       "      <td>россия,сирия</td>\n",
       "      <td>NaN</td>\n",
       "    </tr>\n",
       "    <tr>\n",
       "      <th>131</th>\n",
       "      <td>Россия</td>\n",
       "      <td>Французском институте международных отношений</td>\n",
       "      <td>Татьяна КастуеваЖан руководитель центра Росси...</td>\n",
       "      <td>россия,французский институт международный отно...</td>\n",
       "      <td>NaN</td>\n",
       "    </tr>\n",
       "  </tbody>\n",
       "</table>\n",
       "</div>"
      ],
      "text/plain": [
       "    entity_1                                       entity_2  \\\n",
       "122   Россия                                      Австралия   \n",
       "123   Россия                                        Донбасс   \n",
       "124   Россия                                             ЕС   \n",
       "125   Россия                                          Запад   \n",
       "126   Россия                                           Крым   \n",
       "127   Россия                                            ННГ   \n",
       "128   Россия                                         Париже   \n",
       "129   Россия                                             РФ   \n",
       "130   Россия                                          Сирии   \n",
       "131   Россия  Французском институте международных отношений   \n",
       "\n",
       "                                              sentence  \\\n",
       "122   И первым тревожным признаком того что Россия ...   \n",
       "123   Однако эти атаки не отменяют того факта что Р...   \n",
       "124   Россия сейчас не играет на привлечение ЕС на ...   \n",
       "125   И выигрывают от нее исламисты а также Россия ...   \n",
       "126   Однако эти атаки не отменяют того факта что Р...   \n",
       "127   Татьяна КастуеваЖан руководитель центра Росси...   \n",
       "128   — Очевидно что Россия является наибольшим бен...   \n",
       "129   В частности и постоянный представитель Украин...   \n",
       "130   И первым тревожным признаком того что Россия ...   \n",
       "131   Татьяна КастуеваЖан руководитель центра Росси...   \n",
       "\n",
       "                                                  pair attitude  \n",
       "122                                   россия,австралия      NaN  \n",
       "123                                     россия,донбасс      NaN  \n",
       "124                                          россия,ес      NaN  \n",
       "125                                       россия,запад      NaN  \n",
       "126                                        россия,крым      NaN  \n",
       "127                                         россия,ннг      NaN  \n",
       "128                                       россия,париж      NaN  \n",
       "129                                          россия,рф      NaN  \n",
       "130                                       россия,сирия      NaN  \n",
       "131  россия,французский институт международный отно...      NaN  "
      ]
     },
     "execution_count": 237,
     "metadata": {},
     "output_type": "execute_result"
    }
   ],
   "source": [
    "PAIRS_JOINED[PAIRS_JOINED.entity_1==u\"Россия\"]"
   ]
  },
  {
   "cell_type": "code",
   "execution_count": null,
   "metadata": {
    "collapsed": true
   },
   "outputs": [],
   "source": []
  },
  {
   "cell_type": "code",
   "execution_count": null,
   "metadata": {
    "collapsed": true
   },
   "outputs": [],
   "source": []
  },
  {
   "cell_type": "code",
   "execution_count": 156,
   "metadata": {
    "collapsed": true
   },
   "outputs": [],
   "source": [
    "word = lemmatize(cur_sentence)"
   ]
  },
  {
   "cell_type": "code",
   "execution_count": 157,
   "metadata": {
    "collapsed": false
   },
   "outputs": [
    {
     "data": {
      "text/plain": [
       "'NaN'"
      ]
     },
     "execution_count": 157,
     "metadata": {},
     "output_type": "execute_result"
    }
   ],
   "source": [
    "getSentimentCertainity(cur_sentence[16])[0]"
   ]
  },
  {
   "cell_type": "code",
   "execution_count": null,
   "metadata": {
    "collapsed": true
   },
   "outputs": [],
   "source": []
  },
  {
   "cell_type": "code",
   "execution_count": 159,
   "metadata": {
    "collapsed": false
   },
   "outputs": [
    {
     "data": {
      "text/plain": [
       "'negative'"
      ]
     },
     "execution_count": 159,
     "metadata": {},
     "output_type": "execute_result"
    }
   ],
   "source": [
    "getSentimentCertainity(\"трагедии\")[0]"
   ]
  },
  {
   "cell_type": "code",
   "execution_count": 160,
   "metadata": {
    "collapsed": false
   },
   "outputs": [
    {
     "data": {
      "text/plain": [
       "0.0"
      ]
     },
     "execution_count": 160,
     "metadata": {},
     "output_type": "execute_result"
    }
   ],
   "source": [
    "np.nansum(np.abs(sentiment))"
   ]
  },
  {
   "cell_type": "code",
   "execution_count": 161,
   "metadata": {
    "collapsed": false
   },
   "outputs": [
    {
     "name": "stdout",
     "output_type": "stream",
     "text": [
      " В частности и постоянный представитель Украины в ООН Юрий Сергеев написал в Twitter «В парижской трагедии «ищите женщину» — cherchez la femme — имя ее — Россия ожидаем приглашений от РФ присоединиться к борьбе с террором»\r\n",
      "\r\n"
     ]
    }
   ],
   "source": [
    "print(text[ENTITIES.loc[ent_1_number].paragraph][ENTITIES.loc[ent_1_number].sentence])"
   ]
  },
  {
   "cell_type": "code",
   "execution_count": 162,
   "metadata": {
    "collapsed": false
   },
   "outputs": [
    {
     "data": {
      "text/plain": [
       "('NaN', 'NaN')"
      ]
     },
     "execution_count": 162,
     "metadata": {},
     "output_type": "execute_result"
    }
   ],
   "source": [
    "getSentimentCertainity(cur_sentence[5])"
   ]
  },
  {
   "cell_type": "code",
   "execution_count": null,
   "metadata": {
    "collapsed": false
   },
   "outputs": [],
   "source": []
  },
  {
   "cell_type": "code",
   "execution_count": null,
   "metadata": {
    "collapsed": true
   },
   "outputs": [],
   "source": []
  },
  {
   "cell_type": "code",
   "execution_count": null,
   "metadata": {
    "collapsed": true
   },
   "outputs": [],
   "source": []
  },
  {
   "cell_type": "code",
   "execution_count": 163,
   "metadata": {
    "collapsed": false
   },
   "outputs": [
    {
     "data": {
      "text/html": [
       "<div>\n",
       "<style>\n",
       "    .dataframe thead tr:only-child th {\n",
       "        text-align: right;\n",
       "    }\n",
       "\n",
       "    .dataframe thead th {\n",
       "        text-align: left;\n",
       "    }\n",
       "\n",
       "    .dataframe tbody tr th {\n",
       "        vertical-align: top;\n",
       "    }\n",
       "</style>\n",
       "<table border=\"1\" class=\"dataframe\">\n",
       "  <thead>\n",
       "    <tr style=\"text-align: right;\">\n",
       "      <th></th>\n",
       "      <th>entity</th>\n",
       "      <th>paragraph</th>\n",
       "      <th>sentence</th>\n",
       "      <th>loc_start</th>\n",
       "      <th>loc_end</th>\n",
       "    </tr>\n",
       "  </thead>\n",
       "  <tbody>\n",
       "    <tr>\n",
       "      <th>0</th>\n",
       "      <td>Мыкола Сирук</td>\n",
       "      <td>1</td>\n",
       "      <td>1</td>\n",
       "      <td>4</td>\n",
       "      <td>16</td>\n",
       "    </tr>\n",
       "    <tr>\n",
       "      <th>1</th>\n",
       "      <td>Россия</td>\n",
       "      <td>2</td>\n",
       "      <td>1</td>\n",
       "      <td>159</td>\n",
       "      <td>165</td>\n",
       "    </tr>\n",
       "    <tr>\n",
       "      <th>2</th>\n",
       "      <td>Украины</td>\n",
       "      <td>2</td>\n",
       "      <td>2</td>\n",
       "      <td>40</td>\n",
       "      <td>47</td>\n",
       "    </tr>\n",
       "    <tr>\n",
       "      <th>3</th>\n",
       "      <td>ООН</td>\n",
       "      <td>2</td>\n",
       "      <td>2</td>\n",
       "      <td>50</td>\n",
       "      <td>53</td>\n",
       "    </tr>\n",
       "    <tr>\n",
       "      <th>4</th>\n",
       "      <td>Юрий Сергеев</td>\n",
       "      <td>2</td>\n",
       "      <td>2</td>\n",
       "      <td>54</td>\n",
       "      <td>66</td>\n",
       "    </tr>\n",
       "    <tr>\n",
       "      <th>5</th>\n",
       "      <td>Twitter</td>\n",
       "      <td>2</td>\n",
       "      <td>2</td>\n",
       "      <td>77</td>\n",
       "      <td>84</td>\n",
       "    </tr>\n",
       "    <tr>\n",
       "      <th>6</th>\n",
       "      <td>Россия</td>\n",
       "      <td>2</td>\n",
       "      <td>2</td>\n",
       "      <td>154</td>\n",
       "      <td>160</td>\n",
       "    </tr>\n",
       "    <tr>\n",
       "      <th>7</th>\n",
       "      <td>РФ</td>\n",
       "      <td>2</td>\n",
       "      <td>2</td>\n",
       "      <td>184</td>\n",
       "      <td>186</td>\n",
       "    </tr>\n",
       "    <tr>\n",
       "      <th>8</th>\n",
       "      <td>Россия</td>\n",
       "      <td>3</td>\n",
       "      <td>1</td>\n",
       "      <td>39</td>\n",
       "      <td>45</td>\n",
       "    </tr>\n",
       "    <tr>\n",
       "      <th>9</th>\n",
       "      <td>Сирии</td>\n",
       "      <td>3</td>\n",
       "      <td>1</td>\n",
       "      <td>136</td>\n",
       "      <td>141</td>\n",
       "    </tr>\n",
       "  </tbody>\n",
       "</table>\n",
       "</div>"
      ],
      "text/plain": [
       "         entity paragraph sentence loc_start loc_end\n",
       "0  Мыкола Сирук         1        1         4      16\n",
       "1        Россия         2        1       159     165\n",
       "2       Украины         2        2        40      47\n",
       "3           ООН         2        2        50      53\n",
       "4  Юрий Сергеев         2        2        54      66\n",
       "5       Twitter         2        2        77      84\n",
       "6        Россия         2        2       154     160\n",
       "7            РФ         2        2       184     186\n",
       "8        Россия         3        1        39      45\n",
       "9         Сирии         3        1       136     141"
      ]
     },
     "execution_count": 163,
     "metadata": {},
     "output_type": "execute_result"
    }
   ],
   "source": [
    "ENTITIES.head(10)"
   ]
  },
  {
   "cell_type": "code",
   "execution_count": 164,
   "metadata": {
    "collapsed": false
   },
   "outputs": [
    {
     "data": {
      "text/plain": [
       "(114, 4)"
      ]
     },
     "execution_count": 164,
     "metadata": {},
     "output_type": "execute_result"
    }
   ],
   "source": [
    "PAIRS.drop_duplicates().shape"
   ]
  },
  {
   "cell_type": "code",
   "execution_count": 165,
   "metadata": {
    "collapsed": false
   },
   "outputs": [],
   "source": [
    "PAIRS_lemmatized = PAIRS.copy()\n",
    "PAIRS_lemmatized[\"entity_1\"] = PAIRS_lemmatized[\"entity_1\"].apply(lambda x: lemmatize(x))\n",
    "PAIRS_lemmatized[\"entity_2\"] = PAIRS_lemmatized[\"entity_2\"].apply(lambda x: lemmatize(x))"
   ]
  },
  {
   "cell_type": "code",
   "execution_count": 166,
   "metadata": {
    "collapsed": false
   },
   "outputs": [
    {
     "data": {
      "text/html": [
       "<div>\n",
       "<style>\n",
       "    .dataframe thead tr:only-child th {\n",
       "        text-align: right;\n",
       "    }\n",
       "\n",
       "    .dataframe thead th {\n",
       "        text-align: left;\n",
       "    }\n",
       "\n",
       "    .dataframe tbody tr th {\n",
       "        vertical-align: top;\n",
       "    }\n",
       "</style>\n",
       "<table border=\"1\" class=\"dataframe\">\n",
       "  <thead>\n",
       "    <tr style=\"text-align: right;\">\n",
       "      <th></th>\n",
       "      <th>entity_1</th>\n",
       "      <th>entity_2</th>\n",
       "      <th>sentence</th>\n",
       "      <th>pair</th>\n",
       "    </tr>\n",
       "  </thead>\n",
       "  <tbody>\n",
       "  </tbody>\n",
       "</table>\n",
       "</div>"
      ],
      "text/plain": [
       "Empty DataFrame\n",
       "Columns: [entity_1, entity_2, sentence, pair]\n",
       "Index: []"
      ]
     },
     "execution_count": 166,
     "metadata": {},
     "output_type": "execute_result"
    }
   ],
   "source": [
    "PAIRS_lemmatized[PAIRS_lemmatized.duplicated()].drop_duplicates()"
   ]
  },
  {
   "cell_type": "code",
   "execution_count": 167,
   "metadata": {
    "collapsed": false
   },
   "outputs": [
    {
     "data": {
      "text/html": [
       "<div>\n",
       "<style>\n",
       "    .dataframe thead tr:only-child th {\n",
       "        text-align: right;\n",
       "    }\n",
       "\n",
       "    .dataframe thead th {\n",
       "        text-align: left;\n",
       "    }\n",
       "\n",
       "    .dataframe tbody tr th {\n",
       "        vertical-align: top;\n",
       "    }\n",
       "</style>\n",
       "<table border=\"1\" class=\"dataframe\">\n",
       "  <thead>\n",
       "    <tr style=\"text-align: right;\">\n",
       "      <th></th>\n",
       "      <th>entity_1</th>\n",
       "      <th>entity_2</th>\n",
       "      <th>attitude</th>\n",
       "      <th>time</th>\n",
       "      <th>pair</th>\n",
       "    </tr>\n",
       "  </thead>\n",
       "  <tbody>\n",
       "    <tr>\n",
       "      <th>0</th>\n",
       "      <td>Россия</td>\n",
       "      <td>Австралия</td>\n",
       "      <td>neg</td>\n",
       "      <td>current</td>\n",
       "      <td>россия,австралия</td>\n",
       "    </tr>\n",
       "    <tr>\n",
       "      <th>1</th>\n",
       "      <td>Австралия</td>\n",
       "      <td>Россия</td>\n",
       "      <td>neg</td>\n",
       "      <td>current</td>\n",
       "      <td>австралия,россия</td>\n",
       "    </tr>\n",
       "    <tr>\n",
       "      <th>2</th>\n",
       "      <td>Обама</td>\n",
       "      <td>ИГ</td>\n",
       "      <td>neg</td>\n",
       "      <td>current</td>\n",
       "      <td>обама,иго</td>\n",
       "    </tr>\n",
       "    <tr>\n",
       "      <th>3</th>\n",
       "      <td>Запад</td>\n",
       "      <td>Россия</td>\n",
       "      <td>neg</td>\n",
       "      <td>current</td>\n",
       "      <td>запад,россия</td>\n",
       "    </tr>\n",
       "    <tr>\n",
       "      <th>4</th>\n",
       "      <td>Россия</td>\n",
       "      <td>Запад</td>\n",
       "      <td>neg</td>\n",
       "      <td>current</td>\n",
       "      <td>россия,запад</td>\n",
       "    </tr>\n",
       "    <tr>\n",
       "      <th>5</th>\n",
       "      <td>Россия</td>\n",
       "      <td>Сирия</td>\n",
       "      <td>neg</td>\n",
       "      <td>current</td>\n",
       "      <td>россия,сирия</td>\n",
       "    </tr>\n",
       "    <tr>\n",
       "      <th>6</th>\n",
       "      <td>Франция</td>\n",
       "      <td>Россия</td>\n",
       "      <td>pos</td>\n",
       "      <td>current</td>\n",
       "      <td>франция,россия</td>\n",
       "    </tr>\n",
       "    <tr>\n",
       "      <th>7</th>\n",
       "      <td>author</td>\n",
       "      <td>Россия</td>\n",
       "      <td>neg</td>\n",
       "      <td>current</td>\n",
       "      <td>author,россия</td>\n",
       "    </tr>\n",
       "    <tr>\n",
       "      <th>8</th>\n",
       "      <td>Обама</td>\n",
       "      <td>Асад</td>\n",
       "      <td>neg</td>\n",
       "      <td>current</td>\n",
       "      <td>обама,асад</td>\n",
       "    </tr>\n",
       "    <tr>\n",
       "      <th>9</th>\n",
       "      <td>author</td>\n",
       "      <td>Обама</td>\n",
       "      <td>neg</td>\n",
       "      <td>current</td>\n",
       "      <td>author,обама</td>\n",
       "    </tr>\n",
       "    <tr>\n",
       "      <th>10</th>\n",
       "      <td>author</td>\n",
       "      <td>Путин</td>\n",
       "      <td>neg</td>\n",
       "      <td>current</td>\n",
       "      <td>author,путин</td>\n",
       "    </tr>\n",
       "    <tr>\n",
       "      <th>11</th>\n",
       "      <td>author</td>\n",
       "      <td>Асад</td>\n",
       "      <td>neg</td>\n",
       "      <td>current</td>\n",
       "      <td>author,асад</td>\n",
       "    </tr>\n",
       "    <tr>\n",
       "      <th>12</th>\n",
       "      <td>Россия</td>\n",
       "      <td>Украина</td>\n",
       "      <td>neg</td>\n",
       "      <td>current</td>\n",
       "      <td>россия,украина</td>\n",
       "    </tr>\n",
       "    <tr>\n",
       "      <th>13</th>\n",
       "      <td>Украина</td>\n",
       "      <td>Россия</td>\n",
       "      <td>neg</td>\n",
       "      <td>current</td>\n",
       "      <td>украина,россия</td>\n",
       "    </tr>\n",
       "    <tr>\n",
       "      <th>14</th>\n",
       "      <td>Христо Грозев</td>\n",
       "      <td>Россия</td>\n",
       "      <td>neg</td>\n",
       "      <td>current</td>\n",
       "      <td>христо грозев,россия</td>\n",
       "    </tr>\n",
       "    <tr>\n",
       "      <th>15</th>\n",
       "      <td>Герхард Гнаук</td>\n",
       "      <td>Россия</td>\n",
       "      <td>neg</td>\n",
       "      <td>current</td>\n",
       "      <td>герхард гнаука,россия</td>\n",
       "    </tr>\n",
       "    <tr>\n",
       "      <th>16</th>\n",
       "      <td>Вильям Тейлор</td>\n",
       "      <td>Россия</td>\n",
       "      <td>neg</td>\n",
       "      <td>current</td>\n",
       "      <td>вильям тейлор,россия</td>\n",
       "    </tr>\n",
       "    <tr>\n",
       "      <th>17</th>\n",
       "      <td>Вильям Тейлор</td>\n",
       "      <td>ИГИЛ</td>\n",
       "      <td>neg</td>\n",
       "      <td>current</td>\n",
       "      <td>вильям тейлор,игил</td>\n",
       "    </tr>\n",
       "    <tr>\n",
       "      <th>18</th>\n",
       "      <td>Владимир Огрызко</td>\n",
       "      <td>Россия</td>\n",
       "      <td>neg</td>\n",
       "      <td>current</td>\n",
       "      <td>владимир огрызко,россия</td>\n",
       "    </tr>\n",
       "    <tr>\n",
       "      <th>19</th>\n",
       "      <td>Татьяна Кастуева-Жан</td>\n",
       "      <td>Россия</td>\n",
       "      <td>neg</td>\n",
       "      <td>current</td>\n",
       "      <td>татьяна кастуев-жан,россия</td>\n",
       "    </tr>\n",
       "    <tr>\n",
       "      <th>20</th>\n",
       "      <td>Франция</td>\n",
       "      <td>Асад</td>\n",
       "      <td>neg</td>\n",
       "      <td>past</td>\n",
       "      <td>франция,асад</td>\n",
       "    </tr>\n",
       "    <tr>\n",
       "      <th>21</th>\n",
       "      <td>Франция</td>\n",
       "      <td>ИГИЛ</td>\n",
       "      <td>neg</td>\n",
       "      <td>current</td>\n",
       "      <td>франция,игил</td>\n",
       "    </tr>\n",
       "  </tbody>\n",
       "</table>\n",
       "</div>"
      ],
      "text/plain": [
       "                entity_1    entity_2 attitude      time  \\\n",
       "0                 Россия   Австралия      neg   current   \n",
       "1              Австралия      Россия      neg   current   \n",
       "2                  Обама          ИГ      neg   current   \n",
       "3                  Запад      Россия      neg   current   \n",
       "4                 Россия       Запад      neg   current   \n",
       "5                 Россия       Сирия      neg   current   \n",
       "6                Франция      Россия      pos   current   \n",
       "7                 author      Россия      neg   current   \n",
       "8                  Обама        Асад      neg   current   \n",
       "9                 author       Обама      neg   current   \n",
       "10                author       Путин      neg   current   \n",
       "11                author        Асад      neg   current   \n",
       "12                Россия     Украина      neg   current   \n",
       "13               Украина      Россия      neg   current   \n",
       "14         Христо Грозев      Россия      neg   current   \n",
       "15         Герхард Гнаук      Россия      neg   current   \n",
       "16         Вильям Тейлор      Россия      neg   current   \n",
       "17         Вильям Тейлор        ИГИЛ      neg   current   \n",
       "18      Владимир Огрызко      Россия      neg   current   \n",
       "19  Татьяна Кастуева-Жан      Россия      neg   current   \n",
       "20               Франция        Асад      neg      past   \n",
       "21               Франция        ИГИЛ      neg   current   \n",
       "\n",
       "                          pair  \n",
       "0             россия,австралия  \n",
       "1             австралия,россия  \n",
       "2                    обама,иго  \n",
       "3                 запад,россия  \n",
       "4                 россия,запад  \n",
       "5                 россия,сирия  \n",
       "6               франция,россия  \n",
       "7                author,россия  \n",
       "8                   обама,асад  \n",
       "9                 author,обама  \n",
       "10                author,путин  \n",
       "11                 author,асад  \n",
       "12              россия,украина  \n",
       "13              украина,россия  \n",
       "14        христо грозев,россия  \n",
       "15       герхард гнаука,россия  \n",
       "16        вильям тейлор,россия  \n",
       "17          вильям тейлор,игил  \n",
       "18     владимир огрызко,россия  \n",
       "19  татьяна кастуев-жан,россия  \n",
       "20                франция,асад  \n",
       "21                франция,игил  "
      ]
     },
     "execution_count": 167,
     "metadata": {},
     "output_type": "execute_result"
    }
   ],
   "source": [
    "answer"
   ]
  },
  {
   "cell_type": "code",
   "execution_count": null,
   "metadata": {
    "collapsed": true
   },
   "outputs": [],
   "source": []
  },
  {
   "cell_type": "code",
   "execution_count": null,
   "metadata": {
    "collapsed": true
   },
   "outputs": [],
   "source": []
  },
  {
   "cell_type": "code",
   "execution_count": null,
   "metadata": {
    "collapsed": true
   },
   "outputs": [],
   "source": []
  },
  {
   "cell_type": "code",
   "execution_count": null,
   "metadata": {
    "collapsed": true
   },
   "outputs": [],
   "source": []
  },
  {
   "cell_type": "code",
   "execution_count": null,
   "metadata": {
    "collapsed": true
   },
   "outputs": [],
   "source": []
  },
  {
   "cell_type": "code",
   "execution_count": null,
   "metadata": {
    "collapsed": true
   },
   "outputs": [],
   "source": []
  },
  {
   "cell_type": "code",
   "execution_count": null,
   "metadata": {
    "collapsed": true
   },
   "outputs": [],
   "source": []
  },
  {
   "cell_type": "code",
   "execution_count": null,
   "metadata": {
    "collapsed": true
   },
   "outputs": [],
   "source": []
  },
  {
   "cell_type": "code",
   "execution_count": null,
   "metadata": {
    "collapsed": true
   },
   "outputs": [],
   "source": []
  },
  {
   "cell_type": "code",
   "execution_count": null,
   "metadata": {
    "collapsed": true
   },
   "outputs": [],
   "source": []
  },
  {
   "cell_type": "code",
   "execution_count": null,
   "metadata": {
    "collapsed": true
   },
   "outputs": [],
   "source": []
  },
  {
   "cell_type": "code",
   "execution_count": null,
   "metadata": {
    "collapsed": true
   },
   "outputs": [],
   "source": []
  },
  {
   "cell_type": "code",
   "execution_count": null,
   "metadata": {
    "collapsed": true
   },
   "outputs": [],
   "source": []
  }
 ],
 "metadata": {
  "anaconda-cloud": {},
  "kernelspec": {
   "display_name": "Python 2",
   "language": "python",
   "name": "python2"
  },
  "language_info": {
   "codemirror_mode": {
    "name": "ipython",
    "version": 2
   },
   "file_extension": ".py",
   "mimetype": "text/x-python",
   "name": "python",
   "nbconvert_exporter": "python",
   "pygments_lexer": "ipython2",
   "version": "2.7.12"
  }
 },
 "nbformat": 4,
 "nbformat_minor": 0
}
