{
 "cells": [
  {
   "cell_type": "markdown",
   "metadata": {
    "deletable": true,
    "editable": true
   },
   "source": [
    "# HSE Summer School NLP&DA\n",
    "\n",
    "![](https://www.hse.ru/data/2014/06/25/1309038576/logo_hse_cmyk_e.jpg)\n",
    "\n",
    "Учебный проект по теме \"Тональность отношений субъектов (именованных сущностей)\", предполагающий разработку участниками школы под руководством тьюторов программных средств, решающих задачу определения мнения сторон о различных событиях, освещаемых в новостях"
   ]
  },
  {
   "cell_type": "markdown",
   "metadata": {},
   "source": [
    "Нужен алгоритм, который по выделенным сущностям может найти пары этих сущностей в тексте и вырезать соответствующие куски между ними + несколько слов справа-слева. Возможно, имеет смысл идти от N-ой выделенной сущности до N+2, и включать всё до неё. \n",
    "\n",
    "Чем может помочь синтаксический анализ?\n",
    "\n",
    "Чем поможет морфологический анализ?"
   ]
  },
  {
   "cell_type": "code",
   "execution_count": 2,
   "metadata": {
    "code_folding": [
     17
    ],
    "collapsed": false,
    "deletable": true,
    "editable": true
   },
   "outputs": [],
   "source": [
    "import sys \n",
    "sys.path.append(\"/Users/dmitrys/anaconda2/lib/python2.7/site-packages/\")\n",
    "import pandas as pd\n",
    "import numpy as np\n",
    "import matplotlib.pyplot as plt\n",
    "import seaborn as sns\n",
    "import pymorphy2\n",
    "from nltk.tokenize import TweetTokenizer\n",
    "tknzr = TweetTokenizer()\n",
    "\n",
    "import pymorphy2\n",
    "morph = pymorphy2.MorphAnalyzer()\n",
    "\n",
    "\n",
    "from pymystem3 import Mystem\n",
    "\n",
    "m = Mystem()\n",
    "def lemmatize(text, mystem=m):\n",
    "    try:\n",
    "        return \"\".join(m.lemmatize(text)).strip()  \n",
    "    except:\n",
    "        return \" \"\n",
    "\n",
    "import string\n",
    "%matplotlib inline"
   ]
  },
  {
   "cell_type": "code",
   "execution_count": 3,
   "metadata": {
    "code_folding": [
     0
    ],
    "collapsed": true
   },
   "outputs": [],
   "source": [
    "def log_progress(sequence, every=None, size=None, name='Items'):\n",
    "    from ipywidgets import IntProgress, HTML, VBox\n",
    "    from IPython.display import display\n",
    "\n",
    "    is_iterator = False\n",
    "    if size is None:\n",
    "        try:\n",
    "            size = len(sequence)\n",
    "        except TypeError:\n",
    "            is_iterator = True\n",
    "    if size is not None:\n",
    "        if every is None:\n",
    "            if size <= 200:\n",
    "                every = 1\n",
    "            else:\n",
    "                every = int(size / 200)     # every 0.5%\n",
    "    else:\n",
    "        assert every is not None, 'sequence is iterator, set every'\n",
    "\n",
    "    if is_iterator:\n",
    "        progress = IntProgress(min=0, max=1, value=1)\n",
    "        progress.bar_style = 'info'\n",
    "    else:\n",
    "        progress = IntProgress(min=0, max=size, value=0)\n",
    "    label = HTML()\n",
    "    box = VBox(children=[label, progress])\n",
    "    display(box)\n",
    "\n",
    "    index = 0\n",
    "    try:\n",
    "        for index, record in enumerate(sequence, 1):\n",
    "            if index == 1 or index % every == 0:\n",
    "                if is_iterator:\n",
    "                    label.value = '{name}: {index} / ?'.format(\n",
    "                        name=name,\n",
    "                        index=index\n",
    "                    )\n",
    "                else:\n",
    "                    progress.value = index\n",
    "                    label.value = u'{name}: {index} / {size}'.format(\n",
    "                        name=name,\n",
    "                        index=index,\n",
    "                        size=size\n",
    "                    )\n",
    "            yield record\n",
    "    except:\n",
    "        progress.bar_style = 'danger'\n",
    "        raise\n",
    "    else:\n",
    "        progress.bar_style = 'success'\n",
    "        progress.value = index\n",
    "        label.value = \"{name}: {index}\".format(\n",
    "            name=name,\n",
    "            index=str(index or '?')\n",
    "        )"
   ]
  },
  {
   "cell_type": "code",
   "execution_count": 56,
   "metadata": {
    "collapsed": true
   },
   "outputs": [],
   "source": [
    "def commit():\n",
    "    ! git add NLP_summerschool.ipynb\n",
    "    ! git commit -m \"and now for something comepletely different - ML\"\n",
    "    ! git push -u origin master"
   ]
  },
  {
   "cell_type": "code",
   "execution_count": 57,
   "metadata": {
    "collapsed": false
   },
   "outputs": [
    {
     "name": "stdout",
     "output_type": "stream",
     "text": [
      "[master 5be9670] and now for something comepletely different - ML\n",
      " 1 file changed, 220 insertions(+), 507 deletions(-)\n",
      "Counting objects: 3, done.\n",
      "Delta compression using up to 4 threads.\n",
      "Compressing objects: 100% (3/3), done.\n",
      "Writing objects: 100% (3/3), 2.13 KiB | 0 bytes/s, done.\n",
      "Total 3 (delta 2), reused 0 (delta 0)\n",
      "remote: Resolving deltas: 100% (2/2), completed with 2 local objects.\u001b[K\n",
      "To https://github.com/DmitrySerg/HSE-NLP-Summer-School.git\n",
      "   2aa104c..5be9670  master -> master\n",
      "Branch master set up to track remote branch master from origin.\n"
     ]
    }
   ],
   "source": [
    "commit()"
   ]
  },
  {
   "cell_type": "markdown",
   "metadata": {
    "deletable": true,
    "editable": true
   },
   "source": [
    "## Utility functions"
   ]
  },
  {
   "cell_type": "code",
   "execution_count": 58,
   "metadata": {
    "code_folding": [
     35,
     53,
     81,
     84
    ],
    "collapsed": false,
    "deletable": true,
    "editable": true
   },
   "outputs": [],
   "source": [
    "def loadAnswer(number):\n",
    "    with open(\"Texts/art{}.opin.txt\".format(number)) as f:\n",
    "        d = f.read()\n",
    "    return d\n",
    "\n",
    "def loadText(number):\n",
    "    with open(\"Texts/art{}.txt\".format(number)) as f:\n",
    "        d = f.read()\n",
    "    return d\n",
    "\n",
    "def transformAnnotation(number):\n",
    "    \"\"\"\n",
    "    Given number loads txt file with annotation \n",
    "    Returns DataFrame with transformed annotation\n",
    "    \"\"\"\n",
    "    with open(\"Texts/art{}.ann\".format(number)) as f:\n",
    "        d = f.read()\n",
    "\n",
    "    d = d.split(\"\\n\")\n",
    "\n",
    "    for i in range(len(d)):\n",
    "        d[i] = d[i].split(\"\\t\")\n",
    "\n",
    "    d = pd.DataFrame(d)\n",
    "    d.drop([0], axis=1, inplace=True)\n",
    "    d = pd.concat([d, pd.DataFrame(d[1].apply(lambda x: x.split()).tolist())], axis=1)\n",
    "    d.columns = [\"to_delete\", \"entity\", \"entity_car\", \"pos_1\", \"pos_2\"]\n",
    "    d.drop([\"to_delete\"], axis=1, inplace=True)\n",
    "    d[\"entity\"] = d[\"entity\"].apply(lambda x: x.strip(\"\\r\"))\n",
    "    d[\"entity\"] = d[\"entity\"].apply(lambda x: x.decode(\"utf8\"))\n",
    "    \n",
    "    d = d[~d.entity.isin([\"Unknown\", \"Author\"])].entity.reset_index(drop=True)\n",
    "    \n",
    "    return d\n",
    "\n",
    "def transformAnswer(number):\n",
    "    \"\"\"\n",
    "    Given number loads txt file with answer \n",
    "    Returns DataFrame with transformed answer\n",
    "    \"\"\"\n",
    "    answ = loadAnswer(number)\n",
    "    answ = answ.split(\"\\n\")\n",
    "\n",
    "    for i in range(len(answ)):\n",
    "        answ[i] = answ[i].split(\",\")\n",
    "\n",
    "    answ = pd.DataFrame(answ)\n",
    "    answ.columns = [\"entity_1\", \"entity_2\", \"attitude\", \"time\"]\n",
    "    answ.dropna(inplace=True)\n",
    "    answ.time = answ.time.apply(lambda x: x.strip(\"\\r\"))\n",
    "    \n",
    "    return answ\n",
    "\n",
    "def loadRuSentiLex():\n",
    "    \"\"\"\n",
    "    Loads the RuSentiLex 2017 dictionary\n",
    "    Returns data frame with [\"word\", \"tag\", \"word_lemmatized\", \"tone\", \"certainty\"]\n",
    "    \"\"\"\n",
    "    with open(\"RuSentiLex2017_revised_2.txt\") as f:\n",
    "        Rusentilex = f.read().decode(\"cp1251\").encode(\"utf8\")\n",
    "        Rusentilex = Rusentilex[1510:]\n",
    "\n",
    "    Rusentilex = Rusentilex.split(\"\\n\")\n",
    "    for i, item in enumerate(Rusentilex):\n",
    "        Rusentilex[i] = item.split(\",\")\n",
    "\n",
    "    for i in Rusentilex:\n",
    "        if len(i) < 5:\n",
    "            Rusentilex.remove(i)\n",
    "\n",
    "    Rusentilex = pd.DataFrame(Rusentilex)\n",
    "    Rusentilex.drop([5, 6, 7], axis=1, inplace=True)\n",
    "    Rusentilex.columns = [\"word\", \"tag\", \"word_lemmatized\", \"tone\", \"certainty\"]\n",
    "    Rusentilex[\"certainty\"] = Rusentilex[\"certainty\"].apply(lambda x: x.strip('\\r'))\n",
    "    \n",
    "    \n",
    "    Rusentilex[\"tone\"] = Rusentilex[\"tone\"].apply(lambda x: x.strip(' '))\n",
    "    Rusentilex[\"certainty\"] = Rusentilex[\"certainty\"].apply(lambda x: x.strip(' '))\n",
    "    \n",
    "    return Rusentilex\n",
    "\n",
    "def cleanString(myString):\n",
    "    return myString.translate(None, string.punctuation).decode('utf-8')\n",
    "\n",
    "def getSentimentCertainity(word):\n",
    "    word = lemmatize(word)\n",
    "    try:\n",
    "        tone, certainty =  Rusentilex[[\"tone\", \"certainty\"]][Rusentilex.word.isin([word])].values[0]\n",
    "    except:\n",
    "        try:\n",
    "            tone, certainty =  Rusentilex[[\"tone\", \"certainty\"]][Rusentilex.word.isin([word.encode(\"utf8\")])].values[0]\n",
    "        except:\n",
    "            tone, certainty = \"NaN\", \"NaN\"\n",
    "    return tone, certainty"
   ]
  },
  {
   "cell_type": "markdown",
   "metadata": {
    "deletable": true,
    "editable": true
   },
   "source": [
    "![](http://cathyreisenwitz.com/wp-content/uploads/2016/01/no.jpg)"
   ]
  },
  {
   "cell_type": "markdown",
   "metadata": {},
   "source": [
    "Словарь РуСентиЛекс\n",
    "\n",
    "Структура: \n",
    "- 1 слово или словосочетание,\n",
    "- 2 Часть речи или синтаксический тип группы,\n",
    "- 3 слово или словосочетание в лемматизированной форме, \n",
    "- 4 Тональность: позитивная (positive), негативная(negative), нейтральная (neutral) или неопределеная оценка, зависит от контекста (positive/negative),\n",
    "- 5 Источник: оценка (opinion), чувство (feeling), факт (fact),\n",
    "- 6 Если тональность отличается для разных значений многозначного слова, то перечисляются все значения слова по тезаурусу РуТез и дается отсылка на сооветствующее понятие - имя понятия в кавычках."
   ]
  },
  {
   "cell_type": "code",
   "execution_count": 59,
   "metadata": {
    "collapsed": false
   },
   "outputs": [],
   "source": [
    "Rusentilex = loadRuSentiLex()"
   ]
  },
  {
   "cell_type": "code",
   "execution_count": 9,
   "metadata": {
    "collapsed": false
   },
   "outputs": [
    {
     "data": {
      "text/html": [
       "<div>\n",
       "<style>\n",
       "    .dataframe thead tr:only-child th {\n",
       "        text-align: right;\n",
       "    }\n",
       "\n",
       "    .dataframe thead th {\n",
       "        text-align: left;\n",
       "    }\n",
       "\n",
       "    .dataframe tbody tr th {\n",
       "        vertical-align: top;\n",
       "    }\n",
       "</style>\n",
       "<table border=\"1\" class=\"dataframe\">\n",
       "  <thead>\n",
       "    <tr style=\"text-align: right;\">\n",
       "      <th></th>\n",
       "      <th>word</th>\n",
       "      <th>tag</th>\n",
       "      <th>word_lemmatized</th>\n",
       "      <th>tone</th>\n",
       "      <th>certainty</th>\n",
       "    </tr>\n",
       "  </thead>\n",
       "  <tbody>\n",
       "    <tr>\n",
       "      <th>0</th>\n",
       "      <td>аборт</td>\n",
       "      <td>Noun</td>\n",
       "      <td>аборт</td>\n",
       "      <td>negative</td>\n",
       "      <td>fact</td>\n",
       "    </tr>\n",
       "    <tr>\n",
       "      <th>1</th>\n",
       "      <td>абортивный</td>\n",
       "      <td>Adj</td>\n",
       "      <td>абортивный</td>\n",
       "      <td>negative</td>\n",
       "      <td>fact</td>\n",
       "    </tr>\n",
       "    <tr>\n",
       "      <th>2</th>\n",
       "      <td>абракадабра</td>\n",
       "      <td>Noun</td>\n",
       "      <td>абракадабра</td>\n",
       "      <td>negative</td>\n",
       "      <td>opinion</td>\n",
       "    </tr>\n",
       "    <tr>\n",
       "      <th>3</th>\n",
       "      <td>абсурд</td>\n",
       "      <td>Noun</td>\n",
       "      <td>абсурд</td>\n",
       "      <td>negative</td>\n",
       "      <td>opinion</td>\n",
       "    </tr>\n",
       "    <tr>\n",
       "      <th>4</th>\n",
       "      <td>абсурдность</td>\n",
       "      <td>Noun</td>\n",
       "      <td>абсурдность</td>\n",
       "      <td>negative</td>\n",
       "      <td>opinion</td>\n",
       "    </tr>\n",
       "  </tbody>\n",
       "</table>\n",
       "</div>"
      ],
      "text/plain": [
       "          word    tag word_lemmatized      tone certainty\n",
       "0        аборт   Noun           аборт  negative      fact\n",
       "1   абортивный    Adj      абортивный  negative      fact\n",
       "2  абракадабра   Noun     абракадабра  negative   opinion\n",
       "3       абсурд   Noun          абсурд  negative   opinion\n",
       "4  абсурдность   Noun     абсурдность  negative   opinion"
      ]
     },
     "execution_count": 9,
     "metadata": {},
     "output_type": "execute_result"
    }
   ],
   "source": [
    "Rusentilex.head()"
   ]
  },
  {
   "cell_type": "code",
   "execution_count": 10,
   "metadata": {
    "collapsed": false
   },
   "outputs": [
    {
     "data": {
      "text/plain": [
       "('negative', 'fact')"
      ]
     },
     "execution_count": 10,
     "metadata": {},
     "output_type": "execute_result"
    }
   ],
   "source": [
    "getSentimentCertainity(u\"абортами\".encode(\"utf8\"))"
   ]
  },
  {
   "cell_type": "code",
   "execution_count": 11,
   "metadata": {
    "code_folding": [
     0
    ],
    "collapsed": true,
    "deletable": true,
    "editable": true
   },
   "outputs": [],
   "source": [
    "def Text_to_dict(number):\n",
    "    t = loadText(number)\n",
    "    text_dict = t.split(\"\\n\\n\")\n",
    "    text_dict = {i:parag for i, parag in enumerate(text_dict)}\n",
    "    sentence_dict = {i:{} for i in range(len(text_dict))}\n",
    "\n",
    "    for key, paragraph in text_dict.iteritems():\n",
    "        paragraph = paragraph.split(\"{Author, Unknown}\")\n",
    "        for sent_numbet, sentence in enumerate(paragraph):\n",
    "\n",
    "            sentence = cleanString(sentence)\n",
    "            if len(sentence) != 0:\n",
    "                sentence_dict[key][sent_numbet] = sentence\n",
    "                #tknzr.tokenize()\n",
    "    return sentence_dict"
   ]
  },
  {
   "cell_type": "code",
   "execution_count": 12,
   "metadata": {
    "code_folding": [
     0
    ],
    "collapsed": false
   },
   "outputs": [],
   "source": [
    "def getEntityPositions(text, entities):\n",
    "    \"\"\"\n",
    "    This bad boy finds (hopefully) all entities in the text\n",
    "    Collects their exact locations and returns a neat Dataframe with them\n",
    "    \"\"\"\n",
    "    \n",
    "    ENTITIES = pd.DataFrame(columns=[\"entity\", \"paragraph\", \"sentence\", \"loc_start\", \"loc_end\"])\n",
    "    \n",
    "    for paragraph in text:\n",
    "        for sentence in text[paragraph]:\n",
    "            for entity in list(entities.unique()):\n",
    "                if \" \" + entity + \" \" in \" \" + text[paragraph][sentence] +  \" \":\n",
    "                    loc_start = text[paragraph][sentence].find(entity)\n",
    "                    loc_end = loc_start + len(entity)\n",
    "                    \n",
    "                    to_append =   {\"entity\":entity, \n",
    "                                   \"paragraph\":paragraph, \n",
    "                                   \"sentence\":sentence,\n",
    "                                   \"loc_start\":loc_start,\n",
    "                                   \"loc_end\":loc_end}\n",
    "                    \n",
    "                    ENTITIES = ENTITIES.append(to_append, ignore_index = True)\n",
    "    ENTITIES = ENTITIES.drop_duplicates()\n",
    "    ENTITIES = ENTITIES.sort_values(by=[\"paragraph\", \"sentence\", \"loc_start\"])\n",
    "    ENTITIES = ENTITIES.reset_index(drop=True)\n",
    "    return ENTITIES"
   ]
  },
  {
   "cell_type": "code",
   "execution_count": 13,
   "metadata": {
    "code_folding": [
     0
    ],
    "collapsed": true
   },
   "outputs": [],
   "source": [
    "def distances(loc1, loc2):\n",
    "    \"\"\"\n",
    "    returns distances from one entity to another\n",
    "    \"\"\"\n",
    "    paragraph = ENTITIES.loc[loc2].paragraph - ENTITIES.loc[loc1].paragraph\n",
    "    sentence = ENTITIES.loc[loc2].sentence - ENTITIES.loc[loc1].sentence\n",
    "    return paragraph, sentence"
   ]
  },
  {
   "cell_type": "code",
   "execution_count": 14,
   "metadata": {
    "code_folding": [
     0
    ],
    "collapsed": true
   },
   "outputs": [],
   "source": [
    "def getMorphCase(word):\n",
    "    p = morph.parse(u\"аборт\")[0]\n",
    "    return p.tag.case"
   ]
  },
  {
   "cell_type": "code",
   "execution_count": 15,
   "metadata": {
    "code_folding": [
     0
    ],
    "collapsed": false
   },
   "outputs": [],
   "source": [
    "def getPairs(ENTITIES, text, n_entities=2):\n",
    "    N_ENTITIES = n_entities # глобальный параметр, сколько сущностей будем перебирать для текущей\n",
    "    PAIRS = pd.DataFrame(columns=[\"entity_1\", \"entity_2\", \"sentence\"])\n",
    "    ent_1_number = 0\n",
    "    while ent_1_number < len(ENTITIES):\n",
    "\n",
    "        entity_1 = ENTITIES.entity[ent_1_number]\n",
    "        for ent_2_number in range(N_ENTITIES):\n",
    "            try:            \n",
    "                ent_2_number = ent_1_number+ent_2_number+1\n",
    "                entity_2 = ENTITIES.entity[ent_2_number]\n",
    "                par_dist, sent_dist = distances(ent_1_number, ent_2_number)\n",
    "                if lemmatize(entity_1) != lemmatize(entity_2): # не равны друг другу\n",
    "                    if par_dist == 0: # в одном абзаце\n",
    "                        if sent_dist == 0: # в одном предложении\n",
    "                            PAIRS = PAIRS.append({\"entity_1\":entity_1,\n",
    "                                                  \"entity_2\":entity_2,\n",
    "                                                  \"sentence\":text[ENTITIES.loc[ent_1_number].paragraph][ENTITIES.loc[ent_1_number].sentence]},\n",
    "                                                  ignore_index=True)\n",
    "                    else:\n",
    "                        #ent_1_number+=1\n",
    "                        PAIRS = PAIRS.append({\"entity_1\":\"Author\",\n",
    "                                                  \"entity_2\":entity_1,\n",
    "                                                  \"sentence\":text[ENTITIES.loc[ent_1_number].paragraph][ENTITIES.loc[ent_1_number].sentence]},\n",
    "                                                  ignore_index=True)\n",
    "            except:\n",
    "                continue\n",
    "        ent_1_number += 1\n",
    "        \n",
    "    return PAIRS.drop_duplicates()"
   ]
  },
  {
   "cell_type": "code",
   "execution_count": 16,
   "metadata": {
    "code_folding": [
     0
    ],
    "collapsed": true
   },
   "outputs": [],
   "source": [
    "def getSentenceSentiment(sentence):\n",
    "    cur_sentence = sentence\n",
    "    cur_sentence = tknzr.tokenize(cur_sentence)\n",
    "    for word in cur_sentence:\n",
    "        if (len(word)<3) or (word.isdigit()):\n",
    "            cur_sentence.remove(word)\n",
    "    sentiment = []\n",
    "\n",
    "    for word in cur_sentence:\n",
    "        sentiment.append(getSentimentCertainity(word)[0])\n",
    "        \n",
    "    sentiment = [x for x in sentiment if x!=\"NaN\"]\n",
    "    \n",
    "    result = [sentiment.count(\"negative\"), sentiment.count(\"positive\")]\n",
    "    return result"
   ]
  },
  {
   "cell_type": "code",
   "execution_count": 17,
   "metadata": {
    "code_folding": [
     0
    ],
    "collapsed": true
   },
   "outputs": [],
   "source": [
    "def prepareData(number, n_entities=3):\n",
    "    \n",
    "    \"\"\"\n",
    "    Функция пока не работает, потому что зафакапил области видимости\n",
    "    \"\"\"\n",
    "    \n",
    "    \"\"\"Loaging stuff\"\"\"\n",
    "    \n",
    "    text = Text_to_dict(number)\n",
    "    entities = transformAnnotation(number)\n",
    "    answer = transformAnswer(number) \n",
    "    \n",
    "    ENTITIES = getEntityPositions(text=text, entities=entities)\n",
    "\n",
    "    \"\"\"Calculating stuff\"\"\"\n",
    "    \n",
    "    PAIRS = getPairs(ENTITIES=ENTITIES, text=text, n_entities=n_entities)\n",
    "    print(PAIRS.head())\n",
    "    answer[\"pair\"] = answer.entity_1.apply(lambda x: lemmatize(x).lower())+\",\"+\\\n",
    "                     answer.entity_2.apply(lambda x: lemmatize(x).lower())\n",
    "    PAIRS[\"pair\"] = PAIRS.entity_1.apply(lambda x: lemmatize(x).lower())+\",\"+\\\n",
    "                    PAIRS.entity_2.apply(lambda x: lemmatize(x).lower())\n",
    "    PAIRS[\"pair\"] = PAIRS[\"pair\"].apply(lambda x: x.encode(\"utf8\"))\n",
    "\n",
    "    PAIRS.drop([\"entity_1\", \"entity_2\"], axis=1, inplace=True)\n",
    "    PAIRS = PAIRS.groupby([\"pair\"]).sum().reset_index()\n",
    "\n",
    "    answer = answer.drop([\"entity_1\", \"entity_2\", \"time\"], axis=1)\n",
    "\n",
    "    \"\"\"Merging stuff\"\"\"\n",
    "    \n",
    "    PAIRS = PAIRS.merge(answer, on='pair', how=\"left\")\n",
    "    PAIRS = PAIRS.fillna(\"neutral\")\n",
    "    \n",
    "    \"\"\"Getting sentiment from stuff\"\"\"\n",
    "    try:\n",
    "        sent = PAIRS.sentence.apply(lambda x: getSentenceSentiment(x))\n",
    "        sent = pd.DataFrame(list(sent))\n",
    "        sent.columns = [\"negative\", \"positive\"]\n",
    "    except:\n",
    "        sent = \n",
    "        \n",
    "    PAIRS = pd.concat([PAIRS, sent], axis=1)\n",
    "    PAIRS = PAIRS[PAIRS.negative+PAIRS.positive != 0]\n",
    "    \n",
    "    return PAIRS, answer"
   ]
  },
  {
   "cell_type": "code",
   "execution_count": 20,
   "metadata": {
    "code_folding": [],
    "collapsed": true
   },
   "outputs": [
    {
     "name": "stdout",
     "output_type": "stream",
     "text": [
      "no file with number 0\n",
      "(272, 3)\n",
      "(336, 3)\n",
      "(401, 3)\n",
      "(519, 3)\n",
      "(599, 3)\n",
      "(658, 3)\n",
      "(671, 3)\n",
      "(721, 3)\n",
      "no file with number 9\n",
      "(866, 3)\n",
      "(920, 3)\n",
      "(978, 3)\n",
      "(1033, 3)\n",
      "(1334, 3)\n",
      "(1387, 3)\n",
      "(1408, 3)\n",
      "(1504, 3)\n",
      "(1540, 3)\n",
      "(1587, 3)\n",
      "(1598, 3)\n",
      "(1677, 3)\n",
      "no file with number 22\n",
      "(1776, 3)\n",
      "(1841, 3)\n",
      "(1901, 3)\n",
      "no file with number 26\n",
      "(2069, 3)\n",
      "(2127, 3)\n",
      "(2165, 3)\n",
      "(2219, 3)\n",
      "(2247, 3)\n",
      "(2372, 3)\n",
      "(2412, 3)\n",
      "(2497, 3)\n",
      "(2657, 3)\n",
      "(2725, 3)\n",
      "(2764, 3)\n",
      "(2801, 3)\n",
      "(2863, 3)\n",
      "(2907, 3)\n",
      "(3044, 3)\n",
      "(3102, 3)\n",
      "(3159, 3)\n",
      "(3340, 3)\n",
      "(3434, 3)\n",
      "no file with number 46\n",
      "no file with number 47\n",
      "no file with number 48\n",
      "no file with number 49\n"
     ]
    }
   ],
   "source": [
    "FINAL = pd.DataFrame()\n",
    "for number in log_progress(range(50)):\n",
    "    try:\n",
    "        n_entities=3\n",
    "\n",
    "\n",
    "        \"\"\"Loaging stuff\"\"\"\n",
    "\n",
    "        text = Text_to_dict(number)\n",
    "        entities = transformAnnotation(number)\n",
    "        answer = transformAnswer(number) \n",
    "\n",
    "        ENTITIES = getEntityPositions(text=text, entities=entities)\n",
    "\n",
    "        \"\"\"Calculating stuff\"\"\"\n",
    "\n",
    "        PAIRS = getPairs(ENTITIES=ENTITIES, text=text, n_entities=n_entities)\n",
    "        answer[\"pair\"] = answer.entity_1.apply(lambda x: lemmatize(x).lower())+\",\"+\\\n",
    "                         answer.entity_2.apply(lambda x: lemmatize(x).lower())\n",
    "        PAIRS[\"pair\"] = PAIRS.entity_1.apply(lambda x: lemmatize(x).lower())+\",\"+\\\n",
    "                        PAIRS.entity_2.apply(lambda x: lemmatize(x).lower())\n",
    "        PAIRS[\"pair\"] = PAIRS[\"pair\"].apply(lambda x: x.encode(\"utf8\"))\n",
    "\n",
    "        PAIRS.drop([\"entity_1\", \"entity_2\"], axis=1, inplace=True)\n",
    "        PAIRS = PAIRS.groupby([\"pair\"]).sum().reset_index()\n",
    "\n",
    "        answer = answer.drop([\"entity_1\", \"entity_2\", \"time\"], axis=1)\n",
    "\n",
    "        \"\"\"Merging stuff\"\"\"\n",
    "\n",
    "        PAIRS = PAIRS.merge(answer, on='pair', how=\"left\")\n",
    "        PAIRS = PAIRS.fillna(\"neutral\")\n",
    "        FINAL = FINAL.append(PAIRS, ignore_index=True)\n",
    "        print(FINAL.shape)\n",
    "    except:\n",
    "        print(\"no file with number {}\".format(number))\n",
    "        continue\n",
    "    "
   ]
  },
  {
   "cell_type": "code",
   "execution_count": 26,
   "metadata": {
    "collapsed": false
   },
   "outputs": [],
   "source": [
    "FINAL.attitude = FINAL.attitude.apply(lambda x: x.strip(\" \"))"
   ]
  },
  {
   "cell_type": "code",
   "execution_count": 27,
   "metadata": {
    "collapsed": false
   },
   "outputs": [
    {
     "data": {
      "text/plain": [
       "neutral    0.903320\n",
       "neg        0.058532\n",
       "pos        0.038148\n",
       "Name: attitude, dtype: float64"
      ]
     },
     "execution_count": 27,
     "metadata": {},
     "output_type": "execute_result"
    }
   ],
   "source": [
    "FINAL.attitude.value_counts()/len(FINAL)"
   ]
  },
  {
   "cell_type": "code",
   "execution_count": 43,
   "metadata": {
    "collapsed": false
   },
   "outputs": [],
   "source": [
    "FINAL.to_pickle(\"FINAL_data.pkl\")"
   ]
  },
  {
   "cell_type": "code",
   "execution_count": 41,
   "metadata": {
    "collapsed": false
   },
   "outputs": [],
   "source": [
    "FINAL.pair = FINAL.pair.apply(lambda x: x.decode(\"utf8\"))"
   ]
  },
  {
   "cell_type": "markdown",
   "metadata": {},
   "source": [
    "# ML"
   ]
  },
  {
   "cell_type": "code",
   "execution_count": 103,
   "metadata": {
    "collapsed": true
   },
   "outputs": [],
   "source": [
    "import nltk\n",
    "from nltk.corpus import stopwords\n",
    "from sklearn.model_selection import StratifiedKFold, train_test_split, RandomizedSearchCV\n",
    "from sklearn.metrics import classification_report, confusion_matrix, accuracy_score\n",
    "stop = stopwords.words('russian')"
   ]
  },
  {
   "cell_type": "code",
   "execution_count": 67,
   "metadata": {
    "collapsed": false
   },
   "outputs": [],
   "source": [
    "FINAL.sentence = FINAL.sentence.apply(lambda x: lemmatize(x))"
   ]
  },
  {
   "cell_type": "code",
   "execution_count": 86,
   "metadata": {
    "collapsed": false
   },
   "outputs": [
    {
     "data": {
      "text/html": [
       "<div>\n",
       "<style>\n",
       "    .dataframe thead tr:only-child th {\n",
       "        text-align: right;\n",
       "    }\n",
       "\n",
       "    .dataframe thead th {\n",
       "        text-align: left;\n",
       "    }\n",
       "\n",
       "    .dataframe tbody tr th {\n",
       "        vertical-align: top;\n",
       "    }\n",
       "</style>\n",
       "<table border=\"1\" class=\"dataframe\">\n",
       "  <thead>\n",
       "    <tr style=\"text-align: right;\">\n",
       "      <th></th>\n",
       "      <th>pair</th>\n",
       "      <th>sentence</th>\n",
       "      <th>attitude</th>\n",
       "    </tr>\n",
       "  </thead>\n",
       "  <tbody>\n",
       "    <tr>\n",
       "      <th>0</th>\n",
       "      <td>author,javan</td>\n",
       "      <td>однако в российский минобороны как и в мид пол...</td>\n",
       "      <td>neutral</td>\n",
       "    </tr>\n",
       "    <tr>\n",
       "      <th>1</th>\n",
       "      <td>author,resalat</td>\n",
       "      <td>это мочь становиться реальность последствие ко...</td>\n",
       "      <td>neutral</td>\n",
       "    </tr>\n",
       "    <tr>\n",
       "      <th>2</th>\n",
       "      <td>author,алеппо</td>\n",
       "      <td>«мы не мочь оказывать давление на администраци...</td>\n",
       "      <td>neutral</td>\n",
       "    </tr>\n",
       "    <tr>\n",
       "      <th>3</th>\n",
       "      <td>author,али хаменей</td>\n",
       "      <td>в качество пример али хаменей приводить ситуац...</td>\n",
       "      <td>neutral</td>\n",
       "    </tr>\n",
       "    <tr>\n",
       "      <th>4</th>\n",
       "      <td>author,асад</td>\n",
       "      <td>издание со ссылка на срочный сообщение канал «...</td>\n",
       "      <td>neutral</td>\n",
       "    </tr>\n",
       "    <tr>\n",
       "      <th>5</th>\n",
       "      <td>author,балтика</td>\n",
       "      <td>при это москва неоднократно подчеркивать что о...</td>\n",
       "      <td>neutral</td>\n",
       "    </tr>\n",
       "    <tr>\n",
       "      <th>6</th>\n",
       "      <td>author,белый дом</td>\n",
       "      <td>примерно в аналогичный ключ высказываться и мо...</td>\n",
       "      <td>neutral</td>\n",
       "    </tr>\n",
       "    <tr>\n",
       "      <th>7</th>\n",
       "      <td>author,вашингтон</td>\n",
       "      <td>почему же и в москва и дамаск который также ве...</td>\n",
       "      <td>neutral</td>\n",
       "    </tr>\n",
       "    <tr>\n",
       "      <th>8</th>\n",
       "      <td>author,великобритания</td>\n",
       "      <td>в общий сложность дополнительный сила нато на ...</td>\n",
       "      <td>neutral</td>\n",
       "    </tr>\n",
       "    <tr>\n",
       "      <th>9</th>\n",
       "      <td>author,глава немецкий мид</td>\n",
       "      <td>однако полагать алеми подобный замечание глава...</td>\n",
       "      <td>neutral</td>\n",
       "    </tr>\n",
       "    <tr>\n",
       "      <th>10</th>\n",
       "      <td>author,дамаск</td>\n",
       "      <td>по его мнение на самый дело цель белый дом пре...</td>\n",
       "      <td>neutral</td>\n",
       "    </tr>\n",
       "    <tr>\n",
       "      <th>11</th>\n",
       "      <td>author,дираззур</td>\n",
       "      <td>C другой сторона сирийский армия при поддержка...</td>\n",
       "      <td>neutral</td>\n",
       "    </tr>\n",
       "    <tr>\n",
       "      <th>12</th>\n",
       "      <td>author,европа</td>\n",
       "      <td>с этот цель нато стараться завлекать к себя то...</td>\n",
       "      <td>neutral</td>\n",
       "    </tr>\n",
       "    <tr>\n",
       "      <th>13</th>\n",
       "      <td>author,ес</td>\n",
       "      <td>это мочь становиться реальность последствие ко...</td>\n",
       "      <td>neutral</td>\n",
       "    </tr>\n",
       "    <tr>\n",
       "      <th>14</th>\n",
       "      <td>author,иго</td>\n",
       "      <td>почему же и в москва и дамаск который также ве...</td>\n",
       "      <td>neutral</td>\n",
       "    </tr>\n",
       "    <tr>\n",
       "      <th>15</th>\n",
       "      <td>author,иран</td>\n",
       "      <td>сми иран финляндия не хотеть вступать в нато и...</td>\n",
       "      <td>neutral</td>\n",
       "    </tr>\n",
       "    <tr>\n",
       "      <th>16</th>\n",
       "      <td>author,кнр</td>\n",
       "      <td>глава дипведомство рф и кнр на совместный прес...</td>\n",
       "      <td>neutral</td>\n",
       "    </tr>\n",
       "    <tr>\n",
       "      <th>17</th>\n",
       "      <td>author,мвд</td>\n",
       "      <td>владимир путин отправлять в отставка сразу сем...</td>\n",
       "      <td>neutral</td>\n",
       "    </tr>\n",
       "    <tr>\n",
       "      <th>18</th>\n",
       "      <td>author,мид</td>\n",
       "      <td>однако в российский минобороны как и в мид пол...</td>\n",
       "      <td>neutral</td>\n",
       "    </tr>\n",
       "    <tr>\n",
       "      <th>19</th>\n",
       "      <td>author,москва</td>\n",
       "      <td>примерно в аналогичный ключ высказываться и мо...</td>\n",
       "      <td>neutral</td>\n",
       "    </tr>\n",
       "    <tr>\n",
       "      <th>20</th>\n",
       "      <td>author,нато</td>\n",
       "      <td>сми иран финляндия не хотеть вступать в нато и...</td>\n",
       "      <td>neutral</td>\n",
       "    </tr>\n",
       "    <tr>\n",
       "      <th>21</th>\n",
       "      <td>author,обама</td>\n",
       "      <td>следовать напоминать указывать он что сирия ок...</td>\n",
       "      <td>neutral</td>\n",
       "    </tr>\n",
       "    <tr>\n",
       "      <th>22</th>\n",
       "      <td>author,резах</td>\n",
       "      <td>такой образ напрашиваться вывод если этот опер...</td>\n",
       "      <td>neutral</td>\n",
       "    </tr>\n",
       "    <tr>\n",
       "      <th>23</th>\n",
       "      <td>author,республика корея</td>\n",
       "      <td>очевидно что россия и кнр считать план сша по ...</td>\n",
       "      <td>neutral</td>\n",
       "    </tr>\n",
       "    <tr>\n",
       "      <th>24</th>\n",
       "      <td>author,республика крым</td>\n",
       "      <td>владимир путин отправлять в отставка сразу сем...</td>\n",
       "      <td>neutral</td>\n",
       "    </tr>\n",
       "    <tr>\n",
       "      <th>25</th>\n",
       "      <td>author,россия</td>\n",
       "      <td>издание со ссылка на срочный сообщение канал «...</td>\n",
       "      <td>neutral</td>\n",
       "    </tr>\n",
       "    <tr>\n",
       "      <th>26</th>\n",
       "      <td>author,рф</td>\n",
       "      <td>«мы не мочь оказывать давление на администраци...</td>\n",
       "      <td>neutral</td>\n",
       "    </tr>\n",
       "    <tr>\n",
       "      <th>27</th>\n",
       "      <td>author,сирия</td>\n",
       "      <td>однако в дамаск действие вашингтон резко осужд...</td>\n",
       "      <td>neutral</td>\n",
       "    </tr>\n",
       "    <tr>\n",
       "      <th>28</th>\n",
       "      <td>author,сша</td>\n",
       "      <td>очевидно что россия и кнр считать план сша по ...</td>\n",
       "      <td>neutral</td>\n",
       "    </tr>\n",
       "    <tr>\n",
       "      <th>29</th>\n",
       "      <td>author,трамп</td>\n",
       "      <td>однако полагать алеми подобный замечание глава...</td>\n",
       "      <td>neutral</td>\n",
       "    </tr>\n",
       "    <tr>\n",
       "      <th>...</th>\n",
       "      <td>...</td>\n",
       "      <td>...</td>\n",
       "      <td>...</td>\n",
       "    </tr>\n",
       "    <tr>\n",
       "      <th>3404</th>\n",
       "      <td>польша,кремль</td>\n",
       "      <td>хотя эстония латвия литва и польша не чувствов...</td>\n",
       "      <td>neg</td>\n",
       "    </tr>\n",
       "    <tr>\n",
       "      <th>3405</th>\n",
       "      <td>польша,нато</td>\n",
       "      <td>хотя эстония латвия литва и польша не чувствов...</td>\n",
       "      <td>neutral</td>\n",
       "    </tr>\n",
       "    <tr>\n",
       "      <th>3406</th>\n",
       "      <td>польша,путин</td>\n",
       "      <td>хотя эстония латвия литва и польша не чувствов...</td>\n",
       "      <td>neutral</td>\n",
       "    </tr>\n",
       "    <tr>\n",
       "      <th>3407</th>\n",
       "      <td>польша,статья 5 североатлантический договор</td>\n",
       "      <td>и несомненно иметь смывать за счет минимальный...</td>\n",
       "      <td>neutral</td>\n",
       "    </tr>\n",
       "    <tr>\n",
       "      <th>3408</th>\n",
       "      <td>путин,севастополь</td>\n",
       "      <td>и не случайно путин становиться проявлять бесп...</td>\n",
       "      <td>neutral</td>\n",
       "    </tr>\n",
       "    <tr>\n",
       "      <th>3409</th>\n",
       "      <td>путин,соединять штат</td>\n",
       "      <td>и не случайно путин становиться проявлять бесп...</td>\n",
       "      <td>neutral</td>\n",
       "    </tr>\n",
       "    <tr>\n",
       "      <th>3410</th>\n",
       "      <td>путин,украина</td>\n",
       "      <td>и не случайно путин становиться проявлять бесп...</td>\n",
       "      <td>neutral</td>\n",
       "    </tr>\n",
       "    <tr>\n",
       "      <th>3411</th>\n",
       "      <td>россия,латвия</td>\n",
       "      <td>устрашение россия не зависеть от то быть ли в ...</td>\n",
       "      <td>neutral</td>\n",
       "    </tr>\n",
       "    <tr>\n",
       "      <th>3412</th>\n",
       "      <td>россия,литва</td>\n",
       "      <td>устрашение россия не зависеть от то быть ли в ...</td>\n",
       "      <td>neutral</td>\n",
       "    </tr>\n",
       "    <tr>\n",
       "      <th>3413</th>\n",
       "      <td>россия,путин</td>\n",
       "      <td>и как только представляться возможность сохран...</td>\n",
       "      <td>neutral</td>\n",
       "    </tr>\n",
       "    <tr>\n",
       "      <th>3414</th>\n",
       "      <td>россия,эстония</td>\n",
       "      <td>устрашение россия не зависеть от то быть ли в ...</td>\n",
       "      <td>neutral</td>\n",
       "    </tr>\n",
       "    <tr>\n",
       "      <th>3415</th>\n",
       "      <td>севастополь,нато</td>\n",
       "      <td>и не случайно путин становиться проявлять бесп...</td>\n",
       "      <td>neutral</td>\n",
       "    </tr>\n",
       "    <tr>\n",
       "      <th>3416</th>\n",
       "      <td>севастополь,соединять штат</td>\n",
       "      <td>и не случайно путин становиться проявлять бесп...</td>\n",
       "      <td>neutral</td>\n",
       "    </tr>\n",
       "    <tr>\n",
       "      <th>3417</th>\n",
       "      <td>севастополь,украина</td>\n",
       "      <td>и не случайно путин становиться проявлять бесп...</td>\n",
       "      <td>neutral</td>\n",
       "    </tr>\n",
       "    <tr>\n",
       "      <th>3418</th>\n",
       "      <td>соединять штат,нато</td>\n",
       "      <td>и не случайно путин становиться проявлять бесп...</td>\n",
       "      <td>neutral</td>\n",
       "    </tr>\n",
       "    <tr>\n",
       "      <th>3419</th>\n",
       "      <td>соединять штат,украина</td>\n",
       "      <td>и не случайно путин становиться проявлять бесп...</td>\n",
       "      <td>pos</td>\n",
       "    </tr>\n",
       "    <tr>\n",
       "      <th>3420</th>\n",
       "      <td>статья 5 североатлантический договор,альянс</td>\n",
       "      <td>и несомненно иметь смывать за счет минимальный...</td>\n",
       "      <td>neutral</td>\n",
       "    </tr>\n",
       "    <tr>\n",
       "      <th>3421</th>\n",
       "      <td>тренин,кремль</td>\n",
       "      <td>однако я разделять трезвый оценка дмитрий трен...</td>\n",
       "      <td>neutral</td>\n",
       "    </tr>\n",
       "    <tr>\n",
       "      <th>3422</th>\n",
       "      <td>тренин,россия</td>\n",
       "      <td>вот ответ тренин на вопрос о то куда в следующ...</td>\n",
       "      <td>neutral</td>\n",
       "    </tr>\n",
       "    <tr>\n",
       "      <th>3423</th>\n",
       "      <td>украина,нато</td>\n",
       "      <td>и не случайно путин становиться проявлять бесп...</td>\n",
       "      <td>neutral</td>\n",
       "    </tr>\n",
       "    <tr>\n",
       "      <th>3424</th>\n",
       "      <td>украинский советский,республика</td>\n",
       "      <td>тот факт что украинец хрущев в 1954 год как го...</td>\n",
       "      <td>neutral</td>\n",
       "    </tr>\n",
       "    <tr>\n",
       "      <th>3425</th>\n",
       "      <td>хельсинкский конференция,европа</td>\n",
       "      <td>а где же смелый дипломатический инициатива кот...</td>\n",
       "      <td>neutral</td>\n",
       "    </tr>\n",
       "    <tr>\n",
       "      <th>3426</th>\n",
       "      <td>хельсинкский конференция,парижский хартия для ...</td>\n",
       "      <td>а где же смелый дипломатический инициатива кот...</td>\n",
       "      <td>neutral</td>\n",
       "    </tr>\n",
       "    <tr>\n",
       "      <th>3427</th>\n",
       "      <td>хрущев,республика</td>\n",
       "      <td>тот факт что украинец хрущев в 1954 год как го...</td>\n",
       "      <td>neutral</td>\n",
       "    </tr>\n",
       "    <tr>\n",
       "      <th>3428</th>\n",
       "      <td>хрущев,украинский советский</td>\n",
       "      <td>тот факт что украинец хрущев в 1954 год как го...</td>\n",
       "      <td>neutral</td>\n",
       "    </tr>\n",
       "    <tr>\n",
       "      <th>3429</th>\n",
       "      <td>черногория,европа</td>\n",
       "      <td>если ситуация таков — а все говорить именно об...</td>\n",
       "      <td>neutral</td>\n",
       "    </tr>\n",
       "    <tr>\n",
       "      <th>3430</th>\n",
       "      <td>штайнмайер,нато</td>\n",
       "      <td>министр иностранный дело франквальтер штайнмай...</td>\n",
       "      <td>neg</td>\n",
       "    </tr>\n",
       "    <tr>\n",
       "      <th>3431</th>\n",
       "      <td>эстония,латвия</td>\n",
       "      <td>хотя эстония латвия литва и польша не чувствов...</td>\n",
       "      <td>neutral</td>\n",
       "    </tr>\n",
       "    <tr>\n",
       "      <th>3432</th>\n",
       "      <td>эстония,литва</td>\n",
       "      <td>хотя эстония латвия литва и польша не чувствов...</td>\n",
       "      <td>neutral</td>\n",
       "    </tr>\n",
       "    <tr>\n",
       "      <th>3433</th>\n",
       "      <td>эстония,польша</td>\n",
       "      <td>устрашение россия не зависеть от то быть ли в ...</td>\n",
       "      <td>neutral</td>\n",
       "    </tr>\n",
       "  </tbody>\n",
       "</table>\n",
       "<p>3434 rows × 3 columns</p>\n",
       "</div>"
      ],
      "text/plain": [
       "                                                   pair  \\\n",
       "0                                          author,javan   \n",
       "1                                        author,resalat   \n",
       "2                                         author,алеппо   \n",
       "3                                    author,али хаменей   \n",
       "4                                           author,асад   \n",
       "5                                        author,балтика   \n",
       "6                                      author,белый дом   \n",
       "7                                      author,вашингтон   \n",
       "8                                 author,великобритания   \n",
       "9                             author,глава немецкий мид   \n",
       "10                                        author,дамаск   \n",
       "11                                      author,дираззур   \n",
       "12                                        author,европа   \n",
       "13                                            author,ес   \n",
       "14                                           author,иго   \n",
       "15                                          author,иран   \n",
       "16                                           author,кнр   \n",
       "17                                           author,мвд   \n",
       "18                                           author,мид   \n",
       "19                                        author,москва   \n",
       "20                                          author,нато   \n",
       "21                                         author,обама   \n",
       "22                                         author,резах   \n",
       "23                              author,республика корея   \n",
       "24                               author,республика крым   \n",
       "25                                        author,россия   \n",
       "26                                            author,рф   \n",
       "27                                         author,сирия   \n",
       "28                                           author,сша   \n",
       "29                                         author,трамп   \n",
       "...                                                 ...   \n",
       "3404                                      польша,кремль   \n",
       "3405                                        польша,нато   \n",
       "3406                                       польша,путин   \n",
       "3407        польша,статья 5 североатлантический договор   \n",
       "3408                                  путин,севастополь   \n",
       "3409                               путин,соединять штат   \n",
       "3410                                      путин,украина   \n",
       "3411                                      россия,латвия   \n",
       "3412                                       россия,литва   \n",
       "3413                                       россия,путин   \n",
       "3414                                     россия,эстония   \n",
       "3415                                   севастополь,нато   \n",
       "3416                         севастополь,соединять штат   \n",
       "3417                                севастополь,украина   \n",
       "3418                                соединять штат,нато   \n",
       "3419                             соединять штат,украина   \n",
       "3420        статья 5 североатлантический договор,альянс   \n",
       "3421                                      тренин,кремль   \n",
       "3422                                      тренин,россия   \n",
       "3423                                       украина,нато   \n",
       "3424                    украинский советский,республика   \n",
       "3425                    хельсинкский конференция,европа   \n",
       "3426  хельсинкский конференция,парижский хартия для ...   \n",
       "3427                                  хрущев,республика   \n",
       "3428                        хрущев,украинский советский   \n",
       "3429                                  черногория,европа   \n",
       "3430                                    штайнмайер,нато   \n",
       "3431                                     эстония,латвия   \n",
       "3432                                      эстония,литва   \n",
       "3433                                     эстония,польша   \n",
       "\n",
       "                                               sentence attitude  \n",
       "0     однако в российский минобороны как и в мид пол...  neutral  \n",
       "1     это мочь становиться реальность последствие ко...  neutral  \n",
       "2     «мы не мочь оказывать давление на администраци...  neutral  \n",
       "3     в качество пример али хаменей приводить ситуац...  neutral  \n",
       "4     издание со ссылка на срочный сообщение канал «...  neutral  \n",
       "5     при это москва неоднократно подчеркивать что о...  neutral  \n",
       "6     примерно в аналогичный ключ высказываться и мо...  neutral  \n",
       "7     почему же и в москва и дамаск который также ве...  neutral  \n",
       "8     в общий сложность дополнительный сила нато на ...  neutral  \n",
       "9     однако полагать алеми подобный замечание глава...  neutral  \n",
       "10    по его мнение на самый дело цель белый дом пре...  neutral  \n",
       "11    C другой сторона сирийский армия при поддержка...  neutral  \n",
       "12    с этот цель нато стараться завлекать к себя то...  neutral  \n",
       "13    это мочь становиться реальность последствие ко...  neutral  \n",
       "14    почему же и в москва и дамаск который также ве...  neutral  \n",
       "15    сми иран финляндия не хотеть вступать в нато и...  neutral  \n",
       "16    глава дипведомство рф и кнр на совместный прес...  neutral  \n",
       "17    владимир путин отправлять в отставка сразу сем...  neutral  \n",
       "18    однако в российский минобороны как и в мид пол...  neutral  \n",
       "19    примерно в аналогичный ключ высказываться и мо...  neutral  \n",
       "20    сми иран финляндия не хотеть вступать в нато и...  neutral  \n",
       "21    следовать напоминать указывать он что сирия ок...  neutral  \n",
       "22    такой образ напрашиваться вывод если этот опер...  neutral  \n",
       "23    очевидно что россия и кнр считать план сша по ...  neutral  \n",
       "24    владимир путин отправлять в отставка сразу сем...  neutral  \n",
       "25    издание со ссылка на срочный сообщение канал «...  neutral  \n",
       "26    «мы не мочь оказывать давление на администраци...  neutral  \n",
       "27    однако в дамаск действие вашингтон резко осужд...  neutral  \n",
       "28    очевидно что россия и кнр считать план сша по ...  neutral  \n",
       "29    однако полагать алеми подобный замечание глава...  neutral  \n",
       "...                                                 ...      ...  \n",
       "3404  хотя эстония латвия литва и польша не чувствов...      neg  \n",
       "3405  хотя эстония латвия литва и польша не чувствов...  neutral  \n",
       "3406  хотя эстония латвия литва и польша не чувствов...  neutral  \n",
       "3407  и несомненно иметь смывать за счет минимальный...  neutral  \n",
       "3408  и не случайно путин становиться проявлять бесп...  neutral  \n",
       "3409  и не случайно путин становиться проявлять бесп...  neutral  \n",
       "3410  и не случайно путин становиться проявлять бесп...  neutral  \n",
       "3411  устрашение россия не зависеть от то быть ли в ...  neutral  \n",
       "3412  устрашение россия не зависеть от то быть ли в ...  neutral  \n",
       "3413  и как только представляться возможность сохран...  neutral  \n",
       "3414  устрашение россия не зависеть от то быть ли в ...  neutral  \n",
       "3415  и не случайно путин становиться проявлять бесп...  neutral  \n",
       "3416  и не случайно путин становиться проявлять бесп...  neutral  \n",
       "3417  и не случайно путин становиться проявлять бесп...  neutral  \n",
       "3418  и не случайно путин становиться проявлять бесп...  neutral  \n",
       "3419  и не случайно путин становиться проявлять бесп...      pos  \n",
       "3420  и несомненно иметь смывать за счет минимальный...  neutral  \n",
       "3421  однако я разделять трезвый оценка дмитрий трен...  neutral  \n",
       "3422  вот ответ тренин на вопрос о то куда в следующ...  neutral  \n",
       "3423  и не случайно путин становиться проявлять бесп...  neutral  \n",
       "3424  тот факт что украинец хрущев в 1954 год как го...  neutral  \n",
       "3425  а где же смелый дипломатический инициатива кот...  neutral  \n",
       "3426  а где же смелый дипломатический инициатива кот...  neutral  \n",
       "3427  тот факт что украинец хрущев в 1954 год как го...  neutral  \n",
       "3428  тот факт что украинец хрущев в 1954 год как го...  neutral  \n",
       "3429  если ситуация таков — а все говорить именно об...  neutral  \n",
       "3430  министр иностранный дело франквальтер штайнмай...      neg  \n",
       "3431  хотя эстония латвия литва и польша не чувствов...  neutral  \n",
       "3432  хотя эстония латвия литва и польша не чувствов...  neutral  \n",
       "3433  устрашение россия не зависеть от то быть ли в ...  neutral  \n",
       "\n",
       "[3434 rows x 3 columns]"
      ]
     },
     "execution_count": 86,
     "metadata": {},
     "output_type": "execute_result"
    }
   ],
   "source": [
    "FINAL"
   ]
  },
  {
   "cell_type": "code",
   "execution_count": 87,
   "metadata": {
    "collapsed": true
   },
   "outputs": [],
   "source": [
    "from sklearn.feature_extraction.text import TfidfTransformer, TfidfVectorizer\n",
    "tf_vectorizer = TfidfVectorizer(stop_words=stop, ngram_range=(1, 2))"
   ]
  },
  {
   "cell_type": "code",
   "execution_count": 93,
   "metadata": {
    "collapsed": false
   },
   "outputs": [
    {
     "data": {
      "text/plain": [
       "(3434, 21521)"
      ]
     },
     "execution_count": 93,
     "metadata": {},
     "output_type": "execute_result"
    }
   ],
   "source": [
    "X_train_vector = tf_vectorizer.fit_transform(FINAL.sentence)\n",
    "X_train_vector.shape"
   ]
  },
  {
   "cell_type": "code",
   "execution_count": 100,
   "metadata": {
    "collapsed": false
   },
   "outputs": [
    {
     "data": {
      "text/plain": [
       "array([ 0.,  0.,  0., ...,  0.,  0.,  0.])"
      ]
     },
     "execution_count": 100,
     "metadata": {},
     "output_type": "execute_result"
    }
   ],
   "source": [
    "X_train_vector.toarray()[0]"
   ]
  },
  {
   "cell_type": "code",
   "execution_count": 101,
   "metadata": {
    "collapsed": true
   },
   "outputs": [],
   "source": [
    "from sklearn.preprocessing import LabelEncoder\n",
    "le = LabelEncoder()\n",
    "\n",
    "y = le.fit_transform(FINAL.attitude)"
   ]
  },
  {
   "cell_type": "code",
   "execution_count": 104,
   "metadata": {
    "collapsed": false
   },
   "outputs": [],
   "source": [
    "Xtr, Xval, ytr, yval  = train_test_split(X_train_vector, y, test_size=0.30, random_state=42)"
   ]
  },
  {
   "cell_type": "code",
   "execution_count": 110,
   "metadata": {
    "collapsed": true
   },
   "outputs": [],
   "source": [
    "from sklearn.ensemble import RandomForestClassifier\n",
    "from sklearn.linear_model import SGDClassifier"
   ]
  },
  {
   "cell_type": "code",
   "execution_count": 111,
   "metadata": {
    "collapsed": true
   },
   "outputs": [],
   "source": [
    "skf = StratifiedKFold(n_splits=5, random_state=7, shuffle=True)"
   ]
  },
  {
   "cell_type": "code",
   "execution_count": 112,
   "metadata": {
    "code_folding": [
     0
    ],
    "collapsed": true
   },
   "outputs": [],
   "source": [
    "def cross_val_predict_proba(estimator, X_train, y_train, skf):\n",
    "    \n",
    "    prediction = np.zeros([y_train.shape[0], len(np.unique(y_train))])\n",
    "    for train_idx, test_idx in skf.split(X_train, y_train):\n",
    "        X_train_part, X_test = X_train[train_idx, :], X_train[test_idx,:]\n",
    "        y_train_part, y_test = y_train[train_idx], y_train[test_idx]\n",
    "        \n",
    "        estimator.fit(X_train_part, y_train_part)\n",
    "        \n",
    "        prediction[test_idx, :] = estimator.predict_proba(X_test)\n",
    "        \n",
    "    return prediction"
   ]
  },
  {
   "cell_type": "code",
   "execution_count": 202,
   "metadata": {
    "collapsed": true
   },
   "outputs": [],
   "source": [
    "logit_sgd = SGDClassifier(loss='log', random_state=42, class_weight=\"balanced\")\n",
    "rf = RandomForestClassifier(random_state=42, n_jobs=-1, class_weight=\"balanced\")"
   ]
  },
  {
   "cell_type": "code",
   "execution_count": 203,
   "metadata": {
    "collapsed": true
   },
   "outputs": [],
   "source": [
    "logit_sgd_oof_pred = cross_val_predict_proba(logit_sgd, Xtr, ytr, skf)"
   ]
  },
  {
   "cell_type": "code",
   "execution_count": 174,
   "metadata": {
    "collapsed": true
   },
   "outputs": [],
   "source": [
    "rf_oof_pred = cross_val_predict_proba(rf, Xtr, ytr, skf)"
   ]
  },
  {
   "cell_type": "code",
   "execution_count": 175,
   "metadata": {
    "collapsed": true
   },
   "outputs": [],
   "source": [
    "def get_accuracy_score(predictions, y):\n",
    "    return round(accuracy_score(map(np.argmax, predictions), y), 3)"
   ]
  },
  {
   "cell_type": "code",
   "execution_count": 176,
   "metadata": {
    "collapsed": false
   },
   "outputs": [
    {
     "data": {
      "text/plain": [
       "0.809"
      ]
     },
     "execution_count": 176,
     "metadata": {},
     "output_type": "execute_result"
    }
   ],
   "source": [
    "get_accuracy_score(logit_sgd_oof_pred, ytr)"
   ]
  },
  {
   "cell_type": "code",
   "execution_count": 178,
   "metadata": {
    "collapsed": true
   },
   "outputs": [],
   "source": [
    "logit_sgd.fit(Xtr, ytr)\n",
    "logit_sgd_valid_pred = logit_sgd.predict_proba(Xval)"
   ]
  },
  {
   "cell_type": "code",
   "execution_count": 179,
   "metadata": {
    "code_folding": [
     0
    ],
    "collapsed": true
   },
   "outputs": [],
   "source": [
    "def visualize_coefficients(coef, feature_names, title, plot_num, n_top_features=25):\n",
    "    interesting_coefficients = np.argsort(coef)[-n_top_features:]\n",
    "    \n",
    "    plt.figure(figsize=(15, 15))\n",
    "    plt.subplot(510+plot_num+1)\n",
    "    colors = [\"blue\" for c in coef[interesting_coefficients]]\n",
    "    plt.bar(np.arange(n_top_features), coef[interesting_coefficients], color=colors)\n",
    "    feature_names = np.array(feature_names)\n",
    "    plt.xticks(np.arange(1, 1 + n_top_features), \n",
    "               feature_names[interesting_coefficients], rotation=60, ha=\"right\", fontsize=14);\n",
    "    plt.title(title)"
   ]
  },
  {
   "cell_type": "code",
   "execution_count": 180,
   "metadata": {
    "collapsed": false
   },
   "outputs": [
    {
     "data": {
      "image/png": "[encoded data removed]",
      "text/plain": [
       "<matplotlib.figure.Figure at 0x117449510>"
      ]
     },
     "metadata": {},
     "output_type": "display_data"
    },
    {
     "data": {
      "image/png": "[encoded data removed]",
      "text/plain": [
       "<matplotlib.figure.Figure at 0x1846cb7d0>"
      ]
     },
     "metadata": {},
     "output_type": "display_data"
    },
    {
     "data": {
      "image/png": "[encoded data removed]",
      "text/plain": [
       "<matplotlib.figure.Figure at 0x18499d810>"
      ]
     },
     "metadata": {},
     "output_type": "display_data"
    }
   ],
   "source": [
    "titles = [\"neg\", \"neutral\", 'pos']\n",
    "for i in range(3):\n",
    "    visualize_coefficients(logit_sgd.coef_[i,:], tf_vectorizer.get_feature_names(),\n",
    "                      title=titles[i], plot_num=i)"
   ]
  },
  {
   "cell_type": "code",
   "execution_count": 183,
   "metadata": {
    "collapsed": false
   },
   "outputs": [],
   "source": [
    "\n",
    "rf_params_dist_grid = {\n",
    "    'max_depth': np.arange(8,20, 2),\n",
    "    'min_samples_leaf': np.arange(3,10,2)\n",
    "}\n",
    "rf_params_fixed = {\n",
    "    'random_state': 7,\n",
    "    'n_estimators': 300,\n",
    "    \"max_features\":0.2,\n",
    "    'n_jobs': -1\n",
    " \n",
    "}"
   ]
  },
  {
   "cell_type": "code",
   "execution_count": 184,
   "metadata": {
    "collapsed": false
   },
   "outputs": [
    {
     "name": "stdout",
     "output_type": "stream",
     "text": [
      "Total number of combinations: 24\n"
     ]
    }
   ],
   "source": [
    "combinations = np.prod([len(i) for i in rf_params_dist_grid.values()])\n",
    "print('Total number of combinations: {}'.format(combinations))"
   ]
  },
  {
   "cell_type": "code",
   "execution_count": 187,
   "metadata": {
    "collapsed": true
   },
   "outputs": [],
   "source": [
    "\n",
    "rf_grid = RandomizedSearchCV(\n",
    "    estimator = RandomForestClassifier(**rf_params_fixed),\n",
    "    param_distributions = rf_params_dist_grid,\n",
    "    cv = skf,\n",
    "    scoring='f1_micro',\n",
    "    n_iter = 10,\n",
    "    verbose=True\n",
    ")"
   ]
  },
  {
   "cell_type": "code",
   "execution_count": 188,
   "metadata": {
    "collapsed": true
   },
   "outputs": [
    {
     "name": "stdout",
     "output_type": "stream",
     "text": [
      "Fitting 5 folds for each of 10 candidates, totalling 50 fits\n"
     ]
    },
    {
     "name": "stderr",
     "output_type": "stream",
     "text": [
      "[Parallel(n_jobs=1)]: Done  50 out of  50 | elapsed:  5.4min finished\n"
     ]
    },
    {
     "name": "stdout",
     "output_type": "stream",
     "text": [
      "CPU times: user 15min 58s, sys: 10.9 s, total: 16min 8s\n",
      "Wall time: 5min 31s\n"
     ]
    },
    {
     "data": {
      "text/plain": [
       "RandomizedSearchCV(cv=StratifiedKFold(n_splits=5, random_state=7, shuffle=True),\n",
       "          error_score='raise',\n",
       "          estimator=RandomForestClassifier(bootstrap=True, class_weight=None, criterion='gini',\n",
       "            max_depth=None, max_features=0.2, max_leaf_nodes=None,\n",
       "            min_impurity_split=1e-07, min_samples_leaf=1,\n",
       "            min_samples_split=2, min_weight_fraction_leaf=0.0,\n",
       "            n_estimators=300, n_jobs=-1, oob_score=False, random_state=7,\n",
       "            verbose=0, warm_start=False),\n",
       "          fit_params={}, iid=True, n_iter=10, n_jobs=1,\n",
       "          param_distributions={'max_depth': array([ 8, 10, 12, 14, 16, 18]), 'min_samples_leaf': array([3, 5, 7, 9])},\n",
       "          pre_dispatch='2*n_jobs', random_state=None, refit=True,\n",
       "          return_train_score=True, scoring='f1_micro', verbose=True)"
      ]
     },
     "execution_count": 188,
     "metadata": {},
     "output_type": "execute_result"
    }
   ],
   "source": [
    "%%time\n",
    "rf_grid.fit(Xtr, ytr)"
   ]
  },
  {
   "cell_type": "code",
   "execution_count": 189,
   "metadata": {
    "collapsed": true
   },
   "outputs": [
    {
     "data": {
      "text/plain": [
       "RandomForestClassifier(bootstrap=True, class_weight=None, criterion='gini',\n",
       "            max_depth=18, max_features=0.2, max_leaf_nodes=None,\n",
       "            min_impurity_split=1e-07, min_samples_leaf=9,\n",
       "            min_samples_split=2, min_weight_fraction_leaf=0.0,\n",
       "            n_estimators=300, n_jobs=-1, oob_score=False, random_state=7,\n",
       "            verbose=0, warm_start=False)"
      ]
     },
     "execution_count": 189,
     "metadata": {},
     "output_type": "execute_result"
    }
   ],
   "source": [
    "rf_grid.best_estimator_"
   ]
  },
  {
   "cell_type": "code",
   "execution_count": 190,
   "metadata": {
    "code_folding": [
     1,
     7
    ],
    "collapsed": false
   },
   "outputs": [],
   "source": [
    "from sklearn.learning_curve import validation_curve,learning_curve\n",
    "def plot_with_std(x, data, **kwargs):\n",
    "        mu, std = data.mean(1), data.std(1)\n",
    "        lines = plt.plot(x, mu, '-', **kwargs)\n",
    "        plt.fill_between(x, mu - std, mu + std, edgecolor='none',\n",
    "                         facecolor=lines[0].get_color(), alpha=0.2)\n",
    "        \n",
    "def plot_learning_curve(clf, X, y, scoring, cv=5):\n",
    " \n",
    "    train_sizes = np.linspace(0.05, 1, 20)\n",
    "    n_train, val_train, val_test = learning_curve(clf,\n",
    "                                                  X, y, train_sizes, cv=cv,\n",
    "                                                  scoring=scoring, n_jobs = -1)\n",
    "    plot_with_std(n_train, val_train, label='training scores', c='green')\n",
    "    plot_with_std(n_train, val_test, label='validation scores', c='red')\n",
    "    plt.xlabel('Training Set Size'); plt.ylabel(scoring)\n",
    "    plt.legend()"
   ]
  },
  {
   "cell_type": "code",
   "execution_count": 192,
   "metadata": {
    "collapsed": false
   },
   "outputs": [
    {
     "name": "stdout",
     "output_type": "stream",
     "text": [
      "Accuracy: 0.904\n"
     ]
    }
   ],
   "source": [
    "print('Accuracy: {}'.format(round(rf_grid.best_score_, 3)))"
   ]
  },
  {
   "cell_type": "code",
   "execution_count": 195,
   "metadata": {
    "collapsed": false
   },
   "outputs": [
    {
     "data": {
      "text/plain": [
       "RandomForestClassifier(bootstrap=True, class_weight=None, criterion='gini',\n",
       "            max_depth=18, max_features='auto', max_leaf_nodes=None,\n",
       "            min_impurity_split=1e-07, min_samples_leaf=9,\n",
       "            min_samples_split=2, min_weight_fraction_leaf=0.0,\n",
       "            n_estimators=200, n_jobs=-1, oob_score=True, random_state=7,\n",
       "            verbose=0, warm_start=False)"
      ]
     },
     "execution_count": 195,
     "metadata": {},
     "output_type": "execute_result"
    }
   ],
   "source": [
    "rfc = RandomForestClassifier(random_state=7, oob_score=True, n_estimators=200, n_jobs=-1, **rf_grid.best_params_)\n",
    "rfc.fit(Xtr, ytr)"
   ]
  },
  {
   "cell_type": "code",
   "execution_count": 196,
   "metadata": {
    "collapsed": false
   },
   "outputs": [
    {
     "name": "stdout",
     "output_type": "stream",
     "text": [
      "Accuracy: 0.904\n"
     ]
    }
   ],
   "source": [
    "print('Accuracy: {}'.format(round(rfc.oob_score_, 3)))"
   ]
  },
  {
   "cell_type": "code",
   "execution_count": 197,
   "metadata": {
    "collapsed": true
   },
   "outputs": [],
   "source": [
    "names = tf_vectorizer.get_feature_names()\n",
    "importance = rfc.feature_importances_\n",
    "\n",
    "feature_weights = pd.DataFrame(importance, index = names, columns = ['importance'])\n",
    "feature_weights.sort_values(by=['importance'], ascending=False, inplace=True)"
   ]
  },
  {
   "cell_type": "code",
   "execution_count": 198,
   "metadata": {
    "collapsed": true
   },
   "outputs": [
    {
     "data": {
      "image/png": "[encoded data removed]",
      "text/plain": [
       "<matplotlib.figure.Figure at 0x1849aebd0>"
      ]
     },
     "metadata": {},
     "output_type": "display_data"
    }
   ],
   "source": [
    "fig, ax = plt.subplots()\n",
    "feature_weights.head(40).plot(ax=ax,kind = 'bar', figsize=(20, 10), fontsize=14)\n",
    "fig.autofmt_xdate()\n",
    "plt.title(\"Random forest feature importance\");"
   ]
  },
  {
   "cell_type": "code",
   "execution_count": 199,
   "metadata": {
    "code_folding": [
     0
    ],
    "collapsed": true
   },
   "outputs": [],
   "source": [
    "def plot_confusion(predictions, title):\n",
    "    array = confusion_matrix(yval, predictions)\n",
    "    df_cm = pd.DataFrame(array, index = [i for i in titles],\n",
    "                      columns = [i for i in titles])\n",
    "    plt.figure(figsize = (7,7))\n",
    "    sns.heatmap(df_cm, annot=True, fmt='g', cbar=False)\n",
    "    plt.title(title);"
   ]
  },
  {
   "cell_type": "code",
   "execution_count": 201,
   "metadata": {
    "collapsed": false
   },
   "outputs": [
    {
     "data": {
      "image/png": "[encoded data removed]",
      "text/plain": [
       "<matplotlib.figure.Figure at 0x186b74dd0>"
      ]
     },
     "metadata": {},
     "output_type": "display_data"
    }
   ],
   "source": [
    "plot_confusion(map(np.argmax, logit_sgd.predict_proba(Xval)), \"Logit regression\")"
   ]
  },
  {
   "cell_type": "code",
   "execution_count": 210,
   "metadata": {
    "collapsed": false
   },
   "outputs": [],
   "source": [
    "answ = pd.DataFrame(le.inverse_transform(map(np.argmax, logit_sgd.predict_proba(Xval))))\n",
    "answ.columns = [\"prediction\"]\n",
    "answ[\"true\"] = le.inverse_transform(yval)"
   ]
  },
  {
   "cell_type": "code",
   "execution_count": 222,
   "metadata": {
    "collapsed": false
   },
   "outputs": [],
   "source": [
    "answ = pd.DataFrame(le.inverse_transform(map(np.argmax, logit_sgd.predict_proba(X_train_vector))))\n",
    "answ.columns = [\"prediction\"]"
   ]
  },
  {
   "cell_type": "code",
   "execution_count": 223,
   "metadata": {
    "collapsed": true
   },
   "outputs": [],
   "source": [
    "FINAL[\"prediction\"] = answ"
   ]
  },
  {
   "cell_type": "code",
   "execution_count": 225,
   "metadata": {
    "collapsed": true
   },
   "outputs": [
    {
     "data": {
      "text/html": [
       "<div>\n",
       "<style>\n",
       "    .dataframe thead tr:only-child th {\n",
       "        text-align: right;\n",
       "    }\n",
       "\n",
       "    .dataframe thead th {\n",
       "        text-align: left;\n",
       "    }\n",
       "\n",
       "    .dataframe tbody tr th {\n",
       "        vertical-align: top;\n",
       "    }\n",
       "</style>\n",
       "<table border=\"1\" class=\"dataframe\">\n",
       "  <thead>\n",
       "    <tr style=\"text-align: right;\">\n",
       "      <th></th>\n",
       "      <th>pair</th>\n",
       "      <th>sentence</th>\n",
       "      <th>attitude</th>\n",
       "      <th>prediction</th>\n",
       "    </tr>\n",
       "  </thead>\n",
       "  <tbody>\n",
       "    <tr>\n",
       "      <th>5</th>\n",
       "      <td>author,балтика</td>\n",
       "      <td>при это москва неоднократно подчеркивать что о...</td>\n",
       "      <td>neutral</td>\n",
       "      <td>neg</td>\n",
       "    </tr>\n",
       "    <tr>\n",
       "      <th>55</th>\n",
       "      <td>али хаменей,иран</td>\n",
       "      <td>аятолла али хаменей давать оценка иранокорейск...</td>\n",
       "      <td>neutral</td>\n",
       "      <td>neg</td>\n",
       "    </tr>\n",
       "    <tr>\n",
       "      <th>56</th>\n",
       "      <td>али хаменей,ири</td>\n",
       "      <td>аятолла али хаменей давать оценка иранокорейск...</td>\n",
       "      <td>neutral</td>\n",
       "      <td>neg</td>\n",
       "    </tr>\n",
       "    <tr>\n",
       "      <th>57</th>\n",
       "      <td>али хаменей,республика корея</td>\n",
       "      <td>аятолла али хаменей давать оценка иранокорейск...</td>\n",
       "      <td>neutral</td>\n",
       "      <td>neg</td>\n",
       "    </tr>\n",
       "    <tr>\n",
       "      <th>64</th>\n",
       "      <td>балтика,нато</td>\n",
       "      <td>при это москва неоднократно подчеркивать что о...</td>\n",
       "      <td>neutral</td>\n",
       "      <td>neg</td>\n",
       "    </tr>\n",
       "    <tr>\n",
       "      <th>65</th>\n",
       "      <td>балтика,россия</td>\n",
       "      <td>при это москва неоднократно подчеркивать что о...</td>\n",
       "      <td>neutral</td>\n",
       "      <td>neg</td>\n",
       "    </tr>\n",
       "    <tr>\n",
       "      <th>113</th>\n",
       "      <td>иран,resalat</td>\n",
       "      <td>аятолла али хаменей давать оценка иранокорейск...</td>\n",
       "      <td>neutral</td>\n",
       "      <td>neg</td>\n",
       "    </tr>\n",
       "    <tr>\n",
       "      <th>115</th>\n",
       "      <td>иран,россия</td>\n",
       "      <td>иран и сирия входить в один группа квалификаци...</td>\n",
       "      <td>neutral</td>\n",
       "      <td>pos</td>\n",
       "    </tr>\n",
       "    <tr>\n",
       "      <th>116</th>\n",
       "      <td>иран,сирия</td>\n",
       "      <td>иран и сирия входить в один группа квалификаци...</td>\n",
       "      <td>pos</td>\n",
       "      <td>pos</td>\n",
       "    </tr>\n",
       "    <tr>\n",
       "      <th>117</th>\n",
       "      <td>иран,сша</td>\n",
       "      <td>аятолла али хаменей давать оценка иранокорейск...</td>\n",
       "      <td>neg</td>\n",
       "      <td>neg</td>\n",
       "    </tr>\n",
       "    <tr>\n",
       "      <th>119</th>\n",
       "      <td>ири,иран</td>\n",
       "      <td>аятолла али хаменей давать оценка иранокорейск...</td>\n",
       "      <td>neutral</td>\n",
       "      <td>neg</td>\n",
       "    </tr>\n",
       "    <tr>\n",
       "      <th>120</th>\n",
       "      <td>ири,республика корея</td>\n",
       "      <td>аятолла али хаменей давать оценка иранокорейск...</td>\n",
       "      <td>neutral</td>\n",
       "      <td>neg</td>\n",
       "    </tr>\n",
       "    <tr>\n",
       "      <th>121</th>\n",
       "      <td>ири,сша</td>\n",
       "      <td>аятолла али хаменей давать оценка иранокорейск...</td>\n",
       "      <td>neutral</td>\n",
       "      <td>neg</td>\n",
       "    </tr>\n",
       "    <tr>\n",
       "      <th>125</th>\n",
       "      <td>карлуш кейруш,иран</td>\n",
       "      <td>иран и сирия входить в один группа квалификаци...</td>\n",
       "      <td>neutral</td>\n",
       "      <td>pos</td>\n",
       "    </tr>\n",
       "    <tr>\n",
       "      <th>131</th>\n",
       "      <td>корейский полуостров,khorasan</td>\n",
       "      <td>москва и пекин осуждать инициатива сша по разм...</td>\n",
       "      <td>neutral</td>\n",
       "      <td>neg</td>\n",
       "    </tr>\n",
       "    <tr>\n",
       "      <th>132</th>\n",
       "      <td>корейский полуостров,северный корея</td>\n",
       "      <td>москва и пекин осуждать инициатива сша по разм...</td>\n",
       "      <td>neutral</td>\n",
       "      <td>neg</td>\n",
       "    </tr>\n",
       "    <tr>\n",
       "      <th>145</th>\n",
       "      <td>москва,балтика</td>\n",
       "      <td>при это москва неоднократно подчеркивать что о...</td>\n",
       "      <td>neutral</td>\n",
       "      <td>neg</td>\n",
       "    </tr>\n",
       "    <tr>\n",
       "      <th>150</th>\n",
       "      <td>москва,корейский полуостров</td>\n",
       "      <td>москва и пекин осуждать инициатива сша по разм...</td>\n",
       "      <td>neutral</td>\n",
       "      <td>neg</td>\n",
       "    </tr>\n",
       "    <tr>\n",
       "      <th>152</th>\n",
       "      <td>москва,нато</td>\n",
       "      <td>при это москва неоднократно подчеркивать что о...</td>\n",
       "      <td>neutral</td>\n",
       "      <td>neg</td>\n",
       "    </tr>\n",
       "    <tr>\n",
       "      <th>154</th>\n",
       "      <td>москва,пекин</td>\n",
       "      <td>москва и пекин осуждать инициатива сша по разм...</td>\n",
       "      <td>neutral</td>\n",
       "      <td>neg</td>\n",
       "    </tr>\n",
       "    <tr>\n",
       "      <th>156</th>\n",
       "      <td>москва,россия</td>\n",
       "      <td>при это москва неоднократно подчеркивать что о...</td>\n",
       "      <td>neutral</td>\n",
       "      <td>neg</td>\n",
       "    </tr>\n",
       "    <tr>\n",
       "      <th>159</th>\n",
       "      <td>москва,сша</td>\n",
       "      <td>москва и пекин осуждать инициатива сша по разм...</td>\n",
       "      <td>neutral</td>\n",
       "      <td>neg</td>\n",
       "    </tr>\n",
       "    <tr>\n",
       "      <th>165</th>\n",
       "      <td>нато,россия</td>\n",
       "      <td>при это москва неоднократно подчеркивать что о...</td>\n",
       "      <td>neg</td>\n",
       "      <td>neg</td>\n",
       "    </tr>\n",
       "    <tr>\n",
       "      <th>175</th>\n",
       "      <td>пекин,корейский полуостров</td>\n",
       "      <td>москва и пекин осуждать инициатива сша по разм...</td>\n",
       "      <td>neutral</td>\n",
       "      <td>neg</td>\n",
       "    </tr>\n",
       "    <tr>\n",
       "      <th>176</th>\n",
       "      <td>пекин,северный корея</td>\n",
       "      <td>москва и пекин осуждать инициатива сша по разм...</td>\n",
       "      <td>neutral</td>\n",
       "      <td>neg</td>\n",
       "    </tr>\n",
       "    <tr>\n",
       "      <th>177</th>\n",
       "      <td>пекин,сша</td>\n",
       "      <td>москва и пекин осуждать инициатива сша по разм...</td>\n",
       "      <td>neutral</td>\n",
       "      <td>neg</td>\n",
       "    </tr>\n",
       "    <tr>\n",
       "      <th>185</th>\n",
       "      <td>республика корея,resalat</td>\n",
       "      <td>аятолла али хаменей давать оценка иранокорейск...</td>\n",
       "      <td>neutral</td>\n",
       "      <td>neg</td>\n",
       "    </tr>\n",
       "    <tr>\n",
       "      <th>186</th>\n",
       "      <td>республика корея,иран</td>\n",
       "      <td>аятолла али хаменей давать оценка иранокорейск...</td>\n",
       "      <td>neutral</td>\n",
       "      <td>neg</td>\n",
       "    </tr>\n",
       "    <tr>\n",
       "      <th>187</th>\n",
       "      <td>республика корея,сша</td>\n",
       "      <td>аятолла али хаменей давать оценка иранокорейск...</td>\n",
       "      <td>neutral</td>\n",
       "      <td>neg</td>\n",
       "    </tr>\n",
       "    <tr>\n",
       "      <th>194</th>\n",
       "      <td>россия,иран</td>\n",
       "      <td>иран и сирия входить в один группа квалификаци...</td>\n",
       "      <td>neutral</td>\n",
       "      <td>pos</td>\n",
       "    </tr>\n",
       "    <tr>\n",
       "      <th>...</th>\n",
       "      <td>...</td>\n",
       "      <td>...</td>\n",
       "      <td>...</td>\n",
       "      <td>...</td>\n",
       "    </tr>\n",
       "    <tr>\n",
       "      <th>3326</th>\n",
       "      <td>украина,запад</td>\n",
       "      <td>после то как 2014 год кризис на украина перера...</td>\n",
       "      <td>neutral</td>\n",
       "      <td>neg</td>\n",
       "    </tr>\n",
       "    <tr>\n",
       "      <th>3328</th>\n",
       "      <td>украина,пайетт</td>\n",
       "      <td>вдобавок виктория нуланд регулярно посещать ук...</td>\n",
       "      <td>neutral</td>\n",
       "      <td>pos</td>\n",
       "    </tr>\n",
       "    <tr>\n",
       "      <th>3329</th>\n",
       "      <td>украина,россия</td>\n",
       "      <td>после то как 2014 год кризис на украина перера...</td>\n",
       "      <td>neg</td>\n",
       "      <td>neg</td>\n",
       "    </tr>\n",
       "    <tr>\n",
       "      <th>3333</th>\n",
       "      <td>филип бридлать,россия</td>\n",
       "      <td>как сказ натовский генерал филип бридлать росс...</td>\n",
       "      <td>neg</td>\n",
       "      <td>neg</td>\n",
       "    </tr>\n",
       "    <tr>\n",
       "      <th>3354</th>\n",
       "      <td>author,соединять штат</td>\n",
       "      <td>и не случайно путин становиться проявлять бесп...</td>\n",
       "      <td>neutral</td>\n",
       "      <td>pos</td>\n",
       "    </tr>\n",
       "    <tr>\n",
       "      <th>3355</th>\n",
       "      <td>author,столтенберг</td>\n",
       "      <td>вспоминать о свой миролюбивый корень в область...</td>\n",
       "      <td>neg</td>\n",
       "      <td>neg</td>\n",
       "    </tr>\n",
       "    <tr>\n",
       "      <th>3357</th>\n",
       "      <td>author,украина</td>\n",
       "      <td>и не случайно путин становиться проявлять бесп...</td>\n",
       "      <td>neutral</td>\n",
       "      <td>pos</td>\n",
       "    </tr>\n",
       "    <tr>\n",
       "      <th>3359</th>\n",
       "      <td>author,штайнмайер</td>\n",
       "      <td>министр иностранный дело франквальтер штайнмай...</td>\n",
       "      <td>pos</td>\n",
       "      <td>neg</td>\n",
       "    </tr>\n",
       "    <tr>\n",
       "      <th>3378</th>\n",
       "      <td>кремль,нато</td>\n",
       "      <td>хотя эстония латвия литва и польша не чувствов...</td>\n",
       "      <td>neutral</td>\n",
       "      <td>neg</td>\n",
       "    </tr>\n",
       "    <tr>\n",
       "      <th>3379</th>\n",
       "      <td>кремль,путин</td>\n",
       "      <td>хотя эстония латвия литва и польша не чувствов...</td>\n",
       "      <td>neutral</td>\n",
       "      <td>neg</td>\n",
       "    </tr>\n",
       "    <tr>\n",
       "      <th>3384</th>\n",
       "      <td>латвия,кремль</td>\n",
       "      <td>хотя эстония латвия литва и польша не чувствов...</td>\n",
       "      <td>neg</td>\n",
       "      <td>neg</td>\n",
       "    </tr>\n",
       "    <tr>\n",
       "      <th>3385</th>\n",
       "      <td>латвия,литва</td>\n",
       "      <td>хотя эстония латвия литва и польша не чувствов...</td>\n",
       "      <td>neutral</td>\n",
       "      <td>neg</td>\n",
       "    </tr>\n",
       "    <tr>\n",
       "      <th>3388</th>\n",
       "      <td>литва,кремль</td>\n",
       "      <td>хотя эстония латвия литва и польша не чувствов...</td>\n",
       "      <td>neg</td>\n",
       "      <td>neg</td>\n",
       "    </tr>\n",
       "    <tr>\n",
       "      <th>3390</th>\n",
       "      <td>литва,нато</td>\n",
       "      <td>хотя эстония латвия литва и польша не чувствов...</td>\n",
       "      <td>neutral</td>\n",
       "      <td>neg</td>\n",
       "    </tr>\n",
       "    <tr>\n",
       "      <th>3399</th>\n",
       "      <td>нато,путин</td>\n",
       "      <td>хотя эстония латвия литва и польша не чувствов...</td>\n",
       "      <td>neutral</td>\n",
       "      <td>neg</td>\n",
       "    </tr>\n",
       "    <tr>\n",
       "      <th>3404</th>\n",
       "      <td>польша,кремль</td>\n",
       "      <td>хотя эстония латвия литва и польша не чувствов...</td>\n",
       "      <td>neg</td>\n",
       "      <td>neg</td>\n",
       "    </tr>\n",
       "    <tr>\n",
       "      <th>3405</th>\n",
       "      <td>польша,нато</td>\n",
       "      <td>хотя эстония латвия литва и польша не чувствов...</td>\n",
       "      <td>neutral</td>\n",
       "      <td>neg</td>\n",
       "    </tr>\n",
       "    <tr>\n",
       "      <th>3406</th>\n",
       "      <td>польша,путин</td>\n",
       "      <td>хотя эстония латвия литва и польша не чувствов...</td>\n",
       "      <td>neutral</td>\n",
       "      <td>neg</td>\n",
       "    </tr>\n",
       "    <tr>\n",
       "      <th>3408</th>\n",
       "      <td>путин,севастополь</td>\n",
       "      <td>и не случайно путин становиться проявлять бесп...</td>\n",
       "      <td>neutral</td>\n",
       "      <td>pos</td>\n",
       "    </tr>\n",
       "    <tr>\n",
       "      <th>3409</th>\n",
       "      <td>путин,соединять штат</td>\n",
       "      <td>и не случайно путин становиться проявлять бесп...</td>\n",
       "      <td>neutral</td>\n",
       "      <td>pos</td>\n",
       "    </tr>\n",
       "    <tr>\n",
       "      <th>3410</th>\n",
       "      <td>путин,украина</td>\n",
       "      <td>и не случайно путин становиться проявлять бесп...</td>\n",
       "      <td>neutral</td>\n",
       "      <td>pos</td>\n",
       "    </tr>\n",
       "    <tr>\n",
       "      <th>3415</th>\n",
       "      <td>севастополь,нато</td>\n",
       "      <td>и не случайно путин становиться проявлять бесп...</td>\n",
       "      <td>neutral</td>\n",
       "      <td>pos</td>\n",
       "    </tr>\n",
       "    <tr>\n",
       "      <th>3416</th>\n",
       "      <td>севастополь,соединять штат</td>\n",
       "      <td>и не случайно путин становиться проявлять бесп...</td>\n",
       "      <td>neutral</td>\n",
       "      <td>pos</td>\n",
       "    </tr>\n",
       "    <tr>\n",
       "      <th>3417</th>\n",
       "      <td>севастополь,украина</td>\n",
       "      <td>и не случайно путин становиться проявлять бесп...</td>\n",
       "      <td>neutral</td>\n",
       "      <td>pos</td>\n",
       "    </tr>\n",
       "    <tr>\n",
       "      <th>3418</th>\n",
       "      <td>соединять штат,нато</td>\n",
       "      <td>и не случайно путин становиться проявлять бесп...</td>\n",
       "      <td>neutral</td>\n",
       "      <td>pos</td>\n",
       "    </tr>\n",
       "    <tr>\n",
       "      <th>3419</th>\n",
       "      <td>соединять штат,украина</td>\n",
       "      <td>и не случайно путин становиться проявлять бесп...</td>\n",
       "      <td>pos</td>\n",
       "      <td>pos</td>\n",
       "    </tr>\n",
       "    <tr>\n",
       "      <th>3423</th>\n",
       "      <td>украина,нато</td>\n",
       "      <td>и не случайно путин становиться проявлять бесп...</td>\n",
       "      <td>neutral</td>\n",
       "      <td>pos</td>\n",
       "    </tr>\n",
       "    <tr>\n",
       "      <th>3430</th>\n",
       "      <td>штайнмайер,нато</td>\n",
       "      <td>министр иностранный дело франквальтер штайнмай...</td>\n",
       "      <td>neg</td>\n",
       "      <td>neg</td>\n",
       "    </tr>\n",
       "    <tr>\n",
       "      <th>3431</th>\n",
       "      <td>эстония,латвия</td>\n",
       "      <td>хотя эстония латвия литва и польша не чувствов...</td>\n",
       "      <td>neutral</td>\n",
       "      <td>neg</td>\n",
       "    </tr>\n",
       "    <tr>\n",
       "      <th>3432</th>\n",
       "      <td>эстония,литва</td>\n",
       "      <td>хотя эстония латвия литва и польша не чувствов...</td>\n",
       "      <td>neutral</td>\n",
       "      <td>neg</td>\n",
       "    </tr>\n",
       "  </tbody>\n",
       "</table>\n",
       "<p>587 rows × 4 columns</p>\n",
       "</div>"
      ],
      "text/plain": [
       "                                     pair  \\\n",
       "5                          author,балтика   \n",
       "55                       али хаменей,иран   \n",
       "56                        али хаменей,ири   \n",
       "57           али хаменей,республика корея   \n",
       "64                           балтика,нато   \n",
       "65                         балтика,россия   \n",
       "113                          иран,resalat   \n",
       "115                           иран,россия   \n",
       "116                            иран,сирия   \n",
       "117                              иран,сша   \n",
       "119                              ири,иран   \n",
       "120                  ири,республика корея   \n",
       "121                               ири,сша   \n",
       "125                    карлуш кейруш,иран   \n",
       "131         корейский полуостров,khorasan   \n",
       "132   корейский полуостров,северный корея   \n",
       "145                        москва,балтика   \n",
       "150           москва,корейский полуостров   \n",
       "152                           москва,нато   \n",
       "154                          москва,пекин   \n",
       "156                         москва,россия   \n",
       "159                            москва,сша   \n",
       "165                           нато,россия   \n",
       "175            пекин,корейский полуостров   \n",
       "176                  пекин,северный корея   \n",
       "177                             пекин,сша   \n",
       "185              республика корея,resalat   \n",
       "186                 республика корея,иран   \n",
       "187                  республика корея,сша   \n",
       "194                           россия,иран   \n",
       "...                                   ...   \n",
       "3326                        украина,запад   \n",
       "3328                       украина,пайетт   \n",
       "3329                       украина,россия   \n",
       "3333                филип бридлать,россия   \n",
       "3354                author,соединять штат   \n",
       "3355                   author,столтенберг   \n",
       "3357                       author,украина   \n",
       "3359                    author,штайнмайер   \n",
       "3378                          кремль,нато   \n",
       "3379                         кремль,путин   \n",
       "3384                        латвия,кремль   \n",
       "3385                         латвия,литва   \n",
       "3388                         литва,кремль   \n",
       "3390                           литва,нато   \n",
       "3399                           нато,путин   \n",
       "3404                        польша,кремль   \n",
       "3405                          польша,нато   \n",
       "3406                         польша,путин   \n",
       "3408                    путин,севастополь   \n",
       "3409                 путин,соединять штат   \n",
       "3410                        путин,украина   \n",
       "3415                     севастополь,нато   \n",
       "3416           севастополь,соединять штат   \n",
       "3417                  севастополь,украина   \n",
       "3418                  соединять штат,нато   \n",
       "3419               соединять штат,украина   \n",
       "3423                         украина,нато   \n",
       "3430                      штайнмайер,нато   \n",
       "3431                       эстония,латвия   \n",
       "3432                        эстония,литва   \n",
       "\n",
       "                                               sentence attitude prediction  \n",
       "5     при это москва неоднократно подчеркивать что о...  neutral        neg  \n",
       "55    аятолла али хаменей давать оценка иранокорейск...  neutral        neg  \n",
       "56    аятолла али хаменей давать оценка иранокорейск...  neutral        neg  \n",
       "57    аятолла али хаменей давать оценка иранокорейск...  neutral        neg  \n",
       "64    при это москва неоднократно подчеркивать что о...  neutral        neg  \n",
       "65    при это москва неоднократно подчеркивать что о...  neutral        neg  \n",
       "113   аятолла али хаменей давать оценка иранокорейск...  neutral        neg  \n",
       "115   иран и сирия входить в один группа квалификаци...  neutral        pos  \n",
       "116   иран и сирия входить в один группа квалификаци...      pos        pos  \n",
       "117   аятолла али хаменей давать оценка иранокорейск...      neg        neg  \n",
       "119   аятолла али хаменей давать оценка иранокорейск...  neutral        neg  \n",
       "120   аятолла али хаменей давать оценка иранокорейск...  neutral        neg  \n",
       "121   аятолла али хаменей давать оценка иранокорейск...  neutral        neg  \n",
       "125   иран и сирия входить в один группа квалификаци...  neutral        pos  \n",
       "131   москва и пекин осуждать инициатива сша по разм...  neutral        neg  \n",
       "132   москва и пекин осуждать инициатива сша по разм...  neutral        neg  \n",
       "145   при это москва неоднократно подчеркивать что о...  neutral        neg  \n",
       "150   москва и пекин осуждать инициатива сша по разм...  neutral        neg  \n",
       "152   при это москва неоднократно подчеркивать что о...  neutral        neg  \n",
       "154   москва и пекин осуждать инициатива сша по разм...  neutral        neg  \n",
       "156   при это москва неоднократно подчеркивать что о...  neutral        neg  \n",
       "159   москва и пекин осуждать инициатива сша по разм...  neutral        neg  \n",
       "165   при это москва неоднократно подчеркивать что о...      neg        neg  \n",
       "175   москва и пекин осуждать инициатива сша по разм...  neutral        neg  \n",
       "176   москва и пекин осуждать инициатива сша по разм...  neutral        neg  \n",
       "177   москва и пекин осуждать инициатива сша по разм...  neutral        neg  \n",
       "185   аятолла али хаменей давать оценка иранокорейск...  neutral        neg  \n",
       "186   аятолла али хаменей давать оценка иранокорейск...  neutral        neg  \n",
       "187   аятолла али хаменей давать оценка иранокорейск...  neutral        neg  \n",
       "194   иран и сирия входить в один группа квалификаци...  neutral        pos  \n",
       "...                                                 ...      ...        ...  \n",
       "3326  после то как 2014 год кризис на украина перера...  neutral        neg  \n",
       "3328  вдобавок виктория нуланд регулярно посещать ук...  neutral        pos  \n",
       "3329  после то как 2014 год кризис на украина перера...      neg        neg  \n",
       "3333  как сказ натовский генерал филип бридлать росс...      neg        neg  \n",
       "3354  и не случайно путин становиться проявлять бесп...  neutral        pos  \n",
       "3355  вспоминать о свой миролюбивый корень в область...      neg        neg  \n",
       "3357  и не случайно путин становиться проявлять бесп...  neutral        pos  \n",
       "3359  министр иностранный дело франквальтер штайнмай...      pos        neg  \n",
       "3378  хотя эстония латвия литва и польша не чувствов...  neutral        neg  \n",
       "3379  хотя эстония латвия литва и польша не чувствов...  neutral        neg  \n",
       "3384  хотя эстония латвия литва и польша не чувствов...      neg        neg  \n",
       "3385  хотя эстония латвия литва и польша не чувствов...  neutral        neg  \n",
       "3388  хотя эстония латвия литва и польша не чувствов...      neg        neg  \n",
       "3390  хотя эстония латвия литва и польша не чувствов...  neutral        neg  \n",
       "3399  хотя эстония латвия литва и польша не чувствов...  neutral        neg  \n",
       "3404  хотя эстония латвия литва и польша не чувствов...      neg        neg  \n",
       "3405  хотя эстония латвия литва и польша не чувствов...  neutral        neg  \n",
       "3406  хотя эстония латвия литва и польша не чувствов...  neutral        neg  \n",
       "3408  и не случайно путин становиться проявлять бесп...  neutral        pos  \n",
       "3409  и не случайно путин становиться проявлять бесп...  neutral        pos  \n",
       "3410  и не случайно путин становиться проявлять бесп...  neutral        pos  \n",
       "3415  и не случайно путин становиться проявлять бесп...  neutral        pos  \n",
       "3416  и не случайно путин становиться проявлять бесп...  neutral        pos  \n",
       "3417  и не случайно путин становиться проявлять бесп...  neutral        pos  \n",
       "3418  и не случайно путин становиться проявлять бесп...  neutral        pos  \n",
       "3419  и не случайно путин становиться проявлять бесп...      pos        pos  \n",
       "3423  и не случайно путин становиться проявлять бесп...  neutral        pos  \n",
       "3430  министр иностранный дело франквальтер штайнмай...      neg        neg  \n",
       "3431  хотя эстония латвия литва и польша не чувствов...  neutral        neg  \n",
       "3432  хотя эстония латвия литва и польша не чувствов...  neutral        neg  \n",
       "\n",
       "[587 rows x 4 columns]"
      ]
     },
     "execution_count": 225,
     "metadata": {},
     "output_type": "execute_result"
    }
   ],
   "source": [
    "FINAL[FINAL.prediction!=\"neutral\"]"
   ]
  },
  {
   "cell_type": "code",
   "execution_count": 284,
   "metadata": {
    "code_folding": [
     4,
     9,
     35
    ],
    "collapsed": true
   },
   "outputs": [],
   "source": [
    "def writeAnswer(answer, number):\n",
    "    answer.to_csv(\"test/Answers/art{}.opin.txt\".format(number), header=None, index=None, sep=' ', mode='a')\n",
    "\n",
    "def loadText(number):\n",
    "    with open(\"test/art{}.txt\".format(number)) as f:\n",
    "        d = f.read()\n",
    "    return d\n",
    "\n",
    "def transformAnnotation(number):\n",
    "    \"\"\"\n",
    "    Given number loads txt file with annotation \n",
    "    Returns DataFrame with transformed annotation\n",
    "    \"\"\"\n",
    "    with open(\"test/art{}.ann\".format(number)) as f:\n",
    "        d = f.read()\n",
    "\n",
    "    d = d.split(\"\\n\")\n",
    "\n",
    "    for i in range(len(d)):\n",
    "        d[i] = d[i].split(\"\\t\")\n",
    "\n",
    "    d = pd.DataFrame(d)\n",
    "    d.drop([0], axis=1, inplace=True)\n",
    "    d.dropna(inplace=True)\n",
    "    d = pd.concat([d, pd.DataFrame(d[1].apply(lambda x: x.split()).tolist())], axis=1)\n",
    "    d.columns = [\"to_delete\", \"entity\", \"entity_car\", \"pos_1\", \"pos_2\"]\n",
    "    d.drop([\"to_delete\"], axis=1, inplace=True)\n",
    "    d[\"entity\"] = d[\"entity\"].apply(lambda x: x.strip(\"\\r\"))\n",
    "    d[\"entity\"] = d[\"entity\"].apply(lambda x: x.decode(\"utf8\"))\n",
    "    \n",
    "    d = d[~d.entity.isin([\"Unknown\", \"Author\"])].entity.reset_index(drop=True)\n",
    "    \n",
    "    return d\n",
    "\n",
    "def getPairs(ENTITIES, text, n_entities=2):\n",
    "    N_ENTITIES = n_entities # глобальный параметр, сколько сущностей будем перебирать для текущей\n",
    "    PAIRS = pd.DataFrame(columns=[\"entity_1\", \"entity_2\", \"sentence\"])\n",
    "    ent_1_number = 0\n",
    "    while ent_1_number < len(ENTITIES):\n",
    "\n",
    "        entity_1 = ENTITIES.entity[ent_1_number]\n",
    "        for ent_2_number in range(N_ENTITIES):\n",
    "            try:            \n",
    "                ent_2_number = ent_1_number+ent_2_number+1\n",
    "                entity_2 = ENTITIES.entity[ent_2_number]\n",
    "                par_dist, sent_dist = distances(ent_1_number, ent_2_number)\n",
    "                if lemmatize(entity_1) != lemmatize(entity_2): # не равны друг другу\n",
    "                    if par_dist == 0: # в одном абзаце\n",
    "                        if sent_dist == 0: # в одном предложении\n",
    "                            PAIRS = PAIRS.append({\"entity_1\":entity_1,\n",
    "                                                  \"entity_2\":entity_2,\n",
    "                                                  \"sentence\":text[ENTITIES.loc[ent_1_number].paragraph][ENTITIES.loc[ent_1_number].sentence]},\n",
    "                                                  ignore_index=True)\n",
    "                    else:\n",
    "                        #ent_1_number+=1\n",
    "                        PAIRS = PAIRS.append({\"entity_1\":\"Author\",\n",
    "                                                  \"entity_2\":entity_1,\n",
    "                                                  \"sentence\":text[ENTITIES.loc[ent_1_number].paragraph][ENTITIES.loc[ent_1_number].sentence]},\n",
    "                                                  ignore_index=True)\n",
    "            except:\n",
    "                continue\n",
    "        ent_1_number += 1\n",
    "        \n",
    "    return PAIRS.drop_duplicates()"
   ]
  },
  {
   "cell_type": "code",
   "execution_count": 283,
   "metadata": {
    "code_folding": [
     0
    ],
    "collapsed": false
   },
   "outputs": [
    {
     "name": "stdout",
     "output_type": "stream",
     "text": [
      "no file number 45\n",
      "(46, (0, 2))\n",
      "(47, (0, 2))\n",
      "(48, (1, 2))\n",
      "(49, (0, 2))\n",
      "(50, (0, 2))\n",
      "(51, (0, 2))\n",
      "(52, (2, 2))\n",
      "(53, (0, 2))\n",
      "(54, (0, 2))\n",
      "(55, (5, 2))\n",
      "(56, (0, 2))\n",
      "(57, (4, 2))\n",
      "(58, (0, 2))\n",
      "(59, (0, 2))\n",
      "(60, (7, 2))\n",
      "(61, (7, 2))\n",
      "(62, (0, 2))\n",
      "(63, (2, 2))\n",
      "(64, (0, 2))\n",
      "(65, (6, 2))\n",
      "(66, (0, 2))\n",
      "(67, (4, 2))\n",
      "(68, (0, 2))\n",
      "(69, (7, 2))\n",
      "no file number 70\n",
      "no file number 71\n",
      "(72, (1, 2))\n",
      "(73, (0, 2))\n",
      "(74, (0, 2))\n",
      "(75, (5, 2))\n"
     ]
    }
   ],
   "source": [
    "for number in range(45, 76):\n",
    "    try:\n",
    "        n_entities=3\n",
    "\n",
    "        \"\"\"Loaging stuff\"\"\"\n",
    "\n",
    "        text = Text_to_dict(number)\n",
    "        entities = transformAnnotation(number)\n",
    "        ENTITIES = getEntityPositions(text=text, entities=entities)\n",
    "\n",
    "        \"\"\"Calculating stuff\"\"\"\n",
    "\n",
    "        PAIRS = getPairs(ENTITIES=ENTITIES, text=text, n_entities=n_entities)\n",
    "\n",
    "        PAIRS[\"pair\"] = PAIRS.entity_1.apply(lambda x: lemmatize(x).lower())+\",\"+\\\n",
    "                        PAIRS.entity_2.apply(lambda x: lemmatize(x).lower())\n",
    "        PAIRS[\"pair\"] = PAIRS[\"pair\"].apply(lambda x: x.encode(\"utf8\"))\n",
    "\n",
    "        PAIRS.drop([\"entity_1\", \"entity_2\"], axis=1, inplace=True)\n",
    "        PAIRS = PAIRS.groupby([\"pair\"]).sum().reset_index()\n",
    "\n",
    "        X_test_vector = tf_vectorizer.transform(PAIRS.sentence)\n",
    "        answ = pd.DataFrame(le.inverse_transform(map(np.argmax, logit_sgd.predict_proba(X_test_vector))))\n",
    "        answ = pd.concat([PAIRS.pair, answ], axis=1)\n",
    "        answ.columns = [\"pair\", \"prediction\"]\n",
    "        answ = answ[answ.prediction!=\"neutral\"]\n",
    "        print(number, answ.shape)\n",
    "        writeAnswer(answer=answ, number=number)\n",
    "    except:\n",
    "        print(\"no file number {}\".format(number))"
   ]
  },
  {
   "cell_type": "code",
   "execution_count": 270,
   "metadata": {
    "collapsed": false
   },
   "outputs": [],
   "source": []
  },
  {
   "cell_type": "code",
   "execution_count": null,
   "metadata": {
    "collapsed": true
   },
   "outputs": [],
   "source": []
  }
 ],
 "metadata": {
  "anaconda-cloud": {},
  "kernelspec": {
   "display_name": "Python 2",
   "language": "python",
   "name": "python2"
  },
  "language_info": {
   "codemirror_mode": {
    "name": "ipython",
    "version": 2
   },
   "file_extension": ".py",
   "mimetype": "text/x-python",
   "name": "python",
   "nbconvert_exporter": "python",
   "pygments_lexer": "ipython2",
   "version": "2.7.12"
  }
 },
 "nbformat": 4,
 "nbformat_minor": 0
}
