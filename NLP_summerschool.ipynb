{
 "cells": [
  {
   "cell_type": "markdown",
   "metadata": {},
   "source": [
    "# HSE Summer School NLP&DA"
   ]
  },
  {
   "cell_type": "code",
   "execution_count": 1,
   "metadata": {
    "collapsed": false
   },
   "outputs": [],
   "source": [
    "import pandas as pd\n",
    "import numpy as np\n",
    "import matplotlib.pyplot as plt\n",
    "import seaborn as sns\n",
    "%matplotlib inline"
   ]
  },
  {
   "cell_type": "markdown",
   "metadata": {},
   "source": [
    "## Utility functions"
   ]
  },
  {
   "cell_type": "code",
   "execution_count": 26,
   "metadata": {
    "code_folding": [
     0,
     5,
     10,
     32
    ],
    "collapsed": false
   },
   "outputs": [],
   "source": [
    "def loadAnswer(number):\n",
    "    with open(\"Texts/art{}.opin.txt\".format(number)) as f:\n",
    "        d = f.read()\n",
    "    return d\n",
    "\n",
    "def loadText(number):\n",
    "    with open(\"Texts/art{}.txt\".format(number)) as f:\n",
    "        d = f.read()\n",
    "    return d\n",
    "\n",
    "def transformAnnotation(number):\n",
    "    \"\"\"\n",
    "    Given number loads txt file with annotation \n",
    "    Returns DataFrame with transformed annotation\n",
    "    \"\"\"\n",
    "    with open(\"Texts/art{}.ann\".format(number)) as f:\n",
    "        d = f.read()\n",
    "\n",
    "    d = d.split(\"\\n\")\n",
    "\n",
    "    for i in range(len(d)):\n",
    "        d[i] = d[i].split(\"\\t\")\n",
    "\n",
    "    d = pd.DataFrame(d)\n",
    "    d.drop([0], axis=1, inplace=True)\n",
    "    d = pd.concat([d, pd.DataFrame(d[1].apply(lambda x: x.split()).tolist())], axis=1)\n",
    "    d.columns = [\"to_delete\", \"entity\", \"entity_car\", \"pos_1\", \"pos_2\"]\n",
    "    d.drop([\"to_delete\"], axis=1, inplace=True)\n",
    "    d[\"entity\"] = d[\"entity\"].apply(lambda x: x.strip(\"\\r\"))\n",
    "    return d\n",
    "\n",
    "\n",
    "def transformAnswer(number):\n",
    "    \"\"\"\n",
    "    Given number loads txt file with answer \n",
    "    Returns DataFrame with transformed answer\n",
    "    \"\"\"\n",
    "    answ = loadAnswer(number)\n",
    "    answ = answ.split(\"\\n\")\n",
    "\n",
    "    for i in range(len(answ)):\n",
    "        answ[i] = answ[i].split(\",\")\n",
    "\n",
    "    answ = pd.DataFrame(answ)\n",
    "    answ.columns = [\"entity_1\", \"entity_2\", \"attitude\", \"time\"]\n",
    "    answ.dropna(inplace=True)\n",
    "    answ.time = answ.time.apply(lambda x: x.strip(\"\\r\"))\n",
    "    \n",
    "    return answ"
   ]
  },
  {
   "cell_type": "markdown",
   "metadata": {},
   "source": [
    "![](http://cathyreisenwitz.com/wp-content/uploads/2016/01/no.jpg)"
   ]
  },
  {
   "cell_type": "code",
   "execution_count": 245,
   "metadata": {
    "collapsed": true
   },
   "outputs": [],
   "source": [
    "d = transformAnnotation(2)\n",
    "a = transformAnswer(2)"
   ]
  },
  {
   "cell_type": "code",
   "execution_count": 246,
   "metadata": {
    "collapsed": false
   },
   "outputs": [
    {
     "data": {
      "text/html": [
       "<div>\n",
       "<style>\n",
       "    .dataframe thead tr:only-child th {\n",
       "        text-align: right;\n",
       "    }\n",
       "\n",
       "    .dataframe thead th {\n",
       "        text-align: left;\n",
       "    }\n",
       "\n",
       "    .dataframe tbody tr th {\n",
       "        vertical-align: top;\n",
       "    }\n",
       "</style>\n",
       "<table border=\"1\" class=\"dataframe\">\n",
       "  <thead>\n",
       "    <tr style=\"text-align: right;\">\n",
       "      <th></th>\n",
       "      <th>entity</th>\n",
       "      <th>entity_car</th>\n",
       "      <th>pos_1</th>\n",
       "      <th>pos_2</th>\n",
       "    </tr>\n",
       "  </thead>\n",
       "  <tbody>\n",
       "    <tr>\n",
       "      <th>0</th>\n",
       "      <td>Author</td>\n",
       "      <td>PER</td>\n",
       "      <td>1</td>\n",
       "      <td>7</td>\n",
       "    </tr>\n",
       "    <tr>\n",
       "      <th>2</th>\n",
       "      <td>Author</td>\n",
       "      <td>PER</td>\n",
       "      <td>22</td>\n",
       "      <td>28</td>\n",
       "    </tr>\n",
       "    <tr>\n",
       "      <th>4</th>\n",
       "      <td>Россия</td>\n",
       "      <td>LOC</td>\n",
       "      <td>39</td>\n",
       "      <td>45</td>\n",
       "    </tr>\n",
       "    <tr>\n",
       "      <th>5</th>\n",
       "      <td>Сирии</td>\n",
       "      <td>LOC</td>\n",
       "      <td>72</td>\n",
       "      <td>77</td>\n",
       "    </tr>\n",
       "    <tr>\n",
       "      <th>6</th>\n",
       "      <td>Author</td>\n",
       "      <td>PER</td>\n",
       "      <td>81</td>\n",
       "      <td>87</td>\n",
       "    </tr>\n",
       "  </tbody>\n",
       "</table>\n",
       "</div>"
      ],
      "text/plain": [
       "   entity entity_car pos_1 pos_2\n",
       "0  Author        PER     1     7\n",
       "2  Author        PER    22    28\n",
       "4  Россия        LOC    39    45\n",
       "5   Сирии        LOC    72    77\n",
       "6  Author        PER    81    87"
      ]
     },
     "execution_count": 246,
     "metadata": {},
     "output_type": "execute_result"
    }
   ],
   "source": [
    "d[d.entity!=\"Unknown\"].head()"
   ]
  },
  {
   "cell_type": "code",
   "execution_count": 249,
   "metadata": {
    "collapsed": false
   },
   "outputs": [
    {
     "data": {
      "text/html": [
       "<div>\n",
       "<style>\n",
       "    .dataframe thead tr:only-child th {\n",
       "        text-align: right;\n",
       "    }\n",
       "\n",
       "    .dataframe thead th {\n",
       "        text-align: left;\n",
       "    }\n",
       "\n",
       "    .dataframe tbody tr th {\n",
       "        vertical-align: top;\n",
       "    }\n",
       "</style>\n",
       "<table border=\"1\" class=\"dataframe\">\n",
       "  <thead>\n",
       "    <tr style=\"text-align: right;\">\n",
       "      <th></th>\n",
       "      <th>entity_1</th>\n",
       "      <th>entity_2</th>\n",
       "      <th>attitude</th>\n",
       "      <th>time</th>\n",
       "    </tr>\n",
       "  </thead>\n",
       "  <tbody>\n",
       "    <tr>\n",
       "      <th>0</th>\n",
       "      <td>Сирия</td>\n",
       "      <td>Россия</td>\n",
       "      <td>pos</td>\n",
       "      <td>current</td>\n",
       "    </tr>\n",
       "    <tr>\n",
       "      <th>1</th>\n",
       "      <td>США</td>\n",
       "      <td>Асад</td>\n",
       "      <td>neg</td>\n",
       "      <td>past</td>\n",
       "    </tr>\n",
       "    <tr>\n",
       "      <th>2</th>\n",
       "      <td>Москва</td>\n",
       "      <td>Израиль</td>\n",
       "      <td>pos</td>\n",
       "      <td>current</td>\n",
       "    </tr>\n",
       "    <tr>\n",
       "      <th>3</th>\n",
       "      <td>Израиль</td>\n",
       "      <td>Россия</td>\n",
       "      <td>pos</td>\n",
       "      <td>current</td>\n",
       "    </tr>\n",
       "    <tr>\n",
       "      <th>4</th>\n",
       "      <td>Сирия</td>\n",
       "      <td>Израиль</td>\n",
       "      <td>neg</td>\n",
       "      <td>past</td>\n",
       "    </tr>\n",
       "  </tbody>\n",
       "</table>\n",
       "</div>"
      ],
      "text/plain": [
       "  entity_1  entity_2 attitude      time\n",
       "0    Сирия    Россия      pos   current\n",
       "1      США      Асад      neg      past\n",
       "2   Москва   Израиль      pos   current\n",
       "3  Израиль    Россия      pos   current\n",
       "4    Сирия   Израиль      neg      past"
      ]
     },
     "execution_count": 249,
     "metadata": {},
     "output_type": "execute_result"
    }
   ],
   "source": [
    "a.head()"
   ]
  },
  {
   "cell_type": "code",
   "execution_count": 38,
   "metadata": {
    "collapsed": false
   },
   "outputs": [
    {
     "name": "stdout",
     "output_type": "stream",
     "text": [
      "{Author, Unknown} \r\n",
      "\n",
      "{Author, Unknown} Россия и кратковременный успех в Сирии\r\n",
      "\n",
      "{Author, Unknown} inosmi.ruПосмотреть оригиналапрель 5-го, 2016\r\n",
      "\n",
      "{Author, Unknown} Россия реализовала свои цели в Сирии, по крайней мере в краткосрочной перспективе. \n",
      "{Author, Unknown} Что будет дальше, пока неясно. \n",
      "{Author, Unknown} Точно можно сказать одно: подавляющее большинство сирийских граждан не смогут забыть российского участия в войне, которая была направлена против всего сирийского народа.\r\n",
      "\r\n",
      "\n",
      "{Author, Unknown} Что касается Москвы, то будущее Сирии пока слабо представляется без участия России, особенно если принять во внимание, что сирийский конфликт имеет три уровня: иранский, американский и израильский.\r\n",
      "\r\n",
      "\n",
      "{Author, Unknown} Иран окончательно смирился с тем, что судьба Башара Асада полностью зависит от решения Кремля. \n",
      "{Author, Unknown} Россия была призвана спасти то, что осталось от алавитского сирийского режима, сохранение которого представляет для Ирана особую важность.\r\n",
      "\r\n",
      "\n",
      "{Author, Unknown} Если бы не военное вмешательство России, то сирийский президент не находился бы до сих пор в Дамаске и не способен был бы проводить выборы, которые по сути предназначены лишь для того, чтобы сказать, что он еще жив и полон сил.\r\n",
      "\r\n",
      "\n",
      "{Author, Unknown} Что касается США, то администрация Барака Обамы решила, что рациональнее всего будет ограничиться простым наблюдением со стороны за процессом раздробления Сирии. \n",
      "{Author, Unknown} Поэтому она возложила ответственность за происходящее на Россию, позволив ей действовать так, как она сочтет нужным. \n",
      "{Author, Unknown} Американская администрация отказалась от прежней позиции, которая заключалась в том, что добиться успеха в войне против ИГИЛ и терроризма в целом не представляется возможным до тех пор, пока Башар Асад находится у власти. \n",
      "{Author, Unknown} Дело в том, что нынешний сирийский режим на протяжении полувека с тех пор, как власть в стране взял в свои руки Хафез Асад (сначала он занимал пост министра обороны страны), в Сирии использовались методы терроризма на государственном уровне и шантажа —на международном уровне. \n",
      "{Author, Unknown} Рано или поздно такие методы обращаются против тех, кто их использует, как и случилось сегодня в Сирии.\r\n",
      "\r\n",
      "\n",
      "{Author, Unknown} На израильском уровне очевидно, что все, что касается сирийского досье, ежедневно координируется между Владимиром Путиным и Биньямином Нетаньяху. \n",
      "{Author, Unknown} Об этом говорит тот факт, что, когда Израиль заявляет, что Голанские высоты навсегда останутся его территорией, со стороны Москвы не следует каких-либо возражений.\r\n",
      "\r\n",
      "\n",
      "{Author, Unknown} Это сегодняшняя реальность, и от нее никуда не деться. \n",
      "{Author, Unknown} Но главное, что сегодня с точностью можно сказать: той Сирии, которую мы все знали, больше не существует. \n",
      "{Author, Unknown} Вопрос в том, на что готова пойти Москва ради обеспечения своих интересов в долгосрочной перспективе, ведь успеха в краткосрочной она уже добилась. \n",
      "{Author, Unknown} Ответ очевиден: долгосрочные интересы Москвы тесно связаны с интересами Израиля в отношении Голанских высот.\r\n",
      "\r\n",
      "\n",
      "{Author, Unknown} Надо сказать, что Голаны со времен их захвата Израилем в 1967 году были неким страховым полюсом для сирийского режима. \n",
      "{Author, Unknown} Бывший президент Хафез Асад предпринимал попытки вернуть эти территории Сирии, но безрезультатно. \n",
      "{Author, Unknown} Однако алавитский режим никогда всерьез не планировал возврат этих территорий под свой контроль. \n",
      "{Author, Unknown} Намного выгоднее для него было, чтобы Голанские высоты оставались предметом торговли с Израилем. \n",
      "{Author, Unknown} С одной стороны, это было важно для сохранения режима в принципе, с другой — чтобы передать власть в стране нынешнему президенту Башару Асаду. \n",
      "{Author, Unknown} О том, что сирийские правители не планировали бороться за высоты, прекрасно знал Израиль, но продолжал играть в игру противостояния и споров.\r\n",
      "\r\n",
      "\r\n",
      "\n",
      "{Author, Unknown} Один бывший высокопоставленный американский чиновник, наблюдавший в свое время за переговорами (не прямыми) между Хафезом Асадом и Ицхаком Рабином при посредничестве госсекретаря США Уоррена Кристофера, рассказал, что тогда стороны договорились, что оккупированные территории будут возвращены Сирии. \n",
      "{Author, Unknown} Сделка включала в себя все необходимые процедуры, в том числе обмен послами, однако процедура так и не состоялась. \n",
      "{Author, Unknown} Вышеупомянутый американский чиновник сообщил, что в конечном итоге сам Хафез Асад спровоцировал провал мероприятия, так как ему не было выгодно возвращать Голанские высоты — тем самым он лишил бы себя возможности бесконечно торговаться с Израилем по разным вопросам. \n",
      "{Author, Unknown} Хафез Асад побуждал суннитов вести переговоры с израильтянами напрямую. \n",
      "{Author, Unknown} Известные примеры связаны с министром иностранных дел Фаруком Аш-Шараа и начальником генштаба Хикметом Аш-Шахаби. \n",
      "{Author, Unknown} Он специально выдвигал суннитов на первый план, когда дело касалось Израиля. \n",
      "{Author, Unknown} Таким образом Хафез Асад демонстрировал, что алавиты отвергают любые возможности договариваться с израильтянами, тогда как «предатели» сунниты идут на сделку с оккупантами.\r\n",
      "\n",
      "{Author, Unknown} Сегодня Россия поняла, что срок израильского страхового полиса, выданного сирийскому режиму Израилем, истекает. \n",
      "{Author, Unknown} Поэтому в настоящий момент мы наблюдаем процесс передела сфер влияния между Россией и Израилем. \n",
      "{Author, Unknown} Разумеется, тут нельзя не учитывать позицию Ирана, который ставит в приоритет оставление Асада у власти в Дамаске, пусть даже визуально, так как это важно для Тегерана прежде всего с идеологической точки зрения.\r\n",
      "\r\n",
      "\n",
      "{Author, Unknown} Однако непонятно, как будет развиваться ситуация дальше. \n",
      "{Author, Unknown} Каким образом Россия сможет одновременно предоставить необходимые гарантии Израилю, тогда как Иран настаивает на продолжении передачи «Хезболле» ракет определенного типа?\r\n",
      "\r\n",
      "\n",
      "{Author, Unknown} Надо отметить, что до настоящего момента «тройке» России — Израиля — Ирана удавалось находить приемлемую форму сосуществования. \n",
      "{Author, Unknown} Однако сохранится ли подобная форма в долгосрочной перспективе? \n",
      "{Author, Unknown} Ведь Израиль отказался продлевать страховку сирийскому режиму, и режиму придется с этим смириться, а также принять независимый курдский регион на севере страны.\r\n",
      "\r\n",
      "\n",
      "{Author, Unknown} Есть два фактора, которые будут препятствовать тому, чтобы эти три государства продолжали сосуществовать относительно мирно. \n",
      "{Author, Unknown} Во-первых, Турция не захочет мириться с новым курдским государственным образованием на севере Сирии и посчитает его прямой угрозой в свой адрес.\r\n",
      "\r\n",
      "\n",
      "{Author, Unknown} Что касается второго фактора, то он заключается в том, что сирийский народ протестовал и сражался с преступным режимом не для России, Израиля, Ирана и Турции. \n",
      "{Author, Unknown} Несмотря на очевидную дряблость оппозиции, народ не собирается отступать. \n",
      "{Author, Unknown} Народ сказал свое окончательное слово, заявив, что режиму не быть, и что нет иного варианта для решения или урегулирования конфликта, кроме ухода Башара Асада с поста президента страны.\r\n",
      "\r\n",
      "\n",
      "{Author, Unknown} Россия победила в краткосрочной перспективе. \n",
      "{Author, Unknown} Она имеет в Сирии двух сильнейших союзников — Израиль и Иран. \n",
      "{Author, Unknown} Но что она будет делать дальше, когда народ не захочет отказываться от своих требований в отношении Асада? \n",
      "{Author, Unknown} Ограничится ли она прибрежной территорией, где война сейчас в полном разгаре?\r\n",
      "\r\n",
      "\n",
      "{Author, Unknown} А Израиль спокойно наблюдает со своих «высот» под названием Голаны на происходящие кровавые события в стране, куда с головой погрузился Иран…\r\n",
      "\r\n",
      "\n",
      "{Author, Unknown} \r\n",
      "\n"
     ]
    }
   ],
   "source": [
    "print(loadText(2))"
   ]
  },
  {
   "cell_type": "code",
   "execution_count": 220,
   "metadata": {
    "collapsed": false
   },
   "outputs": [],
   "source": []
  },
  {
   "cell_type": "code",
   "execution_count": 239,
   "metadata": {
    "collapsed": false
   },
   "outputs": [],
   "source": []
  },
  {
   "cell_type": "code",
   "execution_count": 225,
   "metadata": {
    "collapsed": false
   },
   "outputs": [],
   "source": []
  },
  {
   "cell_type": "code",
   "execution_count": 227,
   "metadata": {
    "collapsed": false
   },
   "outputs": [],
   "source": []
  },
  {
   "cell_type": "code",
   "execution_count": 234,
   "metadata": {
    "collapsed": false
   },
   "outputs": [],
   "source": []
  },
  {
   "cell_type": "code",
   "execution_count": 236,
   "metadata": {
    "collapsed": false
   },
   "outputs": [],
   "source": []
  },
  {
   "cell_type": "code",
   "execution_count": null,
   "metadata": {
    "collapsed": true
   },
   "outputs": [],
   "source": []
  }
 ],
 "metadata": {
  "kernelspec": {
   "display_name": "Python [Root]",
   "language": "python",
   "name": "Python [Root]"
  },
  "language_info": {
   "codemirror_mode": {
    "name": "ipython",
    "version": 2
   },
   "file_extension": ".py",
   "mimetype": "text/x-python",
   "name": "python",
   "nbconvert_exporter": "python",
   "pygments_lexer": "ipython2",
   "version": "2.7.12"
  }
 },
 "nbformat": 4,
 "nbformat_minor": 0
}
